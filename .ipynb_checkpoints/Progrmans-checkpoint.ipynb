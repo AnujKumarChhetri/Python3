{
 "cells": [
  {
   "cell_type": "markdown",
   "metadata": {},
   "source": [
    "# Game theory in balanced ternary numbr system"
   ]
  },
  {
   "cell_type": "code",
   "execution_count": 2,
   "metadata": {},
   "outputs": [
    {
     "name": "stdout",
     "output_type": "stream",
     "text": [
      "enter the number you wants123\n",
      "1ZZZZ0\n"
     ]
    }
   ],
   "source": [
    "number = int(input(\"enter the number you wants\"))\n",
    "\n",
    "def ternury(number):\n",
    "    reminder = []\n",
    "    qutient = number\n",
    "    while(qutient != 1):\n",
    "        reminder.append(str(qutient%3))\n",
    "        qutient = qutient//3\n",
    "    reminder.append('1')\n",
    "    return(reminder)\n",
    "number = ternury(number)\n",
    "try:\n",
    "    for x in range(len(number)):\n",
    "        if number[x]=='2':\n",
    "            number[x] = 'Z'\n",
    "            number[x+1] = str(int(number[x+1]) +1)\n",
    "except IndexError:\n",
    "    number.append('1')  #try to understand with the example of 123\n",
    "number.reverse()\n",
    "number = ''.join(number)\n",
    "print(number)"
   ]
  },
  {
   "cell_type": "code",
   "execution_count": null,
   "metadata": {},
   "outputs": [],
   "source": [
    "def prime(n,m):\n",
    "    return([x for x in range(n, m+1) if all(x % y != 0 for y in range(2, x))])\n",
    "a,b = int(input('a\\t-')),int(input('b\\t-'))\n",
    "print([x for x in prime(a,b) if a % x == 0 and b % x == 0])"
   ]
  }
 ],
 "metadata": {
  "kernelspec": {
   "display_name": "Python 3",
   "language": "python",
   "name": "python3"
  },
  "language_info": {
   "codemirror_mode": {
    "name": "ipython",
    "version": 3
   },
   "file_extension": ".py",
   "mimetype": "text/x-python",
   "name": "python",
   "nbconvert_exporter": "python",
   "pygments_lexer": "ipython3",
   "version": "3.7.3"
  }
 },
 "nbformat": 4,
 "nbformat_minor": 2
}
