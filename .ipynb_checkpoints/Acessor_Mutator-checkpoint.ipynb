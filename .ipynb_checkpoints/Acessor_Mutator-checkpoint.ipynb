{
 "cells": [
  {
   "cell_type": "markdown",
   "metadata": {},
   "source": [
    "# Acessor and Mutator Method"
   ]
  },
  {
   "cell_type": "code",
   "execution_count": 4,
   "metadata": {},
   "outputs": [
    {
     "data": {
      "text/plain": [
       "\"class Student:\\n    def setName(self,name):\\n        self.name = name\\n    def getName(self):\\n        print(self.name)\\n    def setClass(self,clas):\\n        self.clas = clas\\n    def getClass(self):\\n        print(self.clas)\\nc1 = Student()\\nno_of_students = int(input('Enter the number of Studens'))\\nfor x in range(no_of_students):\\n    c1.setName(input('Enter the name -'))\\n    c1.setClass(input('Enter the class -'))\\n    c1.getName()\\n    c1.getClass()\""
      ]
     },
     "execution_count": 4,
     "metadata": {},
     "output_type": "execute_result"
    }
   ],
   "source": [
    "class Student:\n",
    "    def setName(self,name): #acessor \n",
    "        self.name = name\n",
    "    def getName(self):      #Mutator\n",
    "        print(self.name)\n",
    "    def setClass(self,clas):\n",
    "        self.clas = clas\n",
    "    def getClass(self):\n",
    "        print(self.clas)\n",
    "c1 = Student()\n",
    "no_of_students = int(input('Enter the number of Studens'))\n",
    "for x in range(no_of_students):\n",
    "    c1.setName(input('Enter the name -'))\n",
    "    c1.setClass(input('Enter the class -'))\n",
    "    c1.getName()\n",
    "    c1.getClass()"
   ]
  },
  {
   "cell_type": "code",
   "execution_count": null,
   "metadata": {},
   "outputs": [],
   "source": []
  }
 ],
 "metadata": {
  "kernelspec": {
   "display_name": "Python 3",
   "language": "python",
   "name": "python3"
  },
  "language_info": {
   "codemirror_mode": {
    "name": "ipython",
    "version": 3
   },
   "file_extension": ".py",
   "mimetype": "text/x-python",
   "name": "python",
   "nbconvert_exporter": "python",
   "pygments_lexer": "ipython3",
   "version": "3.7.3"
  }
 },
 "nbformat": 4,
 "nbformat_minor": 2
}
