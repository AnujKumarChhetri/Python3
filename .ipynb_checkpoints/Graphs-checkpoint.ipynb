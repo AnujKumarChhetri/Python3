{
 "cells": [
  {
   "cell_type": "code",
   "execution_count": 36,
   "metadata": {
    "ExecuteTime": {
     "end_time": "2021-08-15T10:05:15.748627Z",
     "start_time": "2021-08-15T10:05:15.729646Z"
    }
   },
   "outputs": [],
   "source": [
    "class Node:\n",
    "    def __init__(self,data):\n",
    "        self.data = data\n",
    "        self.next = None\n",
    "class Queue:\n",
    "    def __init__(self,first_node=None,max_items=None):\n",
    "        self.head = first_node\n",
    "        self.max_items = max_items\n",
    "        self.tail = None\n",
    "        self.len = 0\n",
    "    def enqueue(self,node):\n",
    "        if self.head == None:\n",
    "            node = node\n",
    "            self.head = node\n",
    "            self.tail = node\n",
    "            self.len +=1\n",
    "        elif self.len < self.max_items:\n",
    "            node = node\n",
    "            if self.tail == None:\n",
    "                self.head.next = node\n",
    "                self.tail  = node\n",
    "            else:\n",
    "                temp = self.tail\n",
    "                self.tail.next = node\n",
    "                self.tail = self.tail.next\n",
    "            self.len +=1\n",
    "        else:\n",
    "            raise Exception(\"Queue Memory is Full\")\n",
    "    def dequeue(self):\n",
    "        if self.len == 0:\n",
    "            raise Exception(\"Queue Is emplty\")\n",
    "        else:\n",
    "            deleted_node = self.head\n",
    "            self.head = self.head.next\n",
    "            current = self.head\n",
    "            self.len -=1\n",
    "            return deleted_node\n",
    "    def print_queue(self):\n",
    "        current = self.head\n",
    "        while current != None:\n",
    "            print(current.data.value,end=\",\")\n",
    "            current = current.next\n",
    "        print('\\n')\n",
    "    def __len__(self):\n",
    "        return self.len"
   ]
  },
  {
   "cell_type": "code",
   "execution_count": 38,
   "metadata": {
    "ExecuteTime": {
     "end_time": "2021-08-15T10:06:29.406637Z",
     "start_time": "2021-08-15T10:06:29.379748Z"
    }
   },
   "outputs": [],
   "source": [
    "class Vertex:\n",
    "    \"\"\"Vertex are the point with which edges are connected\"\"\"\n",
    "\n",
    "    def __init__(self, vid, value=None):\n",
    "        self.id = vid\n",
    "        self.value = value\n",
    "        self.visited = False\n",
    "        self.added = False\n",
    "\n",
    "    def get_neighbours(self, nClass):\n",
    "        \"\"\"\n",
    "            Will return a list of all neighbour\n",
    "            like [0,1,1,0,0,0,0]\n",
    "            means A is connected with B,C\n",
    "        \"\"\"\n",
    "        return nClass.adjMaxtrix[self.id]\n",
    "\n",
    "    def get_vertexid(self) -> int:\n",
    "        return self.id\n",
    "\n",
    "    def set_verteId(self, vid):\n",
    "        self.id = vid\n",
    "\n",
    "    def setVisited(self):\n",
    "        self.visited = True\n",
    "\n",
    "\n",
    "def printMatrix(matrix, mlen):\n",
    "    for i in range(mlen):\n",
    "        for j in range(mlen):\n",
    "            print(matrix[i][j], end=\" \")\n",
    "        print()"
   ]
  },
  {
   "cell_type": "code",
   "execution_count": 44,
   "metadata": {
    "ExecuteTime": {
     "end_time": "2021-08-15T10:18:13.514446Z",
     "start_time": "2021-08-15T10:18:13.484526Z"
    }
   },
   "outputs": [],
   "source": [
    "class Graph:\n",
    "    def __init__(self, totalVertex, gtype=False):\n",
    "        self.adjMaxtrix = [[0] * totalVertex for _ in range(totalVertex)]\n",
    "        self.totalVertex = totalVertex\n",
    "        self.vertices = [Vertex(i) for i in range(self.totalVertex)]\n",
    "        self.undirectedGrpah = gtype\n",
    "\n",
    "    def getAdjMatrix(self):\n",
    "        return self.adjMaxtrix\n",
    "\n",
    "    def printAdjMatrix(self):\n",
    "        \"\"\"Call another function to print it in matrix patter and make it Visualize Easlliy\"\"\"\n",
    "        printMatrix(self.adjMaxtrix, self.totalVertex)\n",
    "\n",
    "    def printVertices(self):\n",
    "        print(list(map(lambda x: x.value, self.vertices)))\n",
    "\n",
    "    def set_vertex(self, vertexId, vertexValue):\n",
    "        self.vertices[vertexId].value = vertexValue\n",
    "\n",
    "    def get_vertex(self, vertexVAlue):\n",
    "        try:\n",
    "            return list(filter(lambda x: x.value == vertexVAlue, self.vertices))[0].id\n",
    "        except:\n",
    "            return None\n",
    "\n",
    "    def get_vertex_node(self, vertexVAlue):\n",
    "        try:\n",
    "            return list(filter(lambda x: x.value == vertexVAlue, self.vertices))[0]\n",
    "        except:\n",
    "            return None\n",
    "\n",
    "    def add_edge(self, firstVertex, secondVertex):\n",
    "        findex = self.get_vertex(firstVertex)\n",
    "        sindex = self.get_vertex(secondVertex)\n",
    "        '''For Directed Graph'''\n",
    "        self.adjMaxtrix[findex][sindex] = 1\n",
    "        '''For Undirected Grpah do not add this'''\n",
    "        self.adjMaxtrix[sindex][findex] = 1\n",
    "\n",
    "    def get_neighbours(self, nodeid):\n",
    "        \"\"\"\n",
    "            Will return a list of all neighbour\n",
    "            like [0,1,1,0,0,0,0]\n",
    "            means A is connected with B,C\n",
    "        \"\"\"\n",
    "        return self.adjMaxtrix[nodeid]"
   ]
  },
  {
   "cell_type": "code",
   "execution_count": 4,
   "metadata": {
    "ExecuteTime": {
     "end_time": "2021-08-15T09:35:20.178649Z",
     "start_time": "2021-08-15T09:35:20.154710Z"
    }
   },
   "outputs": [
    {
     "name": "stdout",
     "output_type": "stream",
     "text": [
      "0 1 0 0 0 0 0 0 \n",
      "1 0 1 0 0 0 0 1 \n",
      "0 1 0 1 1 0 0 0 \n",
      "0 0 1 0 0 0 0 0 \n",
      "0 0 1 0 0 1 1 1 \n",
      "0 0 0 0 1 0 0 0 \n",
      "0 0 0 0 1 0 0 0 \n",
      "0 1 0 0 1 0 0 0 \n",
      "['A', 'B', 'C', 'D', 'E', 'F', 'G', 'H']\n"
     ]
    }
   ],
   "source": [
    "g = Graph(8)\n",
    "g.set_vertex(0,'A')\n",
    "g.set_vertex(1,'B')\n",
    "g.set_vertex(2,'C')\n",
    "g.set_vertex(3,'D')\n",
    "g.set_vertex(4,'E')\n",
    "g.set_vertex(5,'F')\n",
    "g.set_vertex(6,'G')\n",
    "g.set_vertex(7,'H')\n",
    "\n",
    "g.add_edge('A','B')\n",
    "g.add_edge('B','C')\n",
    "g.add_edge('B','H')\n",
    "g.add_edge('C','D')\n",
    "g.add_edge('C','E')\n",
    "g.add_edge('E','G')\n",
    "g.add_edge('E','F')\n",
    "g.add_edge('E','H')\n",
    "g.printAdjMatrix()\n",
    "g.printVertices()"
   ]
  },
  {
   "cell_type": "markdown",
   "metadata": {},
   "source": [
    "# Adjaceny List "
   ]
  },
  {
   "cell_type": "code",
   "execution_count": 4,
   "metadata": {
    "ExecuteTime": {
     "end_time": "2021-08-08T09:48:50.642841Z",
     "start_time": "2021-08-08T09:48:50.619906Z"
    }
   },
   "outputs": [
    {
     "data": {
      "text/plain": [
       "'\\nclass Vertex:\\n    #Verted are the point with which edges are connected\\n    def __init__(self,vid,value=None):\\n        self.id  = vid\\n        self.value = value\\n        self.visited = False\\n        self.adjs = {}\\n        self.previous = None\\n    def add_neighbour(self,neighbour,Nclass):\\n        #NClass is neighbour class\\n        pass\\n    def get_neighbours(self,node):\\n        pass\\n    def get_connections(self,NClass):\\n        pass\\n    def get_vertexid(self):\\n        return self.id\\n    def set_verteId(self,vid):\\n        self.id = vid\\n    def setVisited(self):\\n        self.visited = True\\n    def vertex_neighbour(self):\\n        return list(map(lambda x : x,self.adjs))\\n'"
      ]
     },
     "execution_count": 4,
     "metadata": {},
     "output_type": "execute_result"
    }
   ],
   "source": [
    "'''Commentig this as working with previous grpah method for problem like bfs and dfs'''\n",
    "'''\n",
    "class Vertex:\n",
    "    #Verted are the point with which edges are connected\n",
    "    def __init__(self,vid,value=None):\n",
    "        self.id  = vid\n",
    "        self.value = value\n",
    "        self.visited = False\n",
    "        self.adjs = {}\n",
    "        self.previous = None\n",
    "    def add_neighbour(self,neighbour,Nclass):\n",
    "        #NClass is neighbour class\n",
    "        pass\n",
    "    def get_neighbours(self,node):\n",
    "        pass\n",
    "    def get_connections(self,NClass):\n",
    "        pass\n",
    "    def get_vertexid(self):\n",
    "        return self.id\n",
    "    def set_verteId(self,vid):\n",
    "        self.id = vid\n",
    "    def setVisited(self):\n",
    "        self.visited = True\n",
    "    def vertex_neighbour(self):\n",
    "        return list(map(lambda x : x,self.adjs))\n",
    "'''"
   ]
  },
  {
   "cell_type": "code",
   "execution_count": 46,
   "metadata": {
    "ExecuteTime": {
     "end_time": "2021-08-08T09:13:55.833372Z",
     "start_time": "2021-08-08T09:13:55.819411Z"
    }
   },
   "outputs": [],
   "source": [
    "class AdjGrpah:\n",
    "    def __init__(self):\n",
    "        self.vertexDic = {}\n",
    "        self.totalVertex = 0\n",
    "    def add_vertex(self,vid,value):\n",
    "        if not self.vertexDic.get(value,0):\n",
    "            self.vertexDic[value]=Vertex(vid,value)\n",
    "            self.totalVertex +=1\n",
    "    def get_vertex(self,vertex):\n",
    "        return self.vertexDic[vertex].id,self.vertexDic[vertex]\n",
    "    def print_graph(self):\n",
    "        edge = []\n",
    "        for vert in self.vertexDic:\n",
    "            edge.append([self.vertexDic[vert].value,self.vertexDic[vert].vertex_neighbour()])\n",
    "        print(edge)\n",
    "    def add_edge(self,frm,to):\n",
    "        frmid,frmNode = self.get_vertex(frm) \n",
    "        toid,toNode = self.get_vertex(to)\n",
    "        frmNode.adjs[to] = toNode"
   ]
  },
  {
   "cell_type": "code",
   "execution_count": 47,
   "metadata": {
    "ExecuteTime": {
     "end_time": "2021-08-08T09:13:56.200686Z",
     "start_time": "2021-08-08T09:13:56.191712Z"
    }
   },
   "outputs": [
    {
     "name": "stdout",
     "output_type": "stream",
     "text": [
      "[['A', ['B', 'C']], ['B', []], ['C', ['D']], ['D', []]]\n"
     ]
    }
   ],
   "source": [
    "g = AdjGrpah()\n",
    "g.add_vertex(0,'A')\n",
    "g.add_vertex(1,'B')\n",
    "g.add_vertex(2,'C')\n",
    "g.add_vertex(3,'D')\n",
    "g.add_edge(\"A\",\"B\")\n",
    "g.add_edge(\"A\",\"C\")\n",
    "g.add_edge(\"C\",\"D\")\n",
    "g.print_graph()"
   ]
  },
  {
   "cell_type": "markdown",
   "metadata": {},
   "source": [
    "# DFS Trversal In Graph"
   ]
  },
  {
   "cell_type": "code",
   "execution_count": 66,
   "metadata": {
    "ExecuteTime": {
     "end_time": "2021-08-15T09:12:04.721692Z",
     "start_time": "2021-08-15T09:12:04.691772Z"
    }
   },
   "outputs": [
    {
     "name": "stdout",
     "output_type": "stream",
     "text": [
      "0 1 0 0 0 0 0 0 \n",
      "1 0 1 0 0 0 0 1 \n",
      "0 1 0 1 1 0 0 0 \n",
      "0 0 1 0 0 0 0 0 \n",
      "0 0 1 0 0 1 1 1 \n",
      "0 0 0 0 1 0 0 0 \n",
      "0 0 0 0 1 0 0 0 \n",
      "0 1 0 0 1 0 0 0 \n",
      "['A', 'B', 'C', 'D', 'E', 'F', 'G', 'H']\n"
     ]
    },
    {
     "data": {
      "text/plain": [
       "{'A': True,\n",
       " 'B': True,\n",
       " 'C': True,\n",
       " 'D': True,\n",
       " 'E': True,\n",
       " 'F': True,\n",
       " 'G': True,\n",
       " 'H': True}"
      ]
     },
     "execution_count": 66,
     "metadata": {},
     "output_type": "execute_result"
    }
   ],
   "source": [
    "def dfs(self,G,currentNode,visited):\n",
    "    visited[currentNode.value] = True\n",
    "    currentNode.visited = True\n",
    "    for nindex,nbr in enumerate(self.get_neighbours(currentNode.id)):\n",
    "        if nbr != 0 and not self.vertices[nindex].visited:\n",
    "            self.dfs(G,self.vertices[nindex],visited)\n",
    "def DFS(self,G):\n",
    "    visited = {}\n",
    "    for currentNode in G.vertices:\n",
    "        if not currentNode.visited:\n",
    "            self.dfs(G,currentNode,visited)\n",
    "    return visited\n",
    "\n",
    "Graph.DFS = DFS\n",
    "Graph.dfs = dfs\n",
    "g = Graph(8,True)\n",
    "g.set_vertex(0,'A')\n",
    "g.set_vertex(1,'B')\n",
    "g.set_vertex(2,'C')\n",
    "g.set_vertex(3,'D')\n",
    "g.set_vertex(4,'E')\n",
    "g.set_vertex(5,'F')\n",
    "g.set_vertex(6,'G')\n",
    "g.set_vertex(7,'H')\n",
    "\n",
    "g.add_edge('A','B')\n",
    "g.add_edge('B','C')\n",
    "g.add_edge('B','H')\n",
    "g.add_edge('C','D')\n",
    "g.add_edge('C','E')\n",
    "g.add_edge('E','G')\n",
    "g.add_edge('E','F')\n",
    "g.add_edge('E','H')\n",
    "g.printAdjMatrix()\n",
    "g.printVertices()\n",
    "g.DFS(g)"
   ]
  },
  {
   "cell_type": "markdown",
   "metadata": {},
   "source": [
    "# BFS Traversal"
   ]
  },
  {
   "cell_type": "raw",
   "metadata": {},
   "source": [
    "This will work mostly same as the Level Order , So we use Queue as main DS, I have already implemented queue above"
   ]
  },
  {
   "cell_type": "code",
   "execution_count": 43,
   "metadata": {
    "ExecuteTime": {
     "end_time": "2021-08-15T10:14:09.975538Z",
     "start_time": "2021-08-15T10:14:09.934646Z"
    }
   },
   "outputs": [
    {
     "name": "stdout",
     "output_type": "stream",
     "text": [
      "A,\n",
      "\n",
      "B,\n",
      "\n",
      "C,H,\n",
      "\n",
      "H,D,E,\n",
      "\n",
      "D,E,\n",
      "\n",
      "E,\n",
      "\n",
      "F,G,\n",
      "\n",
      "G,\n",
      "\n"
     ]
    },
    {
     "data": {
      "text/plain": [
       "{'A': True,\n",
       " 'B': True,\n",
       " 'C': True,\n",
       " 'H': True,\n",
       " 'D': True,\n",
       " 'E': True,\n",
       " 'F': True,\n",
       " 'G': True}"
      ]
     },
     "execution_count": 43,
     "metadata": {},
     "output_type": "execute_result"
    }
   ],
   "source": [
    "def BFS(self, vert):\n",
    "    visited = {}\n",
    "    currentnode = self.get_vertex_node(vert)\n",
    "    queue = Queue(max_items=8)\n",
    "    if currentnode != None:\n",
    "        # we are wokring with node in queue so used Node class as well here\n",
    "        queue.enqueue(Node(currentnode))\n",
    "        visited[currentnode.value] = True\n",
    "        currentnode.visited = True\n",
    "        currentnode.added = True\n",
    "        while len(queue) != 0:\n",
    "            queue.print_queue()\n",
    "            currentnode = queue.dequeue().data\n",
    "            currentnode.visited = True\n",
    "            for nindex, nbr in enumerate(self.get_neighbours(currentnode.id)):\n",
    "                if nbr != 0 and not self.vertices[nindex].visited and not self.vertices[nindex].added:\n",
    "                    visited[self.vertices[nindex].value] = True\n",
    "                    self.vertices[nindex].added = True\n",
    "                    queue.enqueue(Node(self.vertices[nindex]))\n",
    "    return visited\n",
    "\n",
    "\n",
    "Graph.BFS = BFS\n",
    "g = Graph(8, True)\n",
    "g.set_vertex(0, 'A')\n",
    "g.set_vertex(1, 'B')\n",
    "g.set_vertex(2, 'C')\n",
    "g.set_vertex(3, 'D')\n",
    "g.set_vertex(4, 'E')\n",
    "g.set_vertex(5, 'F')\n",
    "g.set_vertex(6, 'G')\n",
    "g.set_vertex(7, 'H')\n",
    "\n",
    "g.add_edge('A', 'B')\n",
    "g.add_edge('B', 'C')\n",
    "g.add_edge('B', 'H')\n",
    "g.add_edge('C', 'D')\n",
    "g.add_edge('C', 'E')\n",
    "g.add_edge('E', 'G')\n",
    "g.add_edge('E', 'F')\n",
    "g.add_edge('E', 'H')\n",
    "g.BFS(\"A\")"
   ]
  },
  {
   "cell_type": "code",
   "execution_count": null,
   "metadata": {},
   "outputs": [],
   "source": []
  }
 ],
 "metadata": {
  "kernelspec": {
   "display_name": "Python 3",
   "language": "python",
   "name": "python3"
  },
  "language_info": {
   "codemirror_mode": {
    "name": "ipython",
    "version": 3
   },
   "file_extension": ".py",
   "mimetype": "text/x-python",
   "name": "python",
   "nbconvert_exporter": "python",
   "pygments_lexer": "ipython3",
   "version": "3.7.3"
  }
 },
 "nbformat": 4,
 "nbformat_minor": 2
}
