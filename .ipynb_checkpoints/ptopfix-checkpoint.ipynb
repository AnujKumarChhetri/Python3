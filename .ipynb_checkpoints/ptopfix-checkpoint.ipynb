{
 "cells": [
  {
   "cell_type": "markdown",
   "metadata": {},
   "source": [
    "# PREFIX TO POSTFIX\n"
   ]
  },
  {
   "cell_type": "code",
   "execution_count": 1,
   "metadata": {
    "ExecuteTime": {
     "end_time": "2021-05-15T10:07:56.150585Z",
     "start_time": "2021-05-15T10:07:56.113685Z"
    }
   },
   "outputs": [],
   "source": [
    "priority_dic = {\n",
    "    \"(\" : 1,\n",
    "    \")\" : 1,\n",
    "    \"+\" : 3,\n",
    "    \"-\" : 2,\n",
    "    \"*\" : 4,\n",
    "    \"/\" : 5\n",
    "}"
   ]
  },
  {
   "cell_type": "code",
   "execution_count": 2,
   "metadata": {
    "ExecuteTime": {
     "end_time": "2021-05-15T12:03:23.286199Z",
     "start_time": "2021-05-15T12:03:23.257241Z"
    }
   },
   "outputs": [],
   "source": [
    "class Stack:\n",
    "    def __init__(self,first_node,max_items):\n",
    "        self.head = Node(first_node)\n",
    "        self.max_items = max_items\n",
    "        self.len = 1\n",
    "        \n",
    "    def push(self,node):\n",
    "        if self.head == None:\n",
    "            self.head = Node(node)\n",
    "            self.len +=1\n",
    "        elif self.len < self.max_items:\n",
    "            current = self.head\n",
    "            self.head = Node(node)\n",
    "            self.head.next = current\n",
    "            self.len+=1\n",
    "        else:\n",
    "            raise Exception(\"Stack Memory is Full\")\n",
    "            \n",
    "    def pop(self):\n",
    "        if self.len == 0:\n",
    "            return None\n",
    "        else:\n",
    "            self.len -=1\n",
    "            deleted_node = self.head\n",
    "            self.head = self.head.next\n",
    "            current = self.head\n",
    "            return deleted_node\n",
    "            \n",
    "    def __len__(self):\n",
    "        return self.len\n",
    "# stack = Stack(1,6)"
   ]
  },
  {
   "cell_type": "code",
   "execution_count": 5,
   "metadata": {
    "ExecuteTime": {
     "end_time": "2021-05-15T12:05:35.268014Z",
     "start_time": "2021-05-15T12:05:35.251058Z"
    }
   },
   "outputs": [],
   "source": [
    "class Node:\n",
    "    def __init__(self,data):\n",
    "        self.data = data\n",
    "        self.left = None\n",
    "        self.right = None\n",
    "        self.next = None"
   ]
  },
  {
   "cell_type": "code",
   "execution_count": 4,
   "metadata": {
    "ExecuteTime": {
     "end_time": "2021-05-15T12:03:24.260155Z",
     "start_time": "2021-05-15T12:03:24.228239Z"
    }
   },
   "outputs": [],
   "source": [
    "class PtoPConvertor:\n",
    "    def _postfix(self,stack,expression):\n",
    "        postfix = \"\"\n",
    "        for arg in expression:\n",
    "            if arg == \"(\":\n",
    "                stack.push(\"(\")\n",
    "            elif arg == \")\":\n",
    "                while(1):\n",
    "                    pop_item = stack.pop()\n",
    "                    if pop_item != None:\n",
    "                        if pop_item.data == \"(\":\n",
    "                            break\n",
    "                        else:\n",
    "                            postfix += pop_item.data\n",
    "                    else:\n",
    "                        break\n",
    "            elif priority_dic.get(arg,0):\n",
    "                print(arg)\n",
    "                if stack.head.data != \"(\":\n",
    "                    if priority_dic.get(stack.head.data,0) < priority_dic.get(arg,0):\n",
    "                        stack.push(arg)\n",
    "                    elif priority_dic.get(stack.head.data,0) == priority_dic.get(arg,0):\n",
    "                        pop_item = stack.pop()\n",
    "                        stack.push(arg)\n",
    "                        postfix +=pop_item.data\n",
    "                    else:\n",
    "                        print(arg)\n",
    "                        stack.push(arg)\n",
    "                else:\n",
    "                    stack.push(arg)\n",
    "            else:\n",
    "                postfix += arg\n",
    "        return postfix\n",
    "    \n",
    "    def postfix(self,expression):\n",
    "        exp_len = len(expression)\n",
    "        stack = Stack(\"(\",exp_len)\n",
    "        expression += \")\"\n",
    "        print(expression)\n",
    "        return self._postfix(stack,expression)\n",
    "        \n",
    "        \n",
    "        "
   ]
  },
  {
   "cell_type": "code",
   "execution_count": null,
   "metadata": {},
   "outputs": [],
   "source": []
  }
 ],
 "metadata": {
  "kernelspec": {
   "display_name": "Python 3",
   "language": "python",
   "name": "python3"
  },
  "language_info": {
   "codemirror_mode": {
    "name": "ipython",
    "version": 3
   },
   "file_extension": ".py",
   "mimetype": "text/x-python",
   "name": "python",
   "nbconvert_exporter": "python",
   "pygments_lexer": "ipython3",
   "version": "3.7.3"
  }
 },
 "nbformat": 4,
 "nbformat_minor": 2
}
