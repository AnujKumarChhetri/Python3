{
 "cells": [
  {
   "cell_type": "markdown",
   "metadata": {},
   "source": [
    "# 3 index swaping"
   ]
  },
  {
   "cell_type": "code",
   "execution_count": 4,
   "metadata": {},
   "outputs": [
    {
     "ename": "NameError",
     "evalue": "name '__init__' is not defined",
     "output_type": "error",
     "traceback": [
      "\u001b[1;31m---------------------------------------------------------------------------\u001b[0m",
      "\u001b[1;31mNameError\u001b[0m                                 Traceback (most recent call last)",
      "\u001b[1;32m<ipython-input-4-a01fb9c01388>\u001b[0m in \u001b[0;36m<module>\u001b[1;34m\u001b[0m\n\u001b[0;32m     38\u001b[0m             \u001b[1;32mbreak\u001b[0m\u001b[1;33m\u001b[0m\u001b[1;33m\u001b[0m\u001b[0m\n\u001b[0;32m     39\u001b[0m         \u001b[1;32mreturn\u001b[0m\u001b[1;33m(\u001b[0m\u001b[0mli\u001b[0m\u001b[1;33m)\u001b[0m\u001b[1;33m\u001b[0m\u001b[1;33m\u001b[0m\u001b[0m\n\u001b[1;32m---> 40\u001b[1;33m \u001b[1;32mif\u001b[0m \u001b[0m__init__\u001b[0m \u001b[1;33m==\u001b[0m \u001b[0mmain\u001b[0m\u001b[1;33m(\u001b[0m\u001b[1;33m)\u001b[0m\u001b[1;33m:\u001b[0m\u001b[1;33m\u001b[0m\u001b[1;33m\u001b[0m\u001b[0m\n\u001b[0m\u001b[0;32m     41\u001b[0m         \u001b[0mli\u001b[0m \u001b[1;33m=\u001b[0m \u001b[0mlist\u001b[0m\u001b[1;33m(\u001b[0m\u001b[0mmap\u001b[0m\u001b[1;33m(\u001b[0m\u001b[0mint\u001b[0m\u001b[1;33m,\u001b[0m\u001b[0minput\u001b[0m\u001b[1;33m(\u001b[0m\u001b[1;33m)\u001b[0m\u001b[1;33m.\u001b[0m\u001b[0msplit\u001b[0m\u001b[1;33m(\u001b[0m\u001b[1;34m','\u001b[0m\u001b[1;33m)\u001b[0m\u001b[1;33m)\u001b[0m\u001b[1;33m)\u001b[0m\u001b[1;33m\u001b[0m\u001b[1;33m\u001b[0m\u001b[0m\n\u001b[0;32m     42\u001b[0m         \u001b[0mthree_sort\u001b[0m\u001b[1;33m(\u001b[0m\u001b[0mli\u001b[0m\u001b[1;33m)\u001b[0m\u001b[1;33m\u001b[0m\u001b[1;33m\u001b[0m\u001b[0m\n",
      "\u001b[1;31mNameError\u001b[0m: name '__init__' is not defined"
     ]
    }
   ],
   "source": [
    "def swap(li,x,y,z):\n",
    "    a = li[x]\n",
    "    li[x] = li[y]\n",
    "    li[y] = li[z]\n",
    "    li[z] = a\n",
    "    return(li)\n",
    "\n",
    "def three_sort(li):\n",
    "    i = 0\n",
    "    len_li = len(li)\n",
    "    while(len_li>=3):\n",
    "        x = i\n",
    "        y = i+1\n",
    "        z = i+2\n",
    "        if li[y]>li[z]<li[x]>=li[y]:\n",
    "            print('a')\n",
    "            swap(li,x,y,z)\n",
    "            swap(li,x,y,z)\n",
    "            i+=1\n",
    "            len_li-=1\n",
    "        elif li[z]<li[x]<li[y]:\n",
    "            print('b')\n",
    "            li = swap(li,x,y,z)\n",
    "            li = swap(li,x,y,z)\n",
    "            i+=1\n",
    "            len_li -=1\n",
    "        elif li[z]<=li[x]>li[y]:\n",
    "            print('c')\n",
    "            li = swap(li,x,y,z)\n",
    "            i+=1\n",
    "            len_li -=1\n",
    "        elif li[x]<=li[y]:\n",
    "            print('d')\n",
    "            i+=1\n",
    "            len_li -=1\n",
    "        else:\n",
    "            print(li,'Errro')\n",
    "            break    \n",
    "        return(li)\n",
    "if __init__ == main():\n",
    "        li = list(map(int,input().split(',')))\n",
    "        three_sort(li)"
   ]
  },
  {
   "cell_type": "markdown",
   "metadata": {},
   "source": [
    "# Beta testing"
   ]
  },
  {
   "cell_type": "code",
   "execution_count": 8,
   "metadata": {},
   "outputs": [
    {
     "name": "stdout",
     "output_type": "stream",
     "text": [
      "Yes a\n"
     ]
    }
   ],
   "source": [
    "li = [3,1,3,1,6,2,7,20,12,3,0,9]\n",
    "def swap(li,x,y,z):\n",
    "    a = li[x]\n",
    "    li[x] = li[y]\n",
    "    li[y] = li[z]\n",
    "    li[z] = a\n",
    "    return(li)\n",
    "count = 0\n",
    "\n",
    "def therr_sort(li,count):\n",
    "    check=0\n",
    "    len_li = len(li)\n",
    "    temp = len_li-1\n",
    "    i = 0\n",
    "    while(len_li>=2):\n",
    "        if len_li >=3:\n",
    "            x = i\n",
    "            y = i+1\n",
    "            z = i+2\n",
    "        else:\n",
    "            if li[i]>li[i+1]:li[i],li[i+1]=li[i+1],li[i]\n",
    "\n",
    "        if li[y]>li[z]<li[x]>=li[y]:\n",
    "            swap(li,x,y,z)\n",
    "            swap(li,x,y,z)\n",
    "            i+=1\n",
    "            len_li-=1\n",
    "        elif li[y]<li[z]>li[x]>li[y]:\n",
    "            swap(li,x,y,z)\n",
    "            i+=1\n",
    "            len_li-=1\n",
    "        elif li[z]<li[x]<li[y]:\n",
    "            li = swap(li,x,y,z)\n",
    "            li = swap(li,x,y,z)\n",
    "            i+=1\n",
    "            len_li -=1\n",
    "        elif li[z]<=li[x]>li[y]:\n",
    "            li = swap(li,x,y,z)\n",
    "            i+=1\n",
    "            len_li -=1\n",
    "        elif li[x]<=li[y]:\n",
    "            check+=1\n",
    "            i+=1\n",
    "            len_li -=1\n",
    "    if check >= temp:\n",
    "        print('Yes','a')\n",
    "    else:\n",
    "        if count!=10:   #count for temprary\n",
    "            count+=1\n",
    "            print('check',check,temp)\n",
    "            therr_sort(li,count)\n",
    "        else:\n",
    "            print('No')\n",
    "therr_sort(li,count)"
   ]
  },
  {
   "cell_type": "code",
   "execution_count": 3,
   "metadata": {},
   "outputs": [
    {
     "data": {
      "text/plain": [
       "6"
      ]
     },
     "execution_count": 3,
     "metadata": {},
     "output_type": "execute_result"
    }
   ],
   "source": [
    "len(li)"
   ]
  },
  {
   "cell_type": "code",
   "execution_count": null,
   "metadata": {},
   "outputs": [],
   "source": []
  }
 ],
 "metadata": {
  "kernelspec": {
   "display_name": "Python 3",
   "language": "python",
   "name": "python3"
  },
  "language_info": {
   "codemirror_mode": {
    "name": "ipython",
    "version": 3
   },
   "file_extension": ".py",
   "mimetype": "text/x-python",
   "name": "python",
   "nbconvert_exporter": "python",
   "pygments_lexer": "ipython3",
   "version": "3.7.3"
  }
 },
 "nbformat": 4,
 "nbformat_minor": 2
}
