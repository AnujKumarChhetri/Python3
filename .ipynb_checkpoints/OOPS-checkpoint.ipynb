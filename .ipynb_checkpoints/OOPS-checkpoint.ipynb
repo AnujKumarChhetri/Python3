{
 "cells": [
  {
   "cell_type": "markdown",
   "metadata": {},
   "source": [
    "# Encapsulation & Abstraction"
   ]
  },
  {
   "cell_type": "code",
   "execution_count": 7,
   "metadata": {},
   "outputs": [
    {
     "name": "stdout",
     "output_type": "stream",
     "text": [
      "Danraptor\n",
      "Vardaan_Shukla\n",
      "Danraptor\n",
      "Vardaan_Shukla\n"
     ]
    }
   ],
   "source": [
    "class abstraction:\n",
    "    def __init__(self):\n",
    "        self.__name = 'Vardaan_Shukla'   #private variable initiate with (__) double underscore\n",
    "        self.name =  'Danraptor'\n",
    "    def display(self):\n",
    "        print(self.name)\n",
    "        print(self._abstraction__name)  #using of private variable inside the class\n",
    "c = abstraction()\n",
    "print(c.name)\n",
    "print(c._abstraction__name)             #using the private variable outside the class\n",
    "c.display()"
   ]
  },
  {
   "cell_type": "markdown",
   "metadata": {},
   "source": [
    "# Inheritance"
   ]
  },
  {
   "cell_type": "code",
   "execution_count": 14,
   "metadata": {},
   "outputs": [
    {
     "name": "stdout",
     "output_type": "stream",
     "text": [
      "1\n",
      "2\n",
      "3\n",
      "1\n"
     ]
    }
   ],
   "source": [
    "class inheritance:\n",
    "    a = 1\n",
    "    b = 2\n",
    "    def printing(cls):   #here cls is predefined keyword for but class but tu use this you need to pass it in method\n",
    "        print(cls.a)\n",
    "        print(cls.b)\n",
    "class inheirt(inheritance):  #inheriting the class inheritacnce in inherit\n",
    "    c = 3\n",
    "    def printing(cls):\n",
    "        print(cls.c)\n",
    "        print(cls.a)         #using a which is inherited from a\n",
    "c1 = inheritance()\n",
    "c2 = inheirt()\n",
    "c1.printing()\n",
    "c2.printing()"
   ]
  },
  {
   "cell_type": "markdown",
   "metadata": {},
   "source": [
    "# Polymorphism"
   ]
  },
  {
   "cell_type": "code",
   "execution_count": 16,
   "metadata": {},
   "outputs": [
    {
     "name": "stdout",
     "output_type": "stream",
     "text": [
      "15\n",
      "DanRaptor\n"
     ]
    }
   ],
   "source": [
    "def add(a,b):  #same funtion use for diffren purpose for string concatinate and for addition of two number\n",
    "    print(a+b)\n",
    "add(5,10)\n",
    "add('Dan','Raptor')"
   ]
  },
  {
   "cell_type": "code",
   "execution_count": null,
   "metadata": {},
   "outputs": [],
   "source": []
  }
 ],
 "metadata": {
  "kernelspec": {
   "display_name": "Python 3",
   "language": "python",
   "name": "python3"
  },
  "language_info": {
   "codemirror_mode": {
    "name": "ipython",
    "version": 3
   },
   "file_extension": ".py",
   "mimetype": "text/x-python",
   "name": "python",
   "nbconvert_exporter": "python",
   "pygments_lexer": "ipython3",
   "version": "3.7.3"
  }
 },
 "nbformat": 4,
 "nbformat_minor": 2
}
