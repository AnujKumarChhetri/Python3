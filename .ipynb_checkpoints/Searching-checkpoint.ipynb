{
 "cells": [
  {
   "cell_type": "markdown",
   "metadata": {},
   "source": [
    "# Types Of Searching"
   ]
  },
  {
   "cell_type": "markdown",
   "metadata": {},
   "source": [
    "<ol>\n",
    "<li>Unordered Linear Search</li>\n",
    "<li>Sorted/Ordered Linear Search</li>\n",
    "<li>Binary Search Symbol Tables and Hashing</li>\n",
    "<li>String Searching Algorithms: Tries, Ternary Search and Suffix Trees</li>\n",
    "</ol>"
   ]
  },
  {
   "cell_type": "markdown",
   "metadata": {},
   "source": [
    "# 1 - Linear Seach"
   ]
  },
  {
   "cell_type": "code",
   "execution_count": 5,
   "metadata": {
    "ExecuteTime": {
     "end_time": "2021-06-20T09:38:04.056597Z",
     "start_time": "2021-06-20T09:38:04.037651Z"
    }
   },
   "outputs": [
    {
     "data": {
      "text/plain": [
       "'\\n    Basicly normal for loop to search the element \\n    Complexity = O(N)\\n'"
      ]
     },
     "execution_count": 5,
     "metadata": {},
     "output_type": "execute_result"
    }
   ],
   "source": [
    "'''\n",
    "    Basicly normal for loop to search the element \n",
    "    Complexity = O(N)\n",
    "'''"
   ]
  },
  {
   "cell_type": "markdown",
   "metadata": {},
   "source": [
    "# 2 - Binary Search"
   ]
  },
  {
   "cell_type": "code",
   "execution_count": 45,
   "metadata": {
    "ExecuteTime": {
     "end_time": "2021-06-20T10:35:53.621496Z",
     "start_time": "2021-06-20T10:35:53.592607Z"
    }
   },
   "outputs": [],
   "source": [
    "def binary_search(arr,element,start = 0, end = -1) -> int:\n",
    "    '''\n",
    "        Search Using recursion\n",
    "        Input --> Sorted(Array),element to search\n",
    "        Return --> Index of Element\n",
    "    '''\n",
    "    if end == -1:\n",
    "        end = len(arr)-1\n",
    "    mid = (start+end)//2\n",
    "    if element == arr[mid]:\n",
    "        return mid\n",
    "    else:\n",
    "        if element > arr[mid]:\n",
    "            return binary_search(arr,element,mid+1,end)\n",
    "        else:\n",
    "            return binary_search(arr,element,start,mid-1)"
   ]
  },
  {
   "cell_type": "code",
   "execution_count": 46,
   "metadata": {
    "ExecuteTime": {
     "end_time": "2021-06-20T10:36:06.224660Z",
     "start_time": "2021-06-20T10:36:06.214690Z"
    }
   },
   "outputs": [
    {
     "name": "stdout",
     "output_type": "stream",
     "text": [
      "[1, 2, 3, 4, 5, 6, 7, 8, 9] 0 4 8\n",
      "[1, 2, 3, 4, 5, 6, 7, 8, 9] 5 6 8\n"
     ]
    },
    {
     "data": {
      "text/plain": [
       "5"
      ]
     },
     "execution_count": 46,
     "metadata": {},
     "output_type": "execute_result"
    }
   ],
   "source": [
    "binary_search([1,2,3,4,5,6,7,8,9],6)"
   ]
  },
  {
   "cell_type": "code",
   "execution_count": null,
   "metadata": {},
   "outputs": [],
   "source": []
  }
 ],
 "metadata": {
  "kernelspec": {
   "display_name": "Python 3",
   "language": "python",
   "name": "python3"
  }
 },
 "nbformat": 4,
 "nbformat_minor": 2
}
