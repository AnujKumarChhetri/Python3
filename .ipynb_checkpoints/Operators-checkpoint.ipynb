{
 "cells": [
  {
   "cell_type": "code",
   "execution_count": 2,
   "metadata": {},
   "outputs": [
    {
     "name": "stdout",
     "output_type": "stream",
     "text": [
      "0\n",
      "14\n",
      "-11\n",
      "14\n",
      "2\n",
      "40\n"
     ]
    }
   ],
   "source": [
    "#https://www.geeksforgeeks.org/basic-operators-python/\n",
    "# Examples of Bitwise operators \n",
    "a = 10\n",
    "b = 4\n",
    "  \n",
    "# Print bitwise AND operation   \n",
    "print(a & b) \n",
    "  \n",
    "# Print bitwise OR operation \n",
    "print(a | b) \n",
    "  \n",
    "# Print bitwise NOT operation  \n",
    "print(~a) \n",
    "  \n",
    "# print bitwise XOR operation  \n",
    "print(a ^ b) \n",
    "  \n",
    "# print bitwise right shift operation  \n",
    "print(a >> 2) \n",
    "  \n",
    "# print bitwise left shift operation  \n",
    "print(a << 2) "
   ]
  },
  {
   "cell_type": "code",
   "execution_count": null,
   "metadata": {},
   "outputs": [],
   "source": []
  }
 ],
 "metadata": {
  "kernelspec": {
   "display_name": "Python 3",
   "language": "python",
   "name": "python3"
  },
  "language_info": {
   "codemirror_mode": {
    "name": "ipython",
    "version": 3
   },
   "file_extension": ".py",
   "mimetype": "text/x-python",
   "name": "python",
   "nbconvert_exporter": "python",
   "pygments_lexer": "ipython3",
   "version": "3.7.3"
  }
 },
 "nbformat": 4,
 "nbformat_minor": 2
}
