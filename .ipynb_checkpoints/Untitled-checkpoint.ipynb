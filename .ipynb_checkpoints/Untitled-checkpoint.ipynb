{
 "cells": [
  {
   "cell_type": "code",
   "execution_count": 14,
   "metadata": {},
   "outputs": [
    {
     "name": "stdout",
     "output_type": "stream",
     "text": [
      "1\n",
      "2 -4 3\n",
      "3 -3 1\n",
      "[3, -3, 1]\n",
      "0\n"
     ]
    }
   ],
   "source": [
    "#nearest to zero in given list after air of 2,2\n",
    "#code\n",
    "from itertools import *\n",
    "for x in range(int(input())):\n",
    "    N=input()\n",
    "    li = input().split(' ')\n",
    "    li = [int(x) for x in li]\n",
    "    print(li)\n",
    "    li2 = list(combinations(li,2))\n",
    "    li = []\n",
    "    for x in li2:\n",
    "        li.append(sum(x))\n",
    "    print(min(li,key=abs))"
   ]
  },
  {
   "cell_type": "code",
   "execution_count": 83,
   "metadata": {},
   "outputs": [
    {
     "name": "stdout",
     "output_type": "stream",
     "text": [
      "No of test cses - \n"
     ]
    },
    {
     "ename": "ValueError",
     "evalue": "invalid literal for int() with base 10: ''",
     "output_type": "error",
     "traceback": [
      "\u001b[1;31m---------------------------------------------------------------------------\u001b[0m",
      "\u001b[1;31mValueError\u001b[0m                                Traceback (most recent call last)",
      "\u001b[1;32m<ipython-input-83-24132da30806>\u001b[0m in \u001b[0;36m<module>\u001b[1;34m\u001b[0m\n\u001b[1;32m----> 1\u001b[1;33m \u001b[1;32mfor\u001b[0m \u001b[0mx\u001b[0m \u001b[1;32min\u001b[0m \u001b[0mrange\u001b[0m\u001b[1;33m(\u001b[0m\u001b[0mint\u001b[0m\u001b[1;33m(\u001b[0m\u001b[0minput\u001b[0m\u001b[1;33m(\u001b[0m\u001b[1;34m'No of test cses - '\u001b[0m\u001b[1;33m)\u001b[0m\u001b[1;33m)\u001b[0m\u001b[1;33m)\u001b[0m\u001b[1;33m:\u001b[0m\u001b[1;33m\u001b[0m\u001b[1;33m\u001b[0m\u001b[0m\n\u001b[0m\u001b[0;32m      2\u001b[0m     \u001b[0mN\u001b[0m\u001b[1;33m=\u001b[0m\u001b[0minput\u001b[0m\u001b[1;33m(\u001b[0m\u001b[1;33m)\u001b[0m\u001b[1;33m\u001b[0m\u001b[1;33m\u001b[0m\u001b[0m\n\u001b[0;32m      3\u001b[0m     \u001b[0mli\u001b[0m \u001b[1;33m=\u001b[0m \u001b[0minput\u001b[0m\u001b[1;33m(\u001b[0m\u001b[1;34m'Li - '\u001b[0m\u001b[1;33m)\u001b[0m\u001b[1;33m.\u001b[0m\u001b[0msplit\u001b[0m\u001b[1;33m(\u001b[0m\u001b[1;34m' '\u001b[0m\u001b[1;33m)\u001b[0m\u001b[1;33m\u001b[0m\u001b[1;33m\u001b[0m\u001b[0m\n\u001b[0;32m      4\u001b[0m     \u001b[0mli\u001b[0m \u001b[1;33m=\u001b[0m \u001b[1;33m[\u001b[0m\u001b[0mint\u001b[0m\u001b[1;33m(\u001b[0m\u001b[0mx\u001b[0m\u001b[1;33m)\u001b[0m \u001b[1;32mfor\u001b[0m \u001b[0mx\u001b[0m \u001b[1;32min\u001b[0m \u001b[0mli\u001b[0m\u001b[1;33m]\u001b[0m\u001b[1;33m\u001b[0m\u001b[1;33m\u001b[0m\u001b[0m\n\u001b[0;32m      5\u001b[0m     \u001b[0mK\u001b[0m \u001b[1;33m=\u001b[0m \u001b[0mint\u001b[0m\u001b[1;33m(\u001b[0m\u001b[0minput\u001b[0m\u001b[1;33m(\u001b[0m\u001b[1;34m'K - '\u001b[0m\u001b[1;33m)\u001b[0m\u001b[1;33m)\u001b[0m\u001b[1;33m\u001b[0m\u001b[1;33m\u001b[0m\u001b[0m\n",
      "\u001b[1;31mValueError\u001b[0m: invalid literal for int() with base 10: ''"
     ]
    }
   ],
   "source": [
    "for x in range(int(input('No of test cses - '))):\n",
    "    N=input()\n",
    "    li = input('Li - ').split(' ')\n",
    "    li = [int(x) for x in li]\n",
    "    K = int(input('K - '))\n",
    "    li.sort()\n",
    "    print('output - ',li[K])"
   ]
  },
  {
   "cell_type": "code",
   "execution_count": 13,
   "metadata": {},
   "outputs": [
    {
     "name": "stdout",
     "output_type": "stream",
     "text": [
      "2 4 6 8 21 23\n",
      "4 6 10 10 25 25\n",
      "departure 4.0 and arrival 4.0\n",
      "count 1 and i 1 plat 2 li -- [[2.0, 4.0], [4.0, 6.0], [6.0, 10.0], [8.0, 10.0], [21.0, 25.0], [23.0, 25.0]]\n",
      "departure 4.0 and arrival 6.0\n",
      "departure 6.0 and arrival 8.0\n",
      "departure 10.0 and arrival 21.0\n",
      "departure 10.0 and arrival 23.0\n",
      "2\n"
     ]
    }
   ],
   "source": [
    "'''Pltform allocation System'''\n",
    "li1 = [float(x) for x in input().split(' ')]\n",
    "li2 = [float(x) for x in input().split(' ')]\n",
    "li = [[x,y] for x,y in zip(li1,li2)]\n",
    "li.sort()\n",
    "plat = 1\n",
    "try:\n",
    "    i = 0\n",
    "    while(True):\n",
    "        count = 0\n",
    "        arrival = li[i][0]\n",
    "        for y in li[:i]:\n",
    "            departure = y[1]\n",
    "            #print(f\"departure {departure} and arrival {arrival}\")\n",
    "            if departure >= arrival:\n",
    "                count+=1\n",
    "            elif arrival > departure:\n",
    "                #print(y)\n",
    "                li.remove(y)\n",
    "                i = i-1\n",
    "                break\n",
    "            if count == i:\n",
    "                plat+=1\n",
    "            #print(f\"count {count} and i {i} plat {plat} li -- {li}\")\n",
    "        #print(li[i])\n",
    "        if i == len(li):\n",
    "            break\n",
    "        i+=1\n",
    "except IndexError:\n",
    "    print(plat)"
   ]
  },
  {
   "cell_type": "code",
   "execution_count": 95,
   "metadata": {},
   "outputs": [
    {
     "ename": "SyntaxError",
     "evalue": "invalid syntax (<ipython-input-95-86025faa9f4e>, line 1)",
     "output_type": "error",
     "traceback": [
      "\u001b[1;36m  File \u001b[1;32m\"<ipython-input-95-86025faa9f4e>\"\u001b[1;36m, line \u001b[1;32m1\u001b[0m\n\u001b[1;33m    1 9 9.5 11.5 12\u001b[0m\n\u001b[1;37m      ^\u001b[0m\n\u001b[1;31mSyntaxError\u001b[0m\u001b[1;31m:\u001b[0m invalid syntax\n"
     ]
    }
   ],
   "source": [
    "2 4 6 8 21 23\n",
    "4 6 10 10 25 25"
   ]
  },
  {
   "cell_type": "code",
   "execution_count": 97,
   "metadata": {},
   "outputs": [
    {
     "data": {
      "text/plain": [
       "4"
      ]
     },
     "execution_count": 97,
     "metadata": {},
     "output_type": "execute_result"
    }
   ],
   "source": [
    "l = [1,2,3,4]\n",
    "l[-1]"
   ]
  },
  {
   "cell_type": "code",
   "execution_count": 2,
   "metadata": {},
   "outputs": [
    {
     "name": "stdout",
     "output_type": "stream",
     "text": [
      "                     * \n",
      "                   * * * \n",
      "                 * * * * * \n",
      "               * * * * * * * \n",
      "               @           @\n",
      "               @           @\n",
      "               @           @\n",
      "               @           @\n",
      "               @           @\n",
      "  * * * * * * *@           @* * * * * * * \n",
      "    * * * * *                * * * * *\n",
      "      * * *                    * * *\n",
      "        *                        *\n"
     ]
    }
   ],
   "source": [
    "i = 7\n",
    "for x,y in zip(range(i,0,-2),range(1,i+1,2)):\n",
    "    print((2*i+x)*' '+y*'* ')\n",
    "#print(x,y)\n",
    "for _ in range(i-2):\n",
    "    print((2*i+x)*' '+'@',2*(y-x-1)*' '+'@')\n",
    "for x,y in zip(range(i,0,-2),range(1,i+1,2)):\n",
    "    if y == 1:\n",
    "        print(y*' '+x*' *'+'@'+(2*i-4)*' '+(y)*' '+'@'+x*'* ')\n",
    "    else:\n",
    "        print(y*' '+x*' *',(2*i-7)*' ',(y*2)*' '+x*' *')"
   ]
  },
  {
   "cell_type": "code",
   "execution_count": 15,
   "metadata": {},
   "outputs": [
    {
     "name": "stdout",
     "output_type": "stream",
     "text": [
      "   *\n",
      "  **\n",
      " ***@@@@@\n"
     ]
    }
   ],
   "source": [
    "i = 5\n",
    "for x,y in zip(range(1,(i//2)+2),range((i//2)+1,0,-1)):\n",
    "    if x == (i//2)+1:\n",
    "        print(y*' '+x*'*'+i*'@')\n",
    "    else:\n",
    "        print(y*' '+x*'*')"
   ]
  },
  {
   "cell_type": "code",
   "execution_count": 12,
   "metadata": {},
   "outputs": [
    {
     "data": {
      "text/plain": [
       "3"
      ]
     },
     "execution_count": 12,
     "metadata": {},
     "output_type": "execute_result"
    }
   ],
   "source": [
    "5//2+1"
   ]
  },
  {
   "cell_type": "code",
   "execution_count": 52,
   "metadata": {},
   "outputs": [],
   "source": [
    "li = [[1,2,3,4],[5,6,7,8],[9,10,11,12],[13,14,15,16]]"
   ]
  },
  {
   "cell_type": "code",
   "execution_count": 53,
   "metadata": {},
   "outputs": [
    {
     "name": "stdout",
     "output_type": "stream",
     "text": [
      "1\n",
      "2\n",
      "3\n",
      "4\n",
      "5\n",
      "6\n",
      "7\n",
      "8\n",
      "9\n",
      "10\n",
      "11\n",
      "12\n",
      "13\n",
      "14\n",
      "15\n",
      "16\n"
     ]
    },
    {
     "ename": "IndexError",
     "evalue": "list index out of range",
     "output_type": "error",
     "traceback": [
      "\u001b[1;31m---------------------------------------------------------------------------\u001b[0m",
      "\u001b[1;31mIndexError\u001b[0m                                Traceback (most recent call last)",
      "\u001b[1;32m<ipython-input-53-bd544a0ae91e>\u001b[0m in \u001b[0;36m<module>\u001b[1;34m\u001b[0m\n\u001b[0;32m     10\u001b[0m     \u001b[0mprint\u001b[0m\u001b[1;33m(\u001b[0m\u001b[0mno\u001b[0m\u001b[1;33m)\u001b[0m\u001b[1;33m\u001b[0m\u001b[1;33m\u001b[0m\u001b[0m\n\u001b[0;32m     11\u001b[0m \u001b[1;32mfor\u001b[0m \u001b[0mx\u001b[0m \u001b[1;32min\u001b[0m \u001b[0mrange\u001b[0m\u001b[1;33m(\u001b[0m\u001b[0mlen\u001b[0m\u001b[1;33m(\u001b[0m\u001b[0mli\u001b[0m\u001b[1;33m)\u001b[0m\u001b[1;33m+\u001b[0m\u001b[1;36m2\u001b[0m\u001b[1;33m)\u001b[0m\u001b[1;33m:\u001b[0m\u001b[1;33m\u001b[0m\u001b[1;33m\u001b[0m\u001b[0m\n\u001b[1;32m---> 12\u001b[1;33m     \u001b[0mp_straight\u001b[0m\u001b[1;33m(\u001b[0m\u001b[0mli\u001b[0m\u001b[1;33m[\u001b[0m\u001b[0mx\u001b[0m\u001b[1;33m]\u001b[0m\u001b[1;33m)\u001b[0m\u001b[1;33m\u001b[0m\u001b[1;33m\u001b[0m\u001b[0m\n\u001b[0m\u001b[0;32m     13\u001b[0m     \u001b[1;32mfor\u001b[0m \u001b[0mx\u001b[0m \u001b[1;32min\u001b[0m \u001b[0mrange\u001b[0m\u001b[1;33m(\u001b[0m\u001b[1;36m0\u001b[0m\u001b[1;33m,\u001b[0m\u001b[0mlen\u001b[0m\u001b[1;33m(\u001b[0m\u001b[0mli\u001b[0m\u001b[1;33m)\u001b[0m\u001b[1;33m-\u001b[0m\u001b[0mx\u001b[0m\u001b[1;33m-\u001b[0m\u001b[1;36m1\u001b[0m\u001b[1;33m,\u001b[0m\u001b[1;33m)\u001b[0m\u001b[1;33m:\u001b[0m\u001b[1;33m\u001b[0m\u001b[1;33m\u001b[0m\u001b[0m\n\u001b[0;32m     14\u001b[0m         \u001b[0mp_down\u001b[0m\u001b[1;33m(\u001b[0m\u001b[0mli\u001b[0m\u001b[1;33m[\u001b[0m\u001b[0mx\u001b[0m\u001b[1;33m+\u001b[0m\u001b[1;36m1\u001b[0m\u001b[1;33m]\u001b[0m\u001b[1;33m)\u001b[0m\u001b[1;33m\u001b[0m\u001b[1;33m\u001b[0m\u001b[0m\n",
      "\u001b[1;31mIndexError\u001b[0m: list index out of range"
     ]
    }
   ],
   "source": [
    "def p_straight(li):\n",
    "    for x in li:\n",
    "        print(x)\n",
    "def p_rev(li):\n",
    "    for x in li[::-1]:\n",
    "        print(x)\n",
    "def p_down(li):\n",
    "    li[-1]\n",
    "def p_upp(no):\n",
    "    print(no)\n",
    "for x in range(len(li)+2):\n",
    "    p_straight(li[x])\n",
    "    for x in range(0,len(li)-x-1,):\n",
    "        p_down(li[x+1])\n"
   ]
  },
  {
   "cell_type": "code",
   "execution_count": 22,
   "metadata": {},
   "outputs": [],
   "source": [
    "li = [[1,2,3,4],[5,6,7,8],[9,10,11,12],[13,14,15,16]]\n",
    "for x in range(1,len(li)):\n",
    "    if x%2!=0:\n",
    "        li[x]=li[x][::-1]"
   ]
  },
  {
   "cell_type": "code",
   "execution_count": 23,
   "metadata": {},
   "outputs": [
    {
     "name": "stdout",
     "output_type": "stream",
     "text": [
      "[1, 2, 3, 4, 8, 7, 6, 5, 9, 10, 11, 12, 16, 15, 14, 13]\n"
     ]
    }
   ],
   "source": [
    "d = [y for x in li for y in x]\n",
    "print(d)"
   ]
  },
  {
   "cell_type": "code",
   "execution_count": 54,
   "metadata": {},
   "outputs": [
    {
     "name": "stdout",
     "output_type": "stream",
     "text": [
      "1\n",
      "2\n",
      "3\n",
      "4\n",
      "8\n",
      "9\n",
      "12\n",
      "16\n",
      "15\n",
      "14\n",
      "13\n",
      "[7, 6, 5, 10, 11]\n"
     ]
    }
   ],
   "source": [
    "d = [y for x in li for y in x]\n",
    "l = len(li)\n",
    "for x in range(len(li)+1):\n",
    "    print(d[x-x])\n",
    "    d.remove(d[x-x])\n",
    "    if x == len(li[0]):\n",
    "        for y in range(l-2):\n",
    "            temp = d[((x-1)*(y+1))-y]\n",
    "            print(temp)\n",
    "            i = d.index(temp)\n",
    "            d.remove(temp)\n",
    "        l = l-1\n",
    "        for x in d[i:]:\n",
    "            print(x)\n",
    "            d.remove(x)\n",
    "        print(d)"
   ]
  },
  {
   "cell_type": "code",
   "execution_count": 86,
   "metadata": {},
   "outputs": [
    {
     "data": {
      "text/plain": [
       "[7, 6, 5, 9, 10, 11, 12, 16, 15, 14, 13]"
      ]
     },
     "execution_count": 86,
     "metadata": {},
     "output_type": "execute_result"
    }
   ],
   "source": [
    "d"
   ]
  },
  {
   "cell_type": "code",
   "execution_count": 11,
   "metadata": {},
   "outputs": [
    {
     "data": {
      "text/plain": [
       "8"
      ]
     },
     "execution_count": 11,
     "metadata": {},
     "output_type": "execute_result"
    }
   ],
   "source": [
    "4+(len(li[0]))"
   ]
  },
  {
   "cell_type": "code",
   "execution_count": null,
   "metadata": {},
   "outputs": [],
   "source": []
  }
 ],
 "metadata": {
  "kernelspec": {
   "display_name": "Python 3",
   "language": "python",
   "name": "python3"
  },
  "language_info": {
   "codemirror_mode": {
    "name": "ipython",
    "version": 3
   },
   "file_extension": ".py",
   "mimetype": "text/x-python",
   "name": "python",
   "nbconvert_exporter": "python",
   "pygments_lexer": "ipython3",
   "version": "3.7.3"
  }
 },
 "nbformat": 4,
 "nbformat_minor": 2
}
