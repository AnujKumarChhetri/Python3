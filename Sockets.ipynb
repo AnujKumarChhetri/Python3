{
 "cells": [
  {
   "cell_type": "markdown",
   "metadata": {},
   "source": [
    "# Sockets"
   ]
  },
  {
   "cell_type": "markdown",
   "metadata": {},
   "source": [
    "Server Side"
   ]
  },
  {
   "cell_type": "code",
   "execution_count": null,
   "metadata": {
    "ExecuteTime": {
     "start_time": "2021-08-15T10:23:46.451Z"
    }
   },
   "outputs": [
    {
     "name": "stdout",
     "output_type": "stream",
     "text": [
      "[STARTING] server is starting...\n",
      "[LISTENING] Server is listening on 192.168.1.7\n"
     ]
    }
   ],
   "source": [
    "import socket\n",
    "import threading\n",
    "import json\n",
    "import pickle\n",
    "\n",
    "HEADER = 64\n",
    "PORT = 5050\n",
    "SERVER = socket.gethostbyname(socket.gethostname())\n",
    "ADDR = (SERVER, PORT)\n",
    "FORMAT = 'utf-8'\n",
    "DISCONNECT_MESSAGE = \"END\"\n",
    "# This is for when we try to interact with one client to another then we would use this\n",
    "# It consist of id and id have there values like chat id and client obj\n",
    "client_dic = {\n",
    "    # id: [chat_id,client1Obj]\n",
    "}\n",
    "server = socket.socket(socket.AF_INET, socket.SOCK_STREAM)\n",
    "server.bind(ADDR)\n",
    "\n",
    "\n",
    "def handle_client(conn, addr):\n",
    "    connected = True\n",
    "    while connected:\n",
    "        message_data = eval(conn.recv(HEADER).decode(FORMAT))\n",
    "        print(message_data)\n",
    "        if message_data.get('start'):\n",
    "            client_dic[message_data.get('start')] = conn\n",
    "        else:\n",
    "            connTo = client_dic.get(message_data[\"to\"])\n",
    "            if connTo:\n",
    "                msg = message_data[\"message\"].encode(FORMAT)\n",
    "                if msg == DISCONNECT_MESSAGE:\n",
    "                    connected = False\n",
    "                connTo.send(msg)\n",
    "            else:\n",
    "                conn.send(\"Client not found\".encode(FORMAT))\n",
    "    conn.close()\n",
    "\n",
    "\n",
    "def start():\n",
    "    server.listen()\n",
    "    print(f\"[LISTENING] Server is listening on {SERVER}\")\n",
    "    while True:\n",
    "        conn, addr = server.accept()\n",
    "        thread = threading.Thread(target=handle_client, args=(conn, addr))\n",
    "        thread.start()\n",
    "        print(f\"[ACTIVE CONNECTIONS] {threading.activeCount() - 1}\")\n",
    "\n",
    "\n",
    "print(\"[STARTING] server is starting...\")\n",
    "start()\n"
   ]
  },
  {
   "cell_type": "code",
   "execution_count": 1,
   "metadata": {
    "ExecuteTime": {
     "end_time": "2021-08-15T10:24:48.214503Z",
     "start_time": "2021-08-15T10:24:48.194562Z"
    }
   },
   "outputs": [
    {
     "ename": "SyntaxError",
     "evalue": "invalid syntax (<ipython-input-1-ba744dac0207>, line 1)",
     "output_type": "error",
     "traceback": [
      "\u001b[1;36m  File \u001b[1;32m\"<ipython-input-1-ba744dac0207>\"\u001b[1;36m, line \u001b[1;32m1\u001b[0m\n\u001b[1;33m    Client 1\u001b[0m\n\u001b[1;37m           ^\u001b[0m\n\u001b[1;31mSyntaxError\u001b[0m\u001b[1;31m:\u001b[0m invalid syntax\n"
     ]
    }
   ],
   "source": [
    "Client 1"
   ]
  },
  {
   "cell_type": "code",
   "execution_count": null,
   "metadata": {},
   "outputs": [],
   "source": [
    "import socket\n",
    "import pickle\n",
    "import json\n",
    "HEADER = 64\n",
    "PORT = 5050\n",
    "FORMAT = 'utf-8'\n",
    "DISCONNECT_MESSAGE = \"END\"\n",
    "SERVER = socket.gethostbyname(socket.gethostname())\n",
    "ADDR = (SERVER, PORT)\n",
    "\n",
    "client = socket.socket(socket.AF_INET, socket.SOCK_STREAM)\n",
    "client.connect(ADDR)\n",
    "\n",
    "\n",
    "def send(message):\n",
    "    message = {\"to\": \"11\", \"message\": message}\n",
    "    message = json.dumps(message)\n",
    "    client.send(message.encode(FORMAT))\n",
    "    while True:\n",
    "        msg = client.recv(HEADER).decode(FORMAT)\n",
    "        print(msg)\n",
    "        if msg:\n",
    "            send(input(\"message --> \"))\n",
    "            break\n",
    "\n",
    "\n",
    "initialize = {\"start\": \"10\"}\n",
    "client_id = json.dumps(initialize)\n",
    "client.send(client_id.encode(FORMAT))\n",
    "send(input(\"message --> \"))\n",
    "\n",
    "# send(DISCONNECT_MESSAGE)"
   ]
  },
  {
   "cell_type": "markdown",
   "metadata": {},
   "source": [
    "Client 2"
   ]
  },
  {
   "cell_type": "code",
   "execution_count": null,
   "metadata": {},
   "outputs": [],
   "source": [
    "import socket\n",
    "import pickle\n",
    "import json\n",
    "\n",
    "HEADER = 64\n",
    "PORT = 5050\n",
    "FORMAT = 'utf-8'\n",
    "DISCONNECT_MESSAGE = \"END\"\n",
    "SERVER = socket.gethostbyname(socket.gethostname())\n",
    "ADDR = (SERVER, PORT)\n",
    "\n",
    "client = socket.socket(socket.AF_INET, socket.SOCK_STREAM)\n",
    "client.connect(ADDR)\n",
    "\n",
    "\n",
    "def send(message):\n",
    "    message = {\"to\": \"10\", \"message\": message}\n",
    "    message = json.dumps(message)\n",
    "    client.send(message.encode(FORMAT))\n",
    "    while True:\n",
    "        msg = client.recv(HEADER).decode(FORMAT)\n",
    "        print(msg)\n",
    "        if msg:\n",
    "            send(input(\"message --> \"))\n",
    "            break\n",
    "\n",
    "\n",
    "initialize = {\"start\": \"11\"}\n",
    "client_id = json.dumps(initialize)\n",
    "client.send(client_id.encode(FORMAT))\n",
    "send(input(\"message --> \"))\n",
    "\n",
    "# send(DISCONNECT_MESSAGE)"
   ]
  }
 ],
 "metadata": {
  "kernelspec": {
   "display_name": "Python 3",
   "language": "python",
   "name": "python3"
  },
  "language_info": {
   "codemirror_mode": {
    "name": "ipython",
    "version": 3
   },
   "file_extension": ".py",
   "mimetype": "text/x-python",
   "name": "python",
   "nbconvert_exporter": "python",
   "pygments_lexer": "ipython3",
   "version": "3.7.3"
  }
 },
 "nbformat": 4,
 "nbformat_minor": 2
}
