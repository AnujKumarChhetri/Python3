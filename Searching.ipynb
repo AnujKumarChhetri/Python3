{
 "cells": [
  {
   "cell_type": "markdown",
   "metadata": {},
   "source": [
    "# Types Of Searching"
   ]
  },
  {
   "cell_type": "markdown",
   "metadata": {},
   "source": [
    "<ol>\n",
    "<li>Unordered Linear Search</li>\n",
    "<li>Sorted/Ordered Linear Search</li>\n",
    "<li>Binary Search Symbol Tables and Hashing</li>\n",
    "<li>String Searching Algorithms: Tries, Ternary Search and Suffix Trees</li>\n",
    "</ol>"
   ]
  },
  {
   "cell_type": "markdown",
   "metadata": {},
   "source": [
    "# 1 - Linear Seach"
   ]
  },
  {
   "cell_type": "code",
   "execution_count": 1,
   "metadata": {
    "ExecuteTime": {
     "end_time": "2021-06-20T10:44:06.074177Z",
     "start_time": "2021-06-20T10:44:06.047253Z"
    }
   },
   "outputs": [
    {
     "data": {
      "text/plain": [
       "'\\n    Basicly normal for loop to search the element \\n    Complexity = O(N)\\n'"
      ]
     },
     "execution_count": 1,
     "metadata": {},
     "output_type": "execute_result"
    }
   ],
   "source": [
    "'''\n",
    "    Basicly normal for loop to search the element \n",
    "    Complexity = O(N)\n",
    "'''"
   ]
  },
  {
   "cell_type": "markdown",
   "metadata": {},
   "source": [
    "# 2 - Binary Search"
   ]
  },
  {
   "cell_type": "code",
   "execution_count": 5,
   "metadata": {
    "ExecuteTime": {
     "end_time": "2021-07-04T10:52:15.366847Z",
     "start_time": "2021-07-04T10:52:15.351922Z"
    }
   },
   "outputs": [
    {
     "name": "stdout",
     "output_type": "stream",
     "text": [
      "4\n"
     ]
    }
   ],
   "source": [
    "def binary_search(arr,element,start = 0, end = -1) -> int:\n",
    "    '''\n",
    "        Search Using recursion\n",
    "        Input --> Sorted(Array),element to search\n",
    "        Return --> Index of Element\n",
    "    '''\n",
    "    if end == -1:\n",
    "        end = len(arr)-1\n",
    "    mid = (start+end)//2\n",
    "    if element == arr[mid]:\n",
    "        return mid\n",
    "    if mid == end:\n",
    "        return False\n",
    "    else:\n",
    "        if element > arr[mid]:\n",
    "            return binary_search(arr,element,mid+1,end)\n",
    "        else:\n",
    "            return binary_search(arr,element,start,mid-1)\n",
    "index = binary_search([-3,1,5,9,17,18, 20],17)\n",
    "print(index)"
   ]
  },
  {
   "cell_type": "code",
   "execution_count": null,
   "metadata": {},
   "outputs": [],
   "source": []
  }
 ],
 "metadata": {
  "kernelspec": {
   "display_name": "Python 3",
   "language": "python",
   "name": "python3"
  },
  "language_info": {
   "codemirror_mode": {
    "name": "ipython",
    "version": 3
   },
   "file_extension": ".py",
   "mimetype": "text/x-python",
   "name": "python",
   "nbconvert_exporter": "python",
   "pygments_lexer": "ipython3",
   "version": "3.7.3"
  }
 },
 "nbformat": 4,
 "nbformat_minor": 2
}
