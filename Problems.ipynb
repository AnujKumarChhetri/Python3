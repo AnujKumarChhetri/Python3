{
  "nbformat": 4,
  "nbformat_minor": 0,
  "metadata": {
    "kernelspec": {
      "display_name": "Python 3",
      "language": "python",
      "name": "python3"
    },
    "language_info": {
      "codemirror_mode": {
        "name": "ipython",
        "version": 3
      },
      "file_extension": ".py",
      "mimetype": "text/x-python",
      "name": "python",
      "nbconvert_exporter": "python",
      "pygments_lexer": "ipython3",
      "version": "3.7.3"
    },
    "colab": {
      "name": "Problems.ipynb",
      "provenance": [],
      "toc_visible": true
    }
  },
  "cells": [
    {
      "cell_type": "markdown",
      "metadata": {
        "ExecuteTime": {
          "end_time": "2021-07-04T09:39:06.596909Z",
          "start_time": "2021-07-04T09:39:06.581287Z"
        },
        "id": "yP-V6UGyDOaG"
      },
      "source": [
        "<ul>\n",
        "    <li>The Dutch national flag</li>\n",
        "    <li>Bitonic Search Problem</li>\n",
        "    <li>Stock Span Problem</li>\n",
        "    <li>Catalan Number</li>\n",
        "</ul>"
      ]
    },
    {
      "cell_type": "markdown",
      "metadata": {
        "ExecuteTime": {
          "end_time": "2021-07-04T09:37:21.187420Z",
          "start_time": "2021-07-04T09:37:21.176445Z"
        },
        "id": "xsHBy3jFDOaJ"
      },
      "source": [
        "# The Dutch national flag (DNF) problem\n",
        "Is one of the most popular programming problems proposed by Edsger Dijkstra. The flag of the Netherlands consists of three colors: white, red, and blue. The task is to randomly arrange balls of white, red, and blue such that balls of the same color are placed together."
      ]
    },
    {
      "cell_type": "raw",
      "metadata": {
        "id": "P5jtJRxNDOaK"
      },
      "source": [
        "example --> \n",
        "Input: {0, 1, 2, 0, 1, 2}\n",
        "Output: {0, 0, 1, 1, 2, 2}\n",
        "Time Complexity --> O(N)"
      ]
    },
    {
      "cell_type": "code",
      "metadata": {
        "ExecuteTime": {
          "end_time": "2021-07-04T09:53:27.859653Z",
          "start_time": "2021-07-04T09:53:27.836718Z"
        },
        "id": "hdf0ExpPDOaK",
        "outputId": "45983e4a-af54-41da-b956-dc93650bbcda"
      },
      "source": [
        "def DNF_3(a:list)-> list:\n",
        "    '''\n",
        "        This is DNF for 3 Numbers 0,1,2\n",
        "        The basic algo behind this is \n",
        "        1 - We check for 0 from starting if there is 0 we update low and mid by 1\n",
        "        2 - if we found 1 then we swap from left hand side make mid counter increase\n",
        "        3 - if we found 2 then we swap from right hand side mane high counter decrease\n",
        "    '''\n",
        "    lo = 0\n",
        "    hi = len(a) - 1\n",
        "    mid = 0\n",
        "    while mid <= hi:\n",
        "        if a[mid] == 0:\n",
        "            a[lo], a[mid] = a[mid], a[lo]\n",
        "            lo = lo + 1\n",
        "            mid = mid + 1\n",
        "        elif a[mid] == 1:\n",
        "            mid = mid + 1\n",
        "        else:\n",
        "            a[mid], a[hi] = a[hi], a[mid]\n",
        "            hi = hi - 1\n",
        "    return a\n",
        "a = [0,1,0,1,0,2,0,1,0,2,1,0,2,1]\n",
        "print(help(DNF_3))\n",
        "print(DNF_3(a))\n"
      ],
      "execution_count": null,
      "outputs": [
        {
          "name": "stdout",
          "output_type": "stream",
          "text": [
            "Help on function DNF_3 in module __main__:\n",
            "\n",
            "DNF_3(a: list) -> list\n",
            "    This is DNF for 3 Numbers 0,1,2\n",
            "    The basic algo behind this is \n",
            "    1 - We check for 0 from starting if there is 0 we update low and mid by 1\n",
            "    2 - if we found 1 then we swap from left hand side make mid counter increase\n",
            "    3 - if we found 2 then we swap from right hand side mane high counter decrease\n",
            "\n",
            "None\n",
            "[0, 0, 0, 0, 0, 0, 1, 1, 1, 1, 1, 2, 2, 2]\n"
          ]
        }
      ]
    },
    {
      "cell_type": "markdown",
      "metadata": {
        "id": "RBXw6HRaDOaM"
      },
      "source": [
        "# Bitonic Search Problem"
      ]
    },
    {
      "cell_type": "markdown",
      "metadata": {
        "id": "CsgZBFokDOaN"
      },
      "source": [
        " A Bitonic Sequence is a sequence of numbers that is first strictly increasing then after a point strictly decreasing."
      ]
    },
    {
      "cell_type": "raw",
      "metadata": {
        "ExecuteTime": {
          "end_time": "2021-07-04T10:04:35.656499Z",
          "start_time": "2021-07-04T10:04:35.645528Z"
        },
        "id": "oxtVMavDDOaN"
      },
      "source": [
        "Input :  arr[] = {-3, 9, 18, 20, 17, 5, 1};\n",
        "         key = 20\n",
        "Output : Found at index 3"
      ]
    },
    {
      "cell_type": "code",
      "metadata": {
        "ExecuteTime": {
          "end_time": "2021-07-18T07:58:48.629050Z",
          "start_time": "2021-07-18T07:58:48.588714Z"
        },
        "id": "6fJ5ElZyDOaN",
        "outputId": "84bd4831-b1d0-495b-a709-353422fbafcb"
      },
      "source": [
        "def binary_search(arr:list, element:int, start:int, end:int, s_Type=False)-> int:\n",
        "    '''\n",
        "        ase-> Assending in case of left side partition\n",
        "              else desending in case of right side\n",
        "    '''\n",
        "    if end == -1:\n",
        "        end = len(arr)-1\n",
        "    mid = (start+end)//2\n",
        "    if element == arr[mid]:\n",
        "        return mid\n",
        "    if mid == end:\n",
        "        return False\n",
        "    else:\n",
        "        if s_Type == 'ase':\n",
        "            if element > arr[mid]:\n",
        "                return binary_search(arr,element,mid+1,end,s_Type='ase')\n",
        "            else:\n",
        "                return binary_search(arr,element,start,mid-1,s_Type='ase')\n",
        "        else:\n",
        "            if element < arr[mid]:\n",
        "                return binary_search(arr,element,mid+1,end)\n",
        "            else:\n",
        "                return binary_search(arr,element,start,mid-1)\n",
        "            \n",
        "def bitonicPoint(arr:list, left:int, right:int) -> int:\n",
        "    '''\n",
        "        Find the bitonic Point\n",
        "    '''\n",
        "    if (left <= right):\n",
        "        mid = (left + right) // 2;\n",
        "        if (arr[mid - 1] < arr[mid] and arr[mid] > arr[mid + 1]):\n",
        "            return mid;\n",
        "        if (arr[mid] < arr[mid + 1]):\n",
        "            return bitonicPoint(arr, mid + 1,right);\n",
        "        else:\n",
        "            return bitonicPoint(arr, left, mid - 1);\n",
        "    return -1;\n",
        "\n",
        "def bitonicSearch(arr:list,element:int) ->list:\n",
        "    '''\n",
        "        Take the array\n",
        "        Find the Bitonic point \n",
        "        Divide array with bitonic index\n",
        "        Perform Asending Binary search in left array\n",
        "        Perfom Desending search in right arr\n",
        "    '''\n",
        "    index = bitonicPoint(arr,1,len(arr)-2)\n",
        "    if element > arr[index]:\n",
        "        '''\n",
        "            As the index value is the max value \n",
        "            and if the element is large means\n",
        "            element is not in list\n",
        "        '''\n",
        "        return False\n",
        "    elif element == arr[index]:\n",
        "        return index\n",
        "    else:\n",
        "        '''\n",
        "            First search the right side\n",
        "        '''\n",
        "        index = binary_search(arr,element,0,index,s_Type='ase')\n",
        "        if index == False:\n",
        "            '''\n",
        "                Now search the left side\n",
        "            '''\n",
        "            index = binary_search(arr,element,index,len(arr)-1)\n",
        "    return index\n",
        "arr = [-3, 9, 18, 20, 17, 5, 1]\n",
        "bitonicSearch(arr,20)"
      ],
      "execution_count": null,
      "outputs": [
        {
          "data": {
            "text/plain": [
              "3"
            ]
          },
          "execution_count": 16,
          "metadata": {},
          "output_type": "execute_result"
        }
      ]
    },
    {
      "cell_type": "markdown",
      "metadata": {
        "ExecuteTime": {
          "end_time": "2021-07-11T07:09:16.191167Z",
          "start_time": "2021-07-11T07:09:16.183204Z"
        },
        "id": "fQWAejMIDOaO"
      },
      "source": [
        "# Stock Span Problem"
      ]
    },
    {
      "cell_type": "raw",
      "metadata": {
        "id": "nT2hSq64DOaO"
      },
      "source": [
        "Is a financial problem where we have a series of n daily price quotes for a stock and we need to calculate span of stock’s price for all n days. \n",
        "The span Si of the stock’s price on a given day i is defined as the maximum number of consecutive days just before the given day, for which the price of the stock on the current day is less than or equal to its price on the given day. \n",
        "For example, if an array of 7 days prices is given as {100, 80, 60, 70, 60, 75, 85}, then the span values for corresponding 7 days are {1, 1, 1, 2, 1, 4, 6} https://media.geeksforgeeks.org/wp-content/uploads/Stock_span.png"
      ]
    },
    {
      "cell_type": "code",
      "metadata": {
        "ExecuteTime": {
          "end_time": "2021-07-11T07:10:46.291497Z",
          "start_time": "2021-07-11T07:10:45.537189Z"
        },
        "id": "Sw0OKxt8DOaP",
        "outputId": "135a61cd-9e3b-4b57-9a1c-a0798789ffb9"
      },
      "source": [
        "from IPython.core.display import Image, display\n",
        "display(Image('https://media.geeksforgeeks.org/wp-content/uploads/Stock_span.png', width=390, unconfined=True))"
      ],
      "execution_count": null,
      "outputs": [
        {
          "data": {
            "image/png": "[encoded data removed]",
            "text/plain": [
              "<IPython.core.display.Image object>"
            ]
          },
          "metadata": {
            "image/png": {
              "unconfined": true,
              "width": 390
            }
          },
          "output_type": "display_data"
        }
      ]
    },
    {
      "cell_type": "raw",
      "metadata": {
        "ExecuteTime": {
          "end_time": "2021-07-18T06:52:09.173670Z",
          "start_time": "2021-07-18T06:52:09.164561Z"
        },
        "id": "jHCC08LIDOaP"
      },
      "source": [
        "There are 2 solution for this \n",
        "1 - With 0(n^2) complexity\n",
        "2-  With O(n)"
      ]
    },
    {
      "cell_type": "code",
      "metadata": {
        "ExecuteTime": {
          "end_time": "2021-07-18T07:49:34.746251Z",
          "start_time": "2021-07-18T07:49:34.715580Z"
        },
        "id": "lSw6c2CEDOaP",
        "outputId": "f7c43e57-7a18-4193-eda5-d84891b98552"
      },
      "source": [
        "class Node:\n",
        "    def __init__(self,data):\n",
        "        self.data = data\n",
        "        self.next = None\n",
        "class Stack:\n",
        "    def __init__(self,first_node,max_items):\n",
        "        self.head = Node(first_node)\n",
        "        self.max_items = max_items\n",
        "        self.len = 1\n",
        "    def push(self,node):\n",
        "        if self.head == None:\n",
        "            self.head = Node(node)\n",
        "            self.len +=1\n",
        "        elif self.len < self.max_items:\n",
        "            current = self.head\n",
        "            self.head = Node(node)\n",
        "            self.head.next = current\n",
        "            self.len+=1\n",
        "        else:\n",
        "            raise Exception(\"Stack Memory is Full\")\n",
        "    def pop(self):\n",
        "        if self.len == 0:\n",
        "            raise Exception(\"Stack Is emplty\")\n",
        "        else:\n",
        "            self.len -=1\n",
        "            deleted_node = self.head\n",
        "            self.head = self.head.next\n",
        "            current = self.head\n",
        "    def __len__(self):\n",
        "        return self.len\n",
        "\n",
        "def calculateSpan(price, Span):\n",
        "    '''\n",
        "        Use the stack to store the index by which we can manage the span\n",
        "        Also complexity for stack in O(1) for push and pop\n",
        "    '''\n",
        "    n = len(price)\n",
        "    #initializing stack\n",
        "    st = Stack(0,n)\n",
        "    st.push(0)\n",
        "    Span[0] = 1\n",
        "    for i in range(1, n):\n",
        "        while(len(st) > 0 and price[st.head.data] <= price[i]):\n",
        "            st.pop()\n",
        "        '''\n",
        "            Checking that if stack is empty means the element\n",
        "            at i is the Largest amoung all\n",
        "            Else its aht element at i is largest from i to\n",
        "            element at stack head index\n",
        "        '''\n",
        "        Span[i] = i + 1 if len(st) <= 0 else (i - st.head.data)\n",
        "        st.push(i)\n",
        "\n",
        "price = [10, 4, 5, 90, 120, 80]\n",
        "S = [0 for i in range(len(price)+1)]\n",
        "calculateSpan(price, S)\n",
        "print(S)"
      ],
      "execution_count": null,
      "outputs": [
        {
          "name": "stdout",
          "output_type": "stream",
          "text": [
            "[1, 1, 2, 4, 5, 1, 0]\n"
          ]
        }
      ]
    },
    {
      "cell_type": "markdown",
      "metadata": {
        "id": "PeR2WNXJDOaQ"
      },
      "source": [
        "# Catalan Number"
      ]
    },
    {
      "cell_type": "raw",
      "metadata": {
        "id": "J-38AGyKDOaQ"
      },
      "source": [
        "#Application of Catalan Number\n",
        "\n",
        "Number of possible Binary Search Trees with n keys.\n",
        "\n",
        "Number of expressions containing n pairs of parentheses which are correctly matched. For n = 3, possible expressions are ((())), ()(()), ()()(), (())(), (()()).\n",
        "\n",
        "Number of ways a convex polygon of n+2 sides can split into triangles by connecting vertices.\n",
        "\n",
        "Number of full binary trees (A rooted binary tree is full if every vertex has either two children or no children) with n+1 leaves.\n",
        "\n",
        "Number of different Unlabeled Binary Trees can be there with n nodes.\n",
        "The number of paths with 2n steps on a rectangular grid from bottom left, i.e., (n-1, 0) to top right (0, n-1) that do not cross above the main diagonal.\n",
        "\n",
        "Number of ways to insert n pairs of parentheses in a word of n+1 letters, e.g., for n=2 there are 2 ways: ((ab)c) or (a(bc)). For n=3 there are 5 ways, ((ab)(cd)), (((ab)c)d), ((a(bc))d), (a((bc)d)), (a(b(cd))).\n",
        "\n",
        "Number of noncrossing partitions of the set {1, …, 2n} in which every block is of size 2. A partition is noncrossing if and only if in its planar diagram, the blocks are disjoint (i.e. don’t cross). For example, below two are crossing and non-crossing partitions of {1, 2, 3, 4, 5, 6, 7, 8, 9}.  The partition {{1, 5, 7},  {2, 3, 8}, {4, 6}, {9}} is crossing and partition {{1, 5, 7}, {2, 3}, {4}, {6}, {8, 9}} is non-crossing.\n",
        "\n",
        "Number of Dyck words of length 2n. A Dyck word is a string consisting of n X’s and n Y’s such that no initial segment of the string has more Y’s than X’s.  For example, the following are the Dyck words of length 6: XXXYYY     XYXXYY     XYXYXY     XXYYXY     XXYXYY.\n",
        "\n",
        "Number of ways to tile a stairstep shape of height n with n rectangles. The following figure illustrates the case n = 4:\n",
        "\n",
        "Number of ways to connect the points on a circle disjoint chords.  This is similar to point 3 above.\n",
        "\n",
        "Number of ways to form a “mountain ranges” with n upstrokes and n down-strokes that all stay above the original line.The mountain range interpretation is that the mountains will never go below the horizon.\n",
        "\n",
        "Number of stack-sortable permutations of {1, …, n}. A permutation w is called stack-sortable if S(w) = (1, …, n), where S(w) is defined recursively as follows: write w = unv where n is the largest element in w and u and v are shorter sequences, and set S(w) = S(u)S(v)n, with S being the identity for one-element sequences.\n",
        "\n",
        "Number of permutations of {1, …, n} that avoid the pattern 123 (or any of the other patterns of length 3); that is, the number of permutations with no three-term increasing subsequence. For n = 3, these permutations are 132, 213, 231, 312 and 321. For n = 4, they are 1432, 2143, 2413, 2431, 3142, 3214, 3241, 3412, 3421, 4132, 4213, 4231, 4312 and 4321"
      ]
    },
    {
      "cell_type": "code",
      "metadata": {
        "ExecuteTime": {
          "end_time": "2021-07-18T08:43:13.484610Z",
          "start_time": "2021-07-18T08:43:13.454690Z"
        },
        "id": "WEklq3KBDOaR",
        "outputId": "f302b456-1ae0-4f9f-b754-d8e0685fe2b8"
      },
      "source": [
        "def catalan(n):\n",
        "    if n <= 1:\n",
        "        return 1\n",
        "    res = 0\n",
        "    for i in range(n):\n",
        "        res += catalan(i) * catalan(n-i-1)\n",
        "    return res\n",
        "\n",
        "# There is a simple formula for catalan nummber \n",
        "for i in range(10):\n",
        "    print(i,catalan(i))"
      ],
      "execution_count": null,
      "outputs": [
        {
          "name": "stdout",
          "output_type": "stream",
          "text": [
            "0 1\n",
            "1 1\n",
            "2 2\n",
            "3 5\n",
            "4 14\n",
            "5 42\n",
            "6 132\n",
            "7 429\n",
            "8 1430\n",
            "9 4862\n"
          ]
        }
      ]
    },
    {
      "cell_type": "markdown",
      "metadata": {
        "id": "4jl0V9fIDXfS"
      },
      "source": [
        "#  Two Sum Problem\n"
      ]
    },
    {
      "cell_type": "markdown",
      "metadata": {
        "id": "px5lrLJyEljF"
      },
      "source": [
        "Given an array of integers nums and an integer target, return indices of the two numbers such that they add up to target.\n",
        "\n",
        "You may assume that each input would have exactly one solution, and you may not use the same element twice.\n",
        "\n",
        "You can return the answer in any order.\n",
        "\n",
        " \n",
        "\n",
        "Example 1:\n",
        "\n",
        "Input: nums = [2,7,11,15], target = 9\n",
        "Output: [0,1]\n",
        "Output: Because nums[0] + nums[1] == 9, we return [0, 1]."
      ]
    },
    {
      "cell_type": "code",
      "metadata": {
        "id": "szQhXOPtDOaR"
      },
      "source": [
        "class Solution:\n",
        "    def twoSum(self, nums: list, target: int):\n",
        "        check_dic = {n:i for i,n in enumerate(nums)}\n",
        "        for index,number in enumerate(nums):\n",
        "            if check_dic.get(target-number,0) != index and check_dic.get(target - number,0):\n",
        "                return [index,check_dic.get(target-number)]\n"
      ],
      "execution_count": null,
      "outputs": []
    },
    {
      "cell_type": "code",
      "metadata": {
        "id": "Fz_GCSnHEgvu"
      },
      "source": [
        ""
      ],
      "execution_count": null,
      "outputs": []
    }
  ]
}