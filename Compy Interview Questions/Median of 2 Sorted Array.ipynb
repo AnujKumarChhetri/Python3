{
 "cells": [
  {
   "cell_type": "code",
   "execution_count": null,
   "metadata": {},
   "outputs": [],
   "source": [
    "'''\n",
    "Given two sorted arrays nums1 and nums2 of size m and n respectively, return the median of the two sorted arrays.\n",
    "\n",
    "The overall run time complexity should be O(log (m+n)).\n",
    "\n",
    " \n",
    "\n",
    "Example 1:\n",
    "\n",
    "Input: nums1 = [1,3], nums2 = [2]\n",
    "Output: 2.00000\n",
    "Explanation: merged array = [1,2,3] and median is 2.\n",
    "Example 2:\n",
    "\n",
    "Input: nums1 = [1,2], nums2 = [3,4]\n",
    "Output: 2.50000\n",
    "Explanation: merged array = [1,2,3,4] and median is (2 + 3) / 2 = 2.5.\n",
    "    \n",
    "Refrence -> https://www.youtube.com/watch?v=q6IEA26hvXc\n",
    "'''"
   ]
  },
  {
   "cell_type": "code",
   "execution_count": 2,
   "metadata": {
    "ExecuteTime": {
     "end_time": "2022-01-12T10:26:40.812948Z",
     "start_time": "2022-01-12T10:26:40.764086Z"
    }
   },
   "outputs": [
    {
     "data": {
      "text/plain": [
       "2"
      ]
     },
     "execution_count": 2,
     "metadata": {},
     "output_type": "execute_result"
    }
   ],
   "source": [
    "def getMedian():\n",
    "    nums1 = [1,3]\n",
    "    nums2 = [2]\n",
    "    totalArraySize = len(nums1)+len(nums2)\n",
    "    halfForMedian = totalArraySize//2\n",
    "    if len(nums2)<len(nums1):\n",
    "        nums1,nums2=nums2,nums1\n",
    "    left,right = 0,len(nums1)-1 \n",
    "    while True:\n",
    "        iNums1 = (left+right)//2  \n",
    "        jNums2 = halfForMedian-iNums1-2  \n",
    "        aleft = nums1[iNums1] if iNums1 >= 0 else float('-infinity')\n",
    "        aright = nums1[iNums1+1] if iNums1+1 < len(nums1) else float('infinity')\n",
    "        bleft = nums2[jNums2] if jNums2 >= 0 else float('-infinity')\n",
    "        bright = nums2[jNums2+1] if jNums2+1 < len(nums2) else float('infinity')\n",
    "        \n",
    "        if aleft <= bright and bleft <= aright:\n",
    "            if totalArraySize%2:\n",
    "                return aright if aright < bright else bright\n",
    "            return ((aleft if aleft > bleft else bleft) + (aright if aright < bright else bright))/2\n",
    "        \n",
    "        elif aleft > bright:\n",
    "            right = iNums1 - 1\n",
    "        else:\n",
    "            left = iNums1+1\n",
    "getMedian()"
   ]
  }
 ],
 "metadata": {
  "kernelspec": {
   "display_name": "Python 3",
   "language": "python",
   "name": "python3"
  },
  "language_info": {
   "codemirror_mode": {
    "name": "ipython",
    "version": 3
   },
   "file_extension": ".py",
   "mimetype": "text/x-python",
   "name": "python",
   "nbconvert_exporter": "python",
   "pygments_lexer": "ipython3",
   "version": "3.7.3"
  }
 },
 "nbformat": 4,
 "nbformat_minor": 2
}
