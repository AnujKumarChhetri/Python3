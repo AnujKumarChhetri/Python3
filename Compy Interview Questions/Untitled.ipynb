{
 "cells": [
  {
   "cell_type": "raw",
   "metadata": {
    "ExecuteTime": {
     "end_time": "2022-01-05T09:08:57.741919Z",
     "start_time": "2022-01-05T09:08:57.736174Z"
    }
   },
   "source": [
    "You are given two non-empty linked lists representing two non-negative integers. The digits are stored in reverse order, and each of their nodes contains a single digit. Add the two numbers and return the sum as a linked list.\n",
    "\n",
    "You may assume the two numbers do not contain any leading zero, except the number 0 itself.\n",
    "\n",
    " \n",
    "\n",
    "Example 1:\n",
    "\n",
    "\n",
    "Input: l1 = [2,4,3], l2 = [5,6,4]\n",
    "Output: [7,0,8]\n",
    "Explanation: 342 + 465 = 807.\n",
    "Example 2:\n",
    "\n",
    "Input: l1 = [0], l2 = [0]\n",
    "Output: [0]\n",
    "Example 3:\n",
    "\n",
    "Input: l1 = [9,9,9,9,9,9,9], l2 = [9,9,9,9]\n",
    "Output: [8,9,9,9,0,0,0,1]\n",
    " \n",
    "\n",
    "Constraints:\n",
    "\n",
    "The number of nodes in each linked list is in the range [1, 100].\n",
    "0 <= Node.val <= 9\n",
    "It is guaranteed that the list represents a number that does not have leading zeros."
   ]
  },
  {
   "cell_type": "code",
   "execution_count": 2,
   "metadata": {
    "ExecuteTime": {
     "end_time": "2022-01-05T09:27:25.027785Z",
     "start_time": "2022-01-05T09:27:25.003579Z"
    }
   },
   "outputs": [
    {
     "name": "stdout",
     "output_type": "stream",
     "text": [
      "[0] False 0 0\n",
      "[0]\n"
     ]
    }
   ],
   "source": [
    "i = len(l1)<=len(l2) and len(l1) or len(l2)<len(l1) and len(l2)\n",
    "maxList= len(l1)>=len(l2) and l1 or len(l2)>len(l1) and l2\n",
    "maxLen = len(maxList)\n",
    "j = 0\n",
    "carry = False\n",
    "def updateSum(maxList,carry,item1,item2):\n",
    "    suM = item1+item2\n",
    "    if carry != False:\n",
    "        suM+=carry\n",
    "        carry = False\n",
    "    if suM>9:\n",
    "        print(suM)\n",
    "        carry = suM//10\n",
    "        suM = suM%10\n",
    "    return suM,carry\n",
    "while(maxLen>0):\n",
    "    if j<i:\n",
    "        maxList[j],carry =  updateSum(maxList,carry,l1[j],l2[j])\n",
    "    elif carry != False:\n",
    "        maxList[j],carry = updateSum(maxList,0,carry,maxList[j])\n",
    "    maxLen-=1\n",
    "    j+=1\n",
    "if carry:\n",
    "    maxList.append(carry)\n",
    "print(maxList)\n",
    "\n",
    "    "
   ]
  },
  {
   "cell_type": "code",
   "execution_count": 8,
   "metadata": {
    "ExecuteTime": {
     "end_time": "2022-01-05T10:49:53.518893Z",
     "start_time": "2022-01-05T10:49:53.497953Z"
    }
   },
   "outputs": [
    {
     "name": "stdout",
     "output_type": "stream",
     "text": [
      "[0, 0, 0, 0, 0, 0, 0, 0, 0, 0, 0, 0, 0, 0, 0, 0, 0, 0, 0, 0, 0, 0, 0, 0, 0, 0, 0, 0, 0, 0, 0, 0, 0, 0, 0, 0, 0, 0, 0, 0, 0, 0, 0, 0, 0, 0, 0, 0, 0, 0, 0, 0, 0, 0, 0, 0, 0, 0, 0, 0, 0, 0, 0, 0, 0, 0, 0, 0, 0, 0, 0, 0, 0, 0, 0, 0, 0, 0, 0, 0, 0, 0, 0, 0, 0, 0, 0, 0, 0, 0, 0, 0, 0, 0, 0, 0, 0, 3, 0, 2, 1, 0, 0, 0, 0, 0, 0, 0, 0, 0, 0, 0, 0, 0, 0, 0, 0, 0, 0, 0, 0, 0, 0, 0, 0, 0, 0, 0, 0, 0, 0, 0, 0, 0, 0, 0, 0, 0, 0, 0, 0, 0, 0, 0, 0, 0, 0, 0, 0, 0, 0, 0, 0, 0, 0, 0, 0, 0, 0, 0, 0, 0, 0, 0, 0, 0, 0, 0, 0, 0, 0, 0, 0, 0, 0, 0, 0, 0, 0, 0, 0, 0, 0, 0, 0, 0, 0, 0, 0, 0, 0, 0, 0, 0, 0, 0, 0, 0, 0, 0, 0, 0, 0, 0, 0, 0, 0, 0, 0, 0, 0, 0, 0, 0, 0, 0, 0, 0, 0, 0, 0, 0, 0, 0, 0, 0, 0, 0, 0, 0, 0, 0, 0, 0, 0, 0, 0, 0, 0, 0, 0, 0, 0, 0, 0, 0, 0, 0, 0, 0, 0, 0, 0, 0, 0, 0]\n",
      "2\n"
     ]
    }
   ],
   "source": [
    "def lengthOfLongestSubstring(s: str) -> int:\n",
    "    strDic = {}\n",
    "    maxCount = l = r = tempCount=0\n",
    "    while(r < len(s)):\n",
    "        #item present in set\n",
    "        if strDic.get(item[r]):\n",
    "            #If tempCount is small means we dont have any issue  with the repetation\n",
    "            if tempCount < maxCount:\n",
    "                strDic[item[r]] = r\n",
    "            if maxCount < tempCount:\n",
    "                l = r\n",
    "                tempCount = -1\n",
    "        else:\n",
    "            strDic[item[r]] = r\n",
    "        if tempCount > maxCount:\n",
    "            maxCount = tempCount\n",
    "        tempCount +=1\n",
    "lengthOfLongestSubstring(\"acdaac\")"
   ]
  },
  {
   "cell_type": "raw",
   "metadata": {},
   "source": [
    "3. Longest Substring Without Repeating Charac"
   ]
  },
  {
   "cell_type": "code",
   "execution_count": 2,
   "metadata": {
    "ExecuteTime": {
     "end_time": "2022-01-05T10:46:49.718687Z",
     "start_time": "2022-01-05T10:46:49.692761Z"
    }
   },
   "outputs": [
    {
     "name": "stdout",
     "output_type": "stream",
     "text": [
      "The input is  geeksforgeeks\n",
      "[0, 0, 0, 0, 0, 0, 0, 0, 0, 0, 0, 0, 0, 0, 0, 0, 0, 0, 0, 0, 0, 0, 0, 0, 0, 0, 0, 0, 0, 0, 0, 0, 0, 0, 0, 0, 0, 0, 0, 0, 0, 0, 0, 0, 0, 0, 0, 0, 0, 0, 0, 0, 0, 0, 0, 0, 0, 0, 0, 0, 0, 0, 0, 0, 0, 0, 0, 0, 0, 0, 0, 0, 0, 0, 0, 0, 0, 0, 0, 0, 0, 0, 0, 0, 0, 0, 0, 0, 0, 0, 0, 0, 0, 0, 0, 0, 0, 0, 0, 0, 0, 0, 0, 0, 0, 0, 0, 0, 0, 0, 0, 0, 0, 0, 0, False, 0, 0, 0, 0, 0, 0, 0, 0, 0, 0, 0, 0, 0, 0, 0, 0, 0, 0, 0, 0, 0, 0, 0, 0, 0, 0, 0, 0, 0, 0, 0, 0, 0, 0, 0, 0, 0, 0, 0, 0, 0, 0, 0, 0, 0, 0, 0, 0, 0, 0, 0, 0, 0, 0, 0, 0, 0, 0, 0, 0, 0, 0, 0, 0, 0, 0, 0, 0, 0, 0, 0, 0, 0, 0, 0, 0, 0, 0, 0, 0, 0, 0, 0, 0, 0, 0, 0, 0, 0, 0, 0, 0, 0, 0, 0, 0, 0, 0, 0, 0, 0, 0, 0, 0, 0, 0, 0, 0, 0, 0, 0, 0, 0, 0, 0, 0, 0, 0, 0, 0, 0, 0, 0, 0, 0, 0, 0, 0, 0, 0, 0, 0, 0, 0, 0, 0, 0, 0, 0, 0]\n",
      "The length of the longest non-repeating character substring is  7\n"
     ]
    }
   ],
   "source": [
    "# Python3 program to find the \n",
    "# length of the longest substring\n",
    "# without repeating characters\n",
    "def longestUniqueSubsttr(str):\n",
    "    \n",
    "    n = len(str)\n",
    "    \n",
    "    # Result\n",
    "    res = 0 \n",
    " \n",
    "    for i in range(n):\n",
    "         \n",
    "        # Note : Default values in \n",
    "        # visited are false\n",
    "        visited = [0] * 256\n",
    " \n",
    "        for j in range(i, n):\n",
    " \n",
    "            # If current character is visited\n",
    "            # Break the loop\n",
    "            if (visited[ord(str[j])] == True):\n",
    "                break\n",
    " \n",
    "            # Else update the result if\n",
    "            # this window is larger, and mark\n",
    "            # current character as visited.\n",
    "            else:\n",
    "                res = max(res, j - i + 1)\n",
    "                visited[ord(str[j])] = True\n",
    "            \n",
    "        # Remove the first character of previous\n",
    "        # window\n",
    "        visited[ord(str[i])] = False\n",
    "    print(visited)\n",
    "    return res\n",
    "\n",
    "# Driver code\n",
    "str = \"geeksforgeeks\"\n",
    "print(\"The input is \", str)\n",
    "\n",
    "lens = longestUniqueSubsttr(str)\n",
    "print(\"The length of the longest \" \n",
    "      \"non-repeating character substring is \", lens)"
   ]
  },
  {
   "cell_type": "code",
   "execution_count": null,
   "metadata": {},
   "outputs": [],
   "source": []
  }
 ],
 "metadata": {
  "kernelspec": {
   "display_name": "Python 3",
   "language": "python",
   "name": "python3"
  },
  "language_info": {
   "codemirror_mode": {
    "name": "ipython",
    "version": 3
   },
   "file_extension": ".py",
   "mimetype": "text/x-python",
   "name": "python",
   "nbconvert_exporter": "python",
   "pygments_lexer": "ipython3",
   "version": "3.7.3"
  }
 },
 "nbformat": 4,
 "nbformat_minor": 2
}
