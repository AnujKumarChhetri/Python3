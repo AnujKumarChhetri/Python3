{
 "cells": [
  {
   "cell_type": "code",
   "execution_count": 2,
   "metadata": {
    "ExecuteTime": {
     "end_time": "2022-01-25T02:44:45.154284Z",
     "start_time": "2022-01-25T02:44:45.110622Z"
    }
   },
   "outputs": [
    {
     "name": "stdout",
     "output_type": "stream",
     "text": [
      "----- Found the result -----\n",
      "[[ True False False False False False False False False False]\n",
      " [ True  True False False False False False False False False]\n",
      " [ True  True False  True  True False False False False False]\n",
      " [ True  True False  True  True  True False  True  True False]\n",
      " [ True  True False  True  True  True  True  True  True  True]\n",
      " [ True  True False  True  True  True  True  True  True  True]\n",
      " [ True  True False  True  True  True  True  True  True  True]]\n",
      "[5, 3, 1]\n"
     ]
    }
   ],
   "source": [
    "import numpy\n",
    "# from tabulate import tabulate\n",
    "class SubSetSum:\n",
    "    def __init__(self,inputArray,suM):\n",
    "        self.inputArray = inputArray\n",
    "        self.suM = suM\n",
    "        self.dpArray = numpy.full((len(self.inputArray)+1,self.suM+1),False)\n",
    "        \n",
    "    def defUPdateDpArray(self):\n",
    "        #Update first Row with True\n",
    "        for i in range(len(self.inputArray)+1):\n",
    "            self.dpArray[i][0] = True\n",
    "        for i in range(1,len(self.inputArray)+1):\n",
    "            for j in range(1,self.suM+1):\n",
    "                #Just to copy the previous generated value till we don't reach the row value\n",
    "                #A way of memoization\n",
    "                if j < self.inputArray[i-1]:\n",
    "                    #This case if to manage index error in array\n",
    "                    self.dpArray[i][j] = self.dpArray[i-1][j]\n",
    "                else:\n",
    "                    #Just to copy the previous generated value till we don't reach the row value\n",
    "                    #A way of memoization\n",
    "                    if self.dpArray[i-1][j]:\n",
    "                        self.dpArray[i][j] = self.dpArray[i-1][j]\n",
    "                    #Putting the value with the help of formula\n",
    "                    else:\n",
    "                        self.dpArray[i][j] = self.dpArray[i-1][j-self.inputArray[i-1]]\n",
    "    def getSingleSubSet(self):\n",
    "        resultList = []\n",
    "        if self.dpArray[len(self.inputArray)][self.suM]:\n",
    "            print(\"----- Found the result -----\")\n",
    "            i = len(self.inputArray)\n",
    "            j = self.suM\n",
    "            print(self.dpArray)\n",
    "            while(i > 0 and j > 0):\n",
    "                if not self.dpArray[i-1][j]:\n",
    "                    resultList.append(self.inputArray[i-1])\n",
    "                    #Updating the value for j\n",
    "                    j = self.suM = self.suM-self.inputArray[i-1]\n",
    "                    i-=1\n",
    "                else:\n",
    "                    i-=1\n",
    "        else:\n",
    "            print(\"No Its Not possible\")\n",
    "        return resultList\n",
    "                    \n",
    "    def getSubsetSum(self):\n",
    "        self.defUPdateDpArray()\n",
    "        return(self.getSingleSubSet())\n",
    "\n",
    "input1 = [1,3,4,5,7,9]\n",
    "suMM = 9\n",
    "subSet = SubSetSum(input1,suMM)\n",
    "print(subSet.getSubsetSum())"
   ]
  },
  {
   "cell_type": "code",
   "execution_count": 1,
   "metadata": {
    "ExecuteTime": {
     "end_time": "2022-01-25T02:10:57.558948Z",
     "start_time": "2022-01-25T02:10:54.721766Z"
    }
   },
   "outputs": [
    {
     "name": "stdout",
     "output_type": "stream",
     "text": [
      "[[1 0 0 0 0 0 0 0 0 0]\n",
      " [1 1 0 0 0 0 0 0 0 0]\n",
      " [1 1 0 1 1 0 0 0 0 0]\n",
      " [1 1 0 1 2 1 0 1 1 0]\n",
      " [1 1 0 1 2 2 1 1 2 2]\n",
      " [1 1 0 1 2 2 1 2 3 2]\n",
      " [1 1 0 1 2 2 1 2 3 3]]\n",
      "----- Found the result -----\n",
      "Total Subset which get formed are these 3\n"
     ]
    }
   ],
   "source": [
    "import numpy\n",
    "# from tabulate import tabulate\n",
    "class SubSetSum:\n",
    "    def __init__(self,inputArray,suM):\n",
    "        self.inputArray = inputArray\n",
    "        self.suM = suM\n",
    "        self.dpArray = numpy.full((len(self.inputArray)+1,self.suM+1),0)\n",
    "    def defUPdateDpArray(self):\n",
    "        #Update first Row with 1\n",
    "        for i in range(len(self.inputArray)+1):\n",
    "            self.dpArray[i][0] = 1\n",
    "        for i in range(1,len(self.inputArray)+1):\n",
    "            for j in range(1,self.suM+1):\n",
    "                if j < self.inputArray[i-1]:\n",
    "                    self.dpArray[i][j] = self.dpArray[i-1][j]\n",
    "                else:\n",
    "                    self.dpArray[i][j] = self.dpArray[i-1][j-self.inputArray[i-1]] + self.dpArray[i-1][j]\n",
    "    def getSingleSubSet(self):\n",
    "        resultList = []\n",
    "        if self.dpArray[len(self.inputArray)][self.suM]:\n",
    "            print(\"----- Found the result -----\")\n",
    "            print(\"Total Subset which get formed are these %s\" % (self.dpArray[len(self.inputArray)][self.suM]))\n",
    "        else:\n",
    "            print(\"No Its Not possible\")\n",
    "                    \n",
    "    def getSubsetSum(self):\n",
    "        self.defUPdateDpArray()\n",
    "        print(self.dpArray)\n",
    "        return(self.getSingleSubSet())\n",
    "\n",
    "input1 = [1,3,4,5,7,9]\n",
    "suMM = 9\n",
    "subSet = SubSetSum(input1,suMM)\n",
    "subSet.getSubsetSum()"
   ]
  },
  {
   "cell_type": "code",
   "execution_count": 2,
   "metadata": {
    "ExecuteTime": {
     "end_time": "2022-01-25T16:14:04.630320Z",
     "start_time": "2022-01-25T16:14:04.556920Z"
    }
   },
   "outputs": [
    {
     "name": "stdout",
     "output_type": "stream",
     "text": [
      "Stack is empty\n",
      "\n",
      "1\n",
      "\n",
      "2\n",
      "1\n",
      "\n",
      "3\n",
      "2\n",
      "1\n",
      "\n",
      "4\n",
      "3\n",
      "2\n",
      "1\n",
      "\n",
      "5\n",
      "4\n",
      "3\n",
      "2\n",
      "1\n",
      "\n",
      "6\n",
      "5\n",
      "4\n",
      "3\n",
      "2\n",
      "1\n",
      "\n"
     ]
    },
    {
     "data": {
      "text/plain": [
       "<__main__.Node at 0x139eeb54d68>"
      ]
     },
     "execution_count": 2,
     "metadata": {},
     "output_type": "execute_result"
    }
   ],
   "source": [
    "class Node:\n",
    "    def __init__(self,data):\n",
    "        self.data = data\n",
    "        self.next = None\n",
    "class Stack:\n",
    "    def __init__(self, Node, max_items):\n",
    "        self.head = None\n",
    "        self.Node = Node\n",
    "        self.max_items = max_items\n",
    "        self.len = 0\n",
    "        if not \"next\" in dir(Node('_')):\n",
    "            raise Exception('Node Class must have next variable')\n",
    "\n",
    "    def push(self, node):\n",
    "        if self.head is None:\n",
    "            self.head = self.Node(node)\n",
    "            self.len += 1\n",
    "        elif self.len < self.max_items:\n",
    "            current = self.head\n",
    "            self.head = self.Node(node)\n",
    "            self.head.next = current\n",
    "            self.len += 1\n",
    "        else:\n",
    "            raise Exception(\"Stack Memory is Full\")\n",
    "\n",
    "    def pop(self):\n",
    "        if self.len == 0:\n",
    "            raise Exception(\"Stack Is empty\")\n",
    "        else:\n",
    "            self.len -= 1\n",
    "            deleted_node = self.head\n",
    "            self.head = self.head.next\n",
    "            return deleted_node\n",
    "\n",
    "    def print_stack(self):\n",
    "        current = self.head\n",
    "        if self.len:\n",
    "            while current.next is not None:\n",
    "                print(current.data)\n",
    "                current = current.next\n",
    "            print(current.data)\n",
    "        else:\n",
    "            print('Stack is empty')\n",
    "\n",
    "    def __len__(self):\n",
    "        return self.len\n",
    "\n",
    "\n",
    "stack = Stack(Node, 6)\n",
    "for x in range(1, 7):\n",
    "    try:\n",
    "        stack.print_stack()\n",
    "        stack.push(x)\n",
    "        print()\n",
    "    except Exception as e:\n",
    "        print(e)\n",
    "        break\n",
    "stack.print_stack()\n",
    "print()\n",
    "stack.pop()"
   ]
  },
  {
   "cell_type": "code",
   "execution_count": 23,
   "metadata": {
    "ExecuteTime": {
     "end_time": "2022-01-25T12:44:04.461864Z",
     "start_time": "2022-01-25T12:44:04.391189Z"
    }
   },
   "outputs": [
    {
     "name": "stdout",
     "output_type": "stream",
     "text": [
      "----- Found the result -----\n",
      "[[ True False False False False False False False False False]\n",
      " [ True  True False False False False False False False False]\n",
      " [ True  True False  True  True False False False False False]\n",
      " [ True  True False  True  True  True False  True  True False]\n",
      " [ True  True False  True  True  True False  True  True  True]\n",
      " [ True  True False  True  True  True  True  True  True  True]\n",
      " [ True  True False  True  True  True  True  True  True  True]]\n"
     ]
    },
    {
     "ename": "IndexError",
     "evalue": "index 8 is out of bounds for axis 0 with size 7",
     "output_type": "error",
     "traceback": [
      "\u001b[1;31m---------------------------------------------------------------------------\u001b[0m",
      "\u001b[1;31mIndexError\u001b[0m                                Traceback (most recent call last)",
      "\u001b[1;32m<ipython-input-23-31313720525a>\u001b[0m in \u001b[0;36m<module>\u001b[1;34m\u001b[0m\n\u001b[0;32m     56\u001b[0m \u001b[0msuMM\u001b[0m \u001b[1;33m=\u001b[0m \u001b[1;36m9\u001b[0m\u001b[1;33m\u001b[0m\u001b[1;33m\u001b[0m\u001b[0m\n\u001b[0;32m     57\u001b[0m \u001b[0msubSet\u001b[0m \u001b[1;33m=\u001b[0m \u001b[0mSubSetSum\u001b[0m\u001b[1;33m(\u001b[0m\u001b[0minput1\u001b[0m\u001b[1;33m,\u001b[0m\u001b[0msuMM\u001b[0m\u001b[1;33m)\u001b[0m\u001b[1;33m\u001b[0m\u001b[1;33m\u001b[0m\u001b[0m\n\u001b[1;32m---> 58\u001b[1;33m \u001b[0mprint\u001b[0m\u001b[1;33m(\u001b[0m\u001b[0msubSet\u001b[0m\u001b[1;33m.\u001b[0m\u001b[0mgetSubsetSum\u001b[0m\u001b[1;33m(\u001b[0m\u001b[1;33m)\u001b[0m\u001b[1;33m)\u001b[0m\u001b[1;33m\u001b[0m\u001b[1;33m\u001b[0m\u001b[0m\n\u001b[0m",
      "\u001b[1;32m<ipython-input-23-31313720525a>\u001b[0m in \u001b[0;36mgetSubsetSum\u001b[1;34m(self)\u001b[0m\n\u001b[0;32m     51\u001b[0m     \u001b[1;32mdef\u001b[0m \u001b[0mgetSubsetSum\u001b[0m\u001b[1;33m(\u001b[0m\u001b[0mself\u001b[0m\u001b[1;33m)\u001b[0m\u001b[1;33m:\u001b[0m\u001b[1;33m\u001b[0m\u001b[1;33m\u001b[0m\u001b[0m\n\u001b[0;32m     52\u001b[0m         \u001b[0mself\u001b[0m\u001b[1;33m.\u001b[0m\u001b[0mdefUPdateDpArray\u001b[0m\u001b[1;33m(\u001b[0m\u001b[1;33m)\u001b[0m\u001b[1;33m\u001b[0m\u001b[1;33m\u001b[0m\u001b[0m\n\u001b[1;32m---> 53\u001b[1;33m         \u001b[1;32mreturn\u001b[0m\u001b[1;33m(\u001b[0m\u001b[0mself\u001b[0m\u001b[1;33m.\u001b[0m\u001b[0mgetSingleSubSet\u001b[0m\u001b[1;33m(\u001b[0m\u001b[1;33m)\u001b[0m\u001b[1;33m)\u001b[0m\u001b[1;33m\u001b[0m\u001b[1;33m\u001b[0m\u001b[0m\n\u001b[0m\u001b[0;32m     54\u001b[0m \u001b[1;33m\u001b[0m\u001b[0m\n\u001b[0;32m     55\u001b[0m \u001b[0minput1\u001b[0m \u001b[1;33m=\u001b[0m \u001b[1;33m[\u001b[0m\u001b[1;36m1\u001b[0m\u001b[1;33m,\u001b[0m\u001b[1;36m3\u001b[0m\u001b[1;33m,\u001b[0m\u001b[1;36m4\u001b[0m\u001b[1;33m,\u001b[0m\u001b[1;36m9\u001b[0m\u001b[1;33m,\u001b[0m\u001b[1;36m5\u001b[0m\u001b[1;33m,\u001b[0m\u001b[1;36m7\u001b[0m\u001b[1;33m]\u001b[0m\u001b[1;33m\u001b[0m\u001b[1;33m\u001b[0m\u001b[0m\n",
      "\u001b[1;32m<ipython-input-23-31313720525a>\u001b[0m in \u001b[0;36mgetSingleSubSet\u001b[1;34m(self)\u001b[0m\n\u001b[0;32m     37\u001b[0m             \u001b[1;32mwhile\u001b[0m\u001b[1;33m(\u001b[0m\u001b[0mi\u001b[0m \u001b[1;33m>\u001b[0m \u001b[1;36m0\u001b[0m \u001b[1;32mand\u001b[0m \u001b[0mj\u001b[0m \u001b[1;33m>\u001b[0m \u001b[1;36m0\u001b[0m\u001b[1;33m)\u001b[0m\u001b[1;33m:\u001b[0m\u001b[1;33m\u001b[0m\u001b[1;33m\u001b[0m\u001b[0m\n\u001b[0;32m     38\u001b[0m                 \u001b[1;32mif\u001b[0m \u001b[0mself\u001b[0m\u001b[1;33m.\u001b[0m\u001b[0mdpArray\u001b[0m\u001b[1;33m[\u001b[0m\u001b[0mi\u001b[0m\u001b[1;33m-\u001b[0m\u001b[1;36m1\u001b[0m\u001b[1;33m]\u001b[0m\u001b[1;33m[\u001b[0m\u001b[0mj\u001b[0m\u001b[1;33m]\u001b[0m\u001b[1;33m:\u001b[0m\u001b[1;33m\u001b[0m\u001b[1;33m\u001b[0m\u001b[0m\n\u001b[1;32m---> 39\u001b[1;33m                     \u001b[1;32mif\u001b[0m \u001b[0mself\u001b[0m\u001b[1;33m.\u001b[0m\u001b[0mdpArray\u001b[0m\u001b[1;33m[\u001b[0m\u001b[0mj\u001b[0m\u001b[1;33m-\u001b[0m\u001b[0mself\u001b[0m\u001b[1;33m.\u001b[0m\u001b[0mdpArray\u001b[0m\u001b[1;33m[\u001b[0m\u001b[0mi\u001b[0m\u001b[1;33m-\u001b[0m\u001b[1;36m1\u001b[0m\u001b[1;33m]\u001b[0m\u001b[1;33m]\u001b[0m\u001b[1;33m:\u001b[0m\u001b[1;33m\u001b[0m\u001b[1;33m\u001b[0m\u001b[0m\n\u001b[0m\u001b[0;32m     40\u001b[0m                         \u001b[0mresultList\u001b[0m\u001b[1;33m\u001b[0m\u001b[1;33m\u001b[0m\u001b[0m\n\u001b[0;32m     41\u001b[0m                     \u001b[0mi\u001b[0m\u001b[1;33m-=\u001b[0m\u001b[1;36m1\u001b[0m\u001b[1;33m\u001b[0m\u001b[1;33m\u001b[0m\u001b[0m\n",
      "\u001b[1;31mIndexError\u001b[0m: index 8 is out of bounds for axis 0 with size 7"
     ]
    }
   ],
   "source": [
    "import numpy\n",
    "# from tabulate import tabulate\n",
    "class SubSetSum:\n",
    "    def __init__(self,inputArray,suM):\n",
    "        self.inputArray = inputArray\n",
    "        self.suM = suM\n",
    "        self.dpArray = numpy.full((len(self.inputArray)+1,self.suM+1),False)\n",
    "        \n",
    "    def defUPdateDpArray(self):\n",
    "        #Update first Row with True\n",
    "        for i in range(len(self.inputArray)+1):\n",
    "            self.dpArray[i][0] = True\n",
    "        for i in range(1,len(self.inputArray)+1):\n",
    "            for j in range(1,self.suM+1):\n",
    "                #Just to copy the previous generated value till we don't reach the row value\n",
    "                #A way of memoization\n",
    "                if j < self.inputArray[i-1]:\n",
    "                    #This case if to manage index error in array\n",
    "                    self.dpArray[i][j] = self.dpArray[i-1][j]\n",
    "                else:\n",
    "                    #Just to copy the previous generated value till we don't reach the row value\n",
    "                    #A way of memoization\n",
    "                    if self.dpArray[i-1][j]:\n",
    "                        self.dpArray[i][j] = self.dpArray[i-1][j]\n",
    "                    #Putting the value with the help of formula\n",
    "                    else:\n",
    "                        self.dpArray[i][j] = self.dpArray[i-1][j-self.inputArray[i-1]]\n",
    "    def getSingleSubSet(self):\n",
    "        resultList = []\n",
    "        if self.dpArray[len(self.inputArray)][self.suM]:\n",
    "            print(\"----- Found the result -----\")\n",
    "            i = len(self.inputArray)\n",
    "            j = self.suM\n",
    "            print(self.dpArray)\n",
    "            if self.inputArray[i-1] == self.suM:\n",
    "                resultList.append([9])\n",
    "            while(i > 0 and j > 0):\n",
    "                if self.dpArray[i-1][j]:\n",
    "                    if self.dpArray[j-self.dpArray[i-1]]:\n",
    "                        resultList\n",
    "                    i-=1\n",
    "                    j-=1\n",
    "                    #check the list and work \n",
    "                else:\n",
    "                    #just move the i cursor on the top\n",
    "                    i-=1\n",
    "        else:\n",
    "            print(\"No Its Not possible\")\n",
    "        return resultList\n",
    "                    \n",
    "    def getSubsetSum(self):\n",
    "        self.defUPdateDpArray()\n",
    "        return(self.getSingleSubSet())\n",
    "\n",
    "input1 = [1,3,4,9,5,7]\n",
    "suMM = 9\n",
    "subSet = SubSetSum(input1,suMM)\n",
    "print(subSet.getSubsetSum())"
   ]
  },
  {
   "cell_type": "code",
   "execution_count": 51,
   "metadata": {
    "ExecuteTime": {
     "end_time": "2022-01-25T16:04:03.450854Z",
     "start_time": "2022-01-25T16:04:00.038680Z"
    }
   },
   "outputs": [
    {
     "ename": "RecursionError",
     "evalue": "maximum recursion depth exceeded",
     "output_type": "error",
     "traceback": [
      "\u001b[1;31m---------------------------------------------------------------------------\u001b[0m",
      "\u001b[1;31mRecursionError\u001b[0m                            Traceback (most recent call last)",
      "\u001b[1;32m<ipython-input-51-0cff08eee4d8>\u001b[0m in \u001b[0;36m<module>\u001b[1;34m\u001b[0m\n\u001b[0;32m      6\u001b[0m             \u001b[1;32mraise\u001b[0m \u001b[0mException\u001b[0m\u001b[1;33m(\u001b[0m\u001b[1;34m'Node Class must have next variable'\u001b[0m\u001b[1;33m)\u001b[0m\u001b[1;33m\u001b[0m\u001b[1;33m\u001b[0m\u001b[0m\n\u001b[0;32m      7\u001b[0m \u001b[1;33m\u001b[0m\u001b[0m\n\u001b[1;32m----> 8\u001b[1;33m \u001b[0mprint\u001b[0m\u001b[1;33m(\u001b[0m\u001b[0mhelp\u001b[0m\u001b[1;33m(\u001b[0m\u001b[0mNode\u001b[0m\u001b[1;33m(\u001b[0m\u001b[0m_\u001b[0m\u001b[1;33m)\u001b[0m\u001b[1;33m)\u001b[0m\u001b[1;33m)\u001b[0m\u001b[1;33m\u001b[0m\u001b[1;33m\u001b[0m\u001b[0m\n\u001b[0m",
      "\u001b[1;32m<ipython-input-51-0cff08eee4d8>\u001b[0m in \u001b[0;36m__init__\u001b[1;34m(self, data)\u001b[0m\n\u001b[0;32m      3\u001b[0m         \u001b[0mself\u001b[0m\u001b[1;33m.\u001b[0m\u001b[0mdata\u001b[0m \u001b[1;33m=\u001b[0m \u001b[0mdata\u001b[0m\u001b[1;33m\u001b[0m\u001b[1;33m\u001b[0m\u001b[0m\n\u001b[0;32m      4\u001b[0m         \u001b[0mself\u001b[0m\u001b[1;33m.\u001b[0m\u001b[0mnext\u001b[0m \u001b[1;33m=\u001b[0m \u001b[1;32mNone\u001b[0m\u001b[1;33m\u001b[0m\u001b[1;33m\u001b[0m\u001b[0m\n\u001b[1;32m----> 5\u001b[1;33m         \u001b[1;32mif\u001b[0m \u001b[1;32mnot\u001b[0m \u001b[1;34m\"next\"\u001b[0m \u001b[1;32min\u001b[0m \u001b[0mdir\u001b[0m\u001b[1;33m(\u001b[0m\u001b[0mNode\u001b[0m\u001b[1;33m(\u001b[0m\u001b[0m_\u001b[0m\u001b[1;33m)\u001b[0m\u001b[1;33m)\u001b[0m\u001b[1;33m:\u001b[0m\u001b[1;33m\u001b[0m\u001b[1;33m\u001b[0m\u001b[0m\n\u001b[0m\u001b[0;32m      6\u001b[0m             \u001b[1;32mraise\u001b[0m \u001b[0mException\u001b[0m\u001b[1;33m(\u001b[0m\u001b[1;34m'Node Class must have next variable'\u001b[0m\u001b[1;33m)\u001b[0m\u001b[1;33m\u001b[0m\u001b[1;33m\u001b[0m\u001b[0m\n\u001b[0;32m      7\u001b[0m \u001b[1;33m\u001b[0m\u001b[0m\n",
      "... last 1 frames repeated, from the frame below ...\n",
      "\u001b[1;32m<ipython-input-51-0cff08eee4d8>\u001b[0m in \u001b[0;36m__init__\u001b[1;34m(self, data)\u001b[0m\n\u001b[0;32m      3\u001b[0m         \u001b[0mself\u001b[0m\u001b[1;33m.\u001b[0m\u001b[0mdata\u001b[0m \u001b[1;33m=\u001b[0m \u001b[0mdata\u001b[0m\u001b[1;33m\u001b[0m\u001b[1;33m\u001b[0m\u001b[0m\n\u001b[0;32m      4\u001b[0m         \u001b[0mself\u001b[0m\u001b[1;33m.\u001b[0m\u001b[0mnext\u001b[0m \u001b[1;33m=\u001b[0m \u001b[1;32mNone\u001b[0m\u001b[1;33m\u001b[0m\u001b[1;33m\u001b[0m\u001b[0m\n\u001b[1;32m----> 5\u001b[1;33m         \u001b[1;32mif\u001b[0m \u001b[1;32mnot\u001b[0m \u001b[1;34m\"next\"\u001b[0m \u001b[1;32min\u001b[0m \u001b[0mdir\u001b[0m\u001b[1;33m(\u001b[0m\u001b[0mNode\u001b[0m\u001b[1;33m(\u001b[0m\u001b[0m_\u001b[0m\u001b[1;33m)\u001b[0m\u001b[1;33m)\u001b[0m\u001b[1;33m:\u001b[0m\u001b[1;33m\u001b[0m\u001b[1;33m\u001b[0m\u001b[0m\n\u001b[0m\u001b[0;32m      6\u001b[0m             \u001b[1;32mraise\u001b[0m \u001b[0mException\u001b[0m\u001b[1;33m(\u001b[0m\u001b[1;34m'Node Class must have next variable'\u001b[0m\u001b[1;33m)\u001b[0m\u001b[1;33m\u001b[0m\u001b[1;33m\u001b[0m\u001b[0m\n\u001b[0;32m      7\u001b[0m \u001b[1;33m\u001b[0m\u001b[0m\n",
      "\u001b[1;31mRecursionError\u001b[0m: maximum recursion depth exceeded"
     ]
    }
   ],
   "source": [
    "class Node:\n",
    "    def __init__(self,data):\n",
    "        self.data = data\n",
    "        self.next = None\n",
    "        if not \"next\" in dir(Node(_)):\n",
    "            raise Exception('Node Class must have next variable')\n",
    "            \n",
    "print(help(Node(_)))"
   ]
  },
  {
   "cell_type": "code",
   "execution_count": 3,
   "metadata": {
    "ExecuteTime": {
     "end_time": "2022-01-25T16:49:05.125706Z",
     "start_time": "2022-01-25T16:49:05.112392Z"
    }
   },
   "outputs": [
    {
     "name": "stdout",
     "output_type": "stream",
     "text": [
      "<__main__.Node object at 0x000001D2B69E24A8>\n",
      "<__main__.Node object at 0x000001D2B69E24A8>\n"
     ]
    }
   ],
   "source": [
    "class Node:\n",
    "    def __init__(self,*args,**kwrgs):\n",
    "        for arg in args:\n",
    "            self.__dict__[arg]=None\n",
    "        for krg in kwrgs:\n",
    "            self.__dict__[krg] = kwrgs[krg]\n",
    "        print(self)\n",
    "print(Node('next',data= 10))"
   ]
  },
  {
   "cell_type": "code",
   "execution_count": null,
   "metadata": {},
   "outputs": [],
   "source": []
  }
 ],
 "metadata": {
  "kernelspec": {
   "display_name": "Python 3",
   "language": "python",
   "name": "python3"
  },
  "language_info": {
   "codemirror_mode": {
    "name": "ipython",
    "version": 3
   },
   "file_extension": ".py",
   "mimetype": "text/x-python",
   "name": "python",
   "nbconvert_exporter": "python",
   "pygments_lexer": "ipython3",
   "version": "3.7.3"
  }
 },
 "nbformat": 4,
 "nbformat_minor": 2
}
