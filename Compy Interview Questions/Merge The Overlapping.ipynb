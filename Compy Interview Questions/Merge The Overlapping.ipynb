{
 "cells": [
  {
   "cell_type": "raw",
   "metadata": {},
   "source": [
    "Given an array of intervals where intervals[i] = [starti, endi], merge all overlapping intervals, and return an array of the non-overlapping intervals that cover all the intervals in the input.\n",
    "\n",
    " \n",
    "\n",
    "Example 1:\n",
    "\n",
    "Input: intervals = [[1,3],[2,6],[8,10],[15,18]]\n",
    "Output: [[1,6],[8,10],[15,18]]\n",
    "Explanation: Since intervals [1,3] and [2,6] overlaps, merge them into [1,6].\n",
    "Example 2:\n",
    "\n",
    "Input: intervals = [[1,4],[4,5]]\n",
    "Output: [[1,5]]\n",
    "Explanation: Intervals [1,4] and [4,5] are considered overlapping."
   ]
  },
  {
   "cell_type": "code",
   "execution_count": 23,
   "metadata": {
    "ExecuteTime": {
     "end_time": "2022-01-04T07:20:34.838421Z",
     "start_time": "2022-01-04T07:20:34.814659Z"
    }
   },
   "outputs": [
    {
     "name": "stdout",
     "output_type": "stream",
     "text": [
      "New megred list is [[1, 3]] and Total overlapping takes 1\n"
     ]
    }
   ],
   "source": [
    "def removeOverlapping(lappingList):\n",
    "    lappingList.sort(key = lambda x: x[0])\n",
    "    mappingList = [lappingList[0]]\n",
    "    overLappingCounter = 0\n",
    "    mappingIndex = 0\n",
    "    for index in range(1,len(lappingList)):\n",
    "        mappingIndex = len(mappingList)\n",
    "        if mappingList[mappingIndex-1][1] >= lappingList[index][0]:\n",
    "            overLappingCounter +=1\n",
    "            if mappingList[mappingIndex-1][1] < lappingList[index][1]:\n",
    "                mappingList[mappingIndex-1][1] = lappingList[index][1]\n",
    "        else:\n",
    "            mappingList.append(lappingList[index])\n",
    "    \n",
    "    #managing the refrence Counting part by own to speed up a bit\n",
    "    del(lappingList)\n",
    "    del(mappingIndex)\n",
    "    return mappingList, overLappingCounter\n",
    "\n",
    "inputList = [[1,3],[3,2]]\n",
    "newList,Counter = removeOverlapping(inputList)\n",
    "print(\"New megred list is %s and Total overlapping takes %s\" % (newList,Counter))"
   ]
  },
  {
   "cell_type": "code",
   "execution_count": null,
   "metadata": {},
   "outputs": [],
   "source": []
  }
 ],
 "metadata": {
  "kernelspec": {
   "display_name": "Python 3",
   "language": "python",
   "name": "python3"
  },
  "language_info": {
   "codemirror_mode": {
    "name": "ipython",
    "version": 3
   },
   "file_extension": ".py",
   "mimetype": "text/x-python",
   "name": "python",
   "nbconvert_exporter": "python",
   "pygments_lexer": "ipython3",
   "version": "3.7.3"
  }
 },
 "nbformat": 4,
 "nbformat_minor": 2
}
