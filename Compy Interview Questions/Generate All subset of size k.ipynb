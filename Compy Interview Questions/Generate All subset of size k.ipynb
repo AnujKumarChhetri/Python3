{
 "cells": [
  {
   "cell_type": "markdown",
   "metadata": {},
   "source": [
    "Program to generate All subset of size k <br>\n",
    "Input = 4 <br>\n",
    "k  = 2 <br>\n",
    "Output = {1,2},{1,3},{2,3} <br>"
   ]
  },
  {
   "cell_type": "code",
   "execution_count": 11,
   "metadata": {
    "ExecuteTime": {
     "end_time": "2022-01-11T07:41:18.519654Z",
     "start_time": "2022-01-11T07:41:18.497749Z"
    }
   },
   "outputs": [
    {
     "data": {
      "text/plain": [
       "'\\n    There are 2 solution for this \\n    1- is bruteforce which have high complexity\\n    2- is using recursion and Uniun\\n'"
      ]
     },
     "execution_count": 11,
     "metadata": {},
     "output_type": "execute_result"
    }
   ],
   "source": [
    "'''\n",
    "    There are 2 solution for this \n",
    "    1- is bruteforce which have high complexity\n",
    "    2- is using recursion and Uniun\n",
    "'''"
   ]
  },
  {
   "cell_type": "code",
   "execution_count": 13,
   "metadata": {
    "ExecuteTime": {
     "end_time": "2022-01-11T07:41:28.763364Z",
     "start_time": "2022-01-11T07:41:28.745561Z"
    }
   },
   "outputs": [
    {
     "name": "stdout",
     "output_type": "stream",
     "text": [
      "[[1, 2], [1, 3], [1, 4], [2, 3], [2, 4], [3, 4]]\n"
     ]
    }
   ],
   "source": [
    "k = 2\n",
    "n= 4\n",
    "def directCombination(offset,partialCombination):\n",
    "    if len(partialCombination) == k:\n",
    "        result.append(list(partialCombination))\n",
    "        return\n",
    "    numRemaning = k - len(partialCombination)\n",
    "    i = offset\n",
    "    while i <= n and numRemaning <= n-i+1:\n",
    "        directCombination(i+1,partialCombination + [i])\n",
    "        i+=1\n",
    "result = []\n",
    "directCombination(1,[])\n",
    "print(result)"
   ]
  },
  {
   "cell_type": "code",
   "execution_count": null,
   "metadata": {},
   "outputs": [],
   "source": []
  }
 ],
 "metadata": {
  "kernelspec": {
   "display_name": "Python 3",
   "language": "python",
   "name": "python3"
  },
  "language_info": {
   "codemirror_mode": {
    "name": "ipython",
    "version": 3
   },
   "file_extension": ".py",
   "mimetype": "text/x-python",
   "name": "python",
   "nbconvert_exporter": "python",
   "pygments_lexer": "ipython3",
   "version": "3.7.3"
  }
 },
 "nbformat": 4,
 "nbformat_minor": 2
}
