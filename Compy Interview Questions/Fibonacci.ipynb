{
  "nbformat": 4,
  "nbformat_minor": 0,
  "metadata": {
    "colab": {
      "name": "Fibonacci.ipynb",
      "provenance": [],
      "collapsed_sections": [],
      "authorship_tag": "ABX9TyM1kuVaQwcL1rwKhxRnJNx5",
      "include_colab_link": true
    },
    "kernelspec": {
      "name": "python3",
      "display_name": "Python 3"
    },
    "language_info": {
      "name": "python"
    }
  },
  "cells": [
    {
      "cell_type": "markdown",
      "metadata": {
        "id": "view-in-github",
        "colab_type": "text"
      },
      "source": [
        "<a href=\"https://colab.research.google.com/github/twinkle-1/Python3/blob/main/Compy%20Interview%20Questions/Fibonacci.ipynb\" target=\"_parent\"><img src=\"https://colab.research.google.com/assets/colab-badge.svg\" alt=\"Open In Colab\"/></a>"
      ]
    },
    {
      "cell_type": "code",
      "execution_count": 2,
      "metadata": {
        "colab": {
          "base_uri": "https://localhost:8080/"
        },
        "id": "RvwADQFTusLP",
        "outputId": "8add5240-4b04-46e8-8efa-072f55d43e04"
      },
      "outputs": [
        {
          "output_type": "execute_result",
          "data": {
            "text/plain": [
              "55"
            ]
          },
          "metadata": {},
          "execution_count": 2
        }
      ],
      "source": [
        "def fibonaci(number):\n",
        "  a,b = 0,1\n",
        "  for _ in range(number):\n",
        "    b,a = a,b+a\n",
        "  return a\n",
        "fibonaci(10)"
      ]
    },
    {
      "cell_type": "code",
      "source": [
        ""
      ],
      "metadata": {
        "id": "Cc3yMjWTvVsh"
      },
      "execution_count": null,
      "outputs": []
    }
  ]
}