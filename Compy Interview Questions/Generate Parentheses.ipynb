{
 "cells": [
  {
   "cell_type": "code",
   "execution_count": null,
   "metadata": {},
   "outputs": [],
   "source": [
    "'''\n",
    "Given n pairs of parentheses, write a function to generate all combinations of well-formed parentheses.\n",
    "Example 1:\n",
    "\n",
    "Input: n = 3\n",
    "Output: [\"((()))\",\"(()())\",\"(())()\",\"()(())\",\"()()()\"]\n",
    "Example 2:\n",
    "\n",
    "Input: n = 1\n",
    "Output: [\"()\"]\n",
    "'''"
   ]
  },
  {
   "cell_type": "code",
   "execution_count": 6,
   "metadata": {
    "ExecuteTime": {
     "end_time": "2022-01-11T08:13:27.017171Z",
     "start_time": "2022-01-11T08:13:26.988251Z"
    }
   },
   "outputs": [
    {
     "name": "stdout",
     "output_type": "stream",
     "text": [
      "Left 2 Right 2 Paren \n",
      "Left 1 Right 2 Paren (\n",
      "Left 0 Right 2 Paren ((\n",
      "Left 0 Right 1 Paren (()\n",
      "Left 0 Right 0 Paren (())\n",
      "Left 1 Right 1 Paren ()\n",
      "Left 0 Right 1 Paren ()(\n",
      "Left 0 Right 0 Paren ()()\n"
     ]
    },
    {
     "data": {
      "text/plain": [
       "['(())', '()()']"
      ]
     },
     "execution_count": 6,
     "metadata": {},
     "output_type": "execute_result"
    }
   ],
   "source": [
    "def genereateRecursively(leftParan,rightParan,validPrefix,result = []):\n",
    "    if leftParan > 0:\n",
    "        genereateRecursively(leftParan-1,rightParan,validPrefix +'(')\n",
    "    if leftParan < rightParan:\n",
    "        genereateRecursively(leftParan,rightParan-1,validPrefix + ')')\n",
    "    if not rightParan:\n",
    "        result.append(validPrefix)\n",
    "    return result\n",
    "k = 2\n",
    "genereateRecursively(k,k,'')"
   ]
  }
 ],
 "metadata": {
  "kernelspec": {
   "display_name": "Python 3",
   "language": "python",
   "name": "python3"
  },
  "language_info": {
   "codemirror_mode": {
    "name": "ipython",
    "version": 3
   },
   "file_extension": ".py",
   "mimetype": "text/x-python",
   "name": "python",
   "nbconvert_exporter": "python",
   "pygments_lexer": "ipython3",
   "version": "3.7.3"
  }
 },
 "nbformat": 4,
 "nbformat_minor": 2
}
