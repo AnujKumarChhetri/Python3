{
 "cells": [
  {
   "cell_type": "raw",
   "metadata": {
    "ExecuteTime": {
     "end_time": "2022-01-08T08:46:46.692709Z",
     "start_time": "2022-01-08T08:46:46.678782Z"
    }
   },
   "source": [
    "Valid Parentheses\n",
    "Given a string s containing just the characters '(', ')', '{', '}', '[' and ']', determine if the input string is valid.\n",
    "\n",
    "An input string is valid if:\n",
    "\n",
    "Open brackets must be closed by the same type of brackets.\n",
    "Open brackets must be closed in the correct order.\n",
    " \n",
    "\n",
    "Example 1:\n",
    "\n",
    "Input: s = \"()\"\n",
    "Output: true\n",
    "Example 2:\n",
    "\n",
    "Input: s = \"()[]{}\"\n",
    "Output: true\n",
    "Example 3:\n",
    "\n",
    "Input: s = \"(]\"\n",
    "Output: false"
   ]
  },
  {
   "cell_type": "code",
   "execution_count": 2,
   "metadata": {
    "ExecuteTime": {
     "end_time": "2022-01-08T08:48:27.736338Z",
     "start_time": "2022-01-08T08:48:27.717392Z"
    }
   },
   "outputs": [],
   "source": [
    "class Solution:\n",
    "    \"\"\"This solution will consider the string case as well like (a{b})\"\"\"\n",
    "    def isValid(self, s: str) -> bool:\n",
    "        stackLi = []\n",
    "        revDir = {\n",
    "            \"(\":1,\n",
    "            \"[\":1,\n",
    "            \"{\":1,\n",
    "            \")\":'(',\n",
    "            \"]\":\"[\",\n",
    "            \"}\":\"{\"\n",
    "        }\n",
    "        for element in s:\n",
    "            if revDir.get(element) == 1:\n",
    "                stackLi.append(element)\n",
    "            elif revDir.get(element) != 0:\n",
    "                result = True\n",
    "                if len(stackLi) != 0:\n",
    "                    if revDir.get(element) == stackLi[-1]:\n",
    "                        stackLi.pop()\n",
    "                    else:\n",
    "                        result = False\n",
    "                        break\n",
    "                else:\n",
    "                    result = False\n",
    "                    break\n",
    "        if len(stackLi):\n",
    "            result = False\n",
    "        return result\n",
    "                "
   ]
  },
  {
   "cell_type": "code",
   "execution_count": null,
   "metadata": {},
   "outputs": [],
   "source": [
    "class Solution:\n",
    "    \"\"\"This solution will only works with Parentheses\"\"\"\n",
    "    def isValid(self, s: str) -> bool:\n",
    "        stackLi = []\n",
    "        revDir = {\n",
    "            \"(\":\")\",\n",
    "            \"[\":\"]\",\n",
    "            \"{\":\"}\"\n",
    "        }\n",
    "        for element in s:\n",
    "            if revDir.get(element):\n",
    "                stackLi.append(element)\n",
    "            elif revDir.get(element) != 0:\n",
    "                result = True\n",
    "                if len(stackLi) != 0:\n",
    "                    if not revDir.get(stackLi.pop()) == element:\n",
    "                        return False\n",
    "                else:\n",
    "                    return False\n",
    "        if len(stackLi):\n",
    "            result = False\n",
    "        return result"
   ]
  }
 ],
 "metadata": {
  "kernelspec": {
   "display_name": "Python 3",
   "language": "python",
   "name": "python3"
  },
  "language_info": {
   "codemirror_mode": {
    "name": "ipython",
    "version": 3
   },
   "file_extension": ".py",
   "mimetype": "text/x-python",
   "name": "python",
   "nbconvert_exporter": "python",
   "pygments_lexer": "ipython3",
   "version": "3.7.3"
  }
 },
 "nbformat": 4,
 "nbformat_minor": 2
}
