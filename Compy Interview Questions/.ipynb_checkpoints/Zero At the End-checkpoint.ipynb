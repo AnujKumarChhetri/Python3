{
 "cells": [
  {
   "cell_type": "raw",
   "metadata": {},
   "source": [
    "Putt All Zero At the end Of the List\n",
    "Input = [1,0,2,3,0,4,0,5,0,6]\n",
    "Output = [1,2,3,4,5,6,0,0,0,0]\n",
    "Input = [0,0,2,3,0,4,0,5,0,6]\n",
    "Input = [0,1,2,3,0,4,0,5,0,6]"
   ]
  },
  {
   "cell_type": "code",
   "execution_count": 10,
   "metadata": {
    "ExecuteTime": {
     "end_time": "2022-01-04T12:41:29.563743Z",
     "start_time": "2022-01-04T12:41:29.542983Z"
    }
   },
   "outputs": [
    {
     "name": "stdout",
     "output_type": "stream",
     "text": [
      "[2, 3, 4, 5, 6, 0, 0, 0, 0, 0]\n",
      "[1, 2, 3, 4, 5, 6, 0, 0, 0, 0]\n",
      "[1, 1, 0]\n"
     ]
    }
   ],
   "source": [
    "def setZeroAtEnd(unsortedList):\n",
    "    i = 1\n",
    "    j = 0\n",
    "    while i < len(unsortedList):\n",
    "        if unsortedList[j] == 0:\n",
    "            if unsortedList[i] != 0:\n",
    "                unsortedList[j],unsortedList[i] = unsortedList[i],unsortedList[j]\n",
    "                j+=1\n",
    "        else:\n",
    "            j+=1\n",
    "        i+=1\n",
    "    return unsortedList\n",
    "for x in [[0,0,2,3,0,4,0,5,0,6],[0,1,2,3,0,4,0,5,0,6],[0,1,1]]:\n",
    "    print(setZeroAtEnd(x))"
   ]
  },
  {
   "cell_type": "code",
   "execution_count": null,
   "metadata": {},
   "outputs": [],
   "source": []
  }
 ],
 "metadata": {
  "kernelspec": {
   "display_name": "Python 3",
   "language": "python",
   "name": "python3"
  },
  "language_info": {
   "codemirror_mode": {
    "name": "ipython",
    "version": 3
   },
   "file_extension": ".py",
   "mimetype": "text/x-python",
   "name": "python",
   "nbconvert_exporter": "python",
   "pygments_lexer": "ipython3",
   "version": "3.7.3"
  }
 },
 "nbformat": 4,
 "nbformat_minor": 2
}
