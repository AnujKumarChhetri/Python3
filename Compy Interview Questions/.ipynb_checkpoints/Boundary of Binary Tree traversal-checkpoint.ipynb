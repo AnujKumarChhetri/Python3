{
 "cells": [
  {
   "cell_type": "raw",
   "metadata": {
    "ExecuteTime": {
     "end_time": "2022-01-08T06:42:17.732295Z",
     "start_time": "2022-01-08T06:42:17.717694Z"
    }
   },
   "source": [
    "Boundary of Binary Tree traversal\n",
    "https://practice.geeksforgeeks.org/problems/boundary-traversal-of-binary-tree/1"
   ]
  },
  {
   "cell_type": "code",
   "execution_count": 34,
   "metadata": {
    "ExecuteTime": {
     "end_time": "2022-01-08T07:42:23.204143Z",
     "start_time": "2022-01-08T07:42:23.183984Z"
    }
   },
   "outputs": [
    {
     "name": "stdout",
     "output_type": "stream",
     "text": [
      "\n",
      "        __1__\n",
      "       /     \\\n",
      "    __2       3\n",
      "   /   \\     / \\\n",
      "  4     5   6   7\n",
      " / \\\n",
      "8   9\n",
      "\n"
     ]
    }
   ],
   "source": [
    "#Helping Code\n",
    "from binarytree import Node\n",
    "        \n",
    "class Tree:\n",
    "    def __init__(self,node):\n",
    "        self.root = node\n",
    "    def check_and_add(self,current,child,node):\n",
    "        if current.left == None:\n",
    "            current.left = Node(node)\n",
    "            return False\n",
    "        else:\n",
    "            child.append(current.left)\n",
    "        if current.right == None:\n",
    "            current.right = Node(node)\n",
    "            return False\n",
    "        else:\n",
    "            child.append(current.right)\n",
    "        return child\n",
    "    def add_at_k(self,node):\n",
    "        child = []\n",
    "        current = self.root\n",
    "        child = self.check_and_add(current,child,node)\n",
    "        while(child):\n",
    "            current = child.pop(0)\n",
    "            child = self.check_and_add(current,child,node)\n",
    "    def add_node(self,a,b):\n",
    "        for x in range(a,b):\n",
    "            self.add_at_k(x)\n",
    "    def print_node(self):\n",
    "        print(self.root)\n",
    "tree = Tree(Node(1))\n",
    "tree.add_node(2,10)\n",
    "tree.print_node()"
   ]
  },
  {
   "cell_type": "code",
   "execution_count": 40,
   "metadata": {
    "ExecuteTime": {
     "end_time": "2022-01-08T07:46:37.538371Z",
     "start_time": "2022-01-08T07:46:37.510759Z"
    }
   },
   "outputs": [
    {
     "name": "stdout",
     "output_type": "stream",
     "text": [
      "1->2->4->8->9->5->6->7->3->\n",
      "        __1__\n",
      "       /     \\\n",
      "    __2       3\n",
      "   /   \\     / \\\n",
      "  4     5   6   7\n",
      " / \\\n",
      "8   9\n",
      "\n"
     ]
    }
   ],
   "source": [
    "\"\"\"Problem 1 where we include the lower boundary as well\"\"\"\n",
    "\"\"\"Solution\"\"\"\n",
    "\"\"\"\n",
    "    What we are doing here is \n",
    "    1 - Print all the root node of the left side\n",
    "    2 - Print all the leaf node in whole tree\n",
    "    3 - Print all the root node of left if present\n",
    "\"\"\"\n",
    "def printAllRoots(node,position):\n",
    "    if node == None or node.left == node.right == None:\n",
    "        return\n",
    "    print(node.val,end=\"->\")\n",
    "    if position == 'left':\n",
    "        printAllRoots(node.left,'left')\n",
    "    else:\n",
    "        printAllRoots(node.right,'right')\n",
    "\n",
    "def printAllLeafNode(node):\n",
    "    if node == None:\n",
    "        return\n",
    "    if node.left == node.right == None:\n",
    "        print(node.val,end=\"->\")\n",
    "    printAllLeafNode(node.left)\n",
    "    printAllLeafNode(node.right)\n",
    "    \n",
    "def nodeTraversal(root):\n",
    "    if root == None:\n",
    "        return\n",
    "    #For left Roots\n",
    "    printAllRoots(root,'left')\n",
    "    #For left\n",
    "    printAllLeafNode(root)\n",
    "    #For Right Roots\n",
    "    printAllRoots(root.right,'right')\n",
    "nodeTraversal(tree.root)\n",
    "tree.print_node()"
   ]
  },
  {
   "cell_type": "code",
   "execution_count": 42,
   "metadata": {
    "ExecuteTime": {
     "end_time": "2022-01-08T07:52:57.740217Z",
     "start_time": "2022-01-08T07:52:57.724265Z"
    }
   },
   "outputs": [
    {
     "name": "stdout",
     "output_type": "stream",
     "text": [
      "8->4->2->1->3->7->\n",
      "        __1__\n",
      "       /     \\\n",
      "    __2       3\n",
      "   /   \\     / \\\n",
      "  4     5   6   7\n",
      " / \\\n",
      "8   9\n",
      "\n"
     ]
    }
   ],
   "source": [
    "\"\"\"Problem2 Print The tree upper bounday only like 8->4->2->1->3->7\"\"\"\n",
    "\"\"\"Solution\"\"\"\n",
    "\"\"\"\n",
    "    What we are doing here is \n",
    "    1 - First go to the bottom of left when comming back from the bottom print the element\n",
    "    2 - Then go to the bottom of right by printing the element\n",
    "\"\"\"\n",
    "def printAllRoots(node,position):\n",
    "    if node == None:\n",
    "        return\n",
    "    if position == 'left':\n",
    "        printAllRoots(node.left,'left')\n",
    "        print(node.val,end=\"->\")\n",
    "    else:\n",
    "        print(node.val,end=\"->\")\n",
    "        printAllRoots(node.right,'right')\n",
    "    \n",
    "def nodeTraversal(root):\n",
    "    if root == None:\n",
    "        return\n",
    "    #For left Roots\n",
    "    printAllRoots(root,'left')\n",
    "    #for right Roots\n",
    "    printAllRoots(root.right,'right')\n",
    "nodeTraversal(tree.root)\n",
    "tree.print_node()"
   ]
  },
  {
   "cell_type": "code",
   "execution_count": null,
   "metadata": {},
   "outputs": [],
   "source": []
  }
 ],
 "metadata": {
  "kernelspec": {
   "display_name": "Python 3",
   "language": "python",
   "name": "python3"
  },
  "language_info": {
   "codemirror_mode": {
    "name": "ipython",
    "version": 3
   },
   "file_extension": ".py",
   "mimetype": "text/x-python",
   "name": "python",
   "nbconvert_exporter": "python",
   "pygments_lexer": "ipython3",
   "version": "3.7.3"
  }
 },
 "nbformat": 4,
 "nbformat_minor": 2
}
