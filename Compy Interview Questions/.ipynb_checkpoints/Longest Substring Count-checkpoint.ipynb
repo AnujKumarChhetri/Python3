{
 "cells": [
  {
   "cell_type": "raw",
   "metadata": {
    "ExecuteTime": {
     "end_time": "2022-01-10T05:03:58.411140Z",
     "start_time": "2022-01-10T05:03:58.396181Z"
    }
   },
   "source": [
    "Longest Substring\n",
    "Given a string s, find the length of the longest substring without repeating characters.\n",
    "\n",
    " \n",
    "\n",
    "Example 1:\n",
    "\n",
    "Input: s = \"abcabcbb\"\n",
    "Output: 3\n",
    "Explanation: The answer is \"abc\", with the length of 3.\n",
    "Example 2:\n",
    "\n",
    "Input: s = \"bbbbb\"\n",
    "Output: 1\n",
    "Explanation: The answer is \"b\", with the length of 1."
   ]
  },
  {
   "cell_type": "code",
   "execution_count": 2,
   "metadata": {
    "ExecuteTime": {
     "end_time": "2022-01-10T05:07:29.199877Z",
     "start_time": "2022-01-10T05:07:29.175942Z"
    }
   },
   "outputs": [
    {
     "data": {
      "text/plain": [
       "'\\n    Method to solve this is\\n    1 - By multiple loops check 1 and then another string and again and again\\n    2 - By using window sliding technique with complexity o(n)\\n'"
      ]
     },
     "execution_count": 2,
     "metadata": {},
     "output_type": "execute_result"
    }
   ],
   "source": [
    "\"\"\"\n",
    "    Basic question to ask before procceed\n",
    "    1 - What if string is = \"\" ? what we need to return -1 or 0\n",
    "    2 - What if string is \" \" ? Space as space is treated as string in python\n",
    "\"\"\"\n",
    "\n",
    "\"\"\"\n",
    "    Method to solve this is\n",
    "    1 - By multiple loops check 1 and then another string and again and again\n",
    "    2 - By using window sliding technique with complexity o(n)\n",
    "\"\"\""
   ]
  },
  {
   "cell_type": "code",
   "execution_count": 13,
   "metadata": {
    "ExecuteTime": {
     "end_time": "2022-01-10T05:12:13.317993Z",
     "start_time": "2022-01-10T05:12:13.291066Z"
    }
   },
   "outputs": [
    {
     "name": "stdout",
     "output_type": "stream",
     "text": [
      "6.0\n"
     ]
    }
   ],
   "source": [
    "def maxCounter(s):\n",
    "    i = 0\n",
    "    j = 0\n",
    "    queryDic = {}\n",
    "    maxCount = 0\n",
    "    if len(s) == 1:\n",
    "        return 1\n",
    "    if not (len(s)):\n",
    "        return 0\n",
    "    while(i<len(s)):\n",
    "        if queryDic.get(s[i],-1) != -1:\n",
    "          j = j if queryDic[s[i]]+1 < j else queryDic[s[i]]+1  #Max of j and index of ith element so j not get back to negative\n",
    "        queryDic[s[i]] = i #Each time dic get update if found the index or not \n",
    "        maxCount = maxCount if i-j+1 < maxCount else i-j+1. #Max len will calculate each time and get update only when maxOun is small then the windown\n",
    "        i+=1\n",
    "    return maxCount\n",
    "print(maxCounter(\"asdqweasdqwe\"))"
   ]
  },
  {
   "cell_type": "code",
   "execution_count": null,
   "metadata": {},
   "outputs": [],
   "source": []
  }
 ],
 "metadata": {
  "kernelspec": {
   "display_name": "Python 3",
   "language": "python",
   "name": "python3"
  },
  "language_info": {
   "codemirror_mode": {
    "name": "ipython",
    "version": 3
   },
   "file_extension": ".py",
   "mimetype": "text/x-python",
   "name": "python",
   "nbconvert_exporter": "python",
   "pygments_lexer": "ipython3",
   "version": "3.7.3"
  }
 },
 "nbformat": 4,
 "nbformat_minor": 2
}
