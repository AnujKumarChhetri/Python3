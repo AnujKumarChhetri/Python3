{
 "cells": [
  {
   "cell_type": "markdown",
   "metadata": {
    "ExecuteTime": {
     "end_time": "2022-01-10T08:56:24.118089Z",
     "start_time": "2022-01-10T08:56:24.107122Z"
    }
   },
   "source": [
    "You are given an integer array height of length n. There are n vertical lines drawn such that the two endpoints of the ith line are (i, 0) and (i, height[i]).\n",
    "\n",
    "Find two lines that together with the x-axis form a container, such that the container contains the most water.\n",
    "\n",
    "Return the maximum amount of water a container can store.\n",
    "\n",
    "Input: height = [1,8,6,2,5,4,8,3,7] <br>\n",
    "Output: 49 <br>\n",
    "Explanation: The above vertical lines are represented by array [1,8,6,2,5,4,8,3,7]. In this case, the max area of water (blue section) the container can contain is 49."
   ]
  },
  {
   "cell_type": "code",
   "execution_count": 2,
   "metadata": {
    "ExecuteTime": {
     "end_time": "2022-01-10T10:11:32.358916Z",
     "start_time": "2022-01-10T10:11:32.333984Z"
    }
   },
   "outputs": [],
   "source": [
    "'''This is normal problem which is based on bit like Stock Span problem'''\n",
    "'''Complexity o(n)'''\n",
    "'''\n",
    "    Process\n",
    "    1 - i as start pointer\n",
    "    2 - j as ending pointer\n",
    "    3 - calculate the container Weight and compare with the previous\n",
    "    4 - increate or decrease the counter on basis of small value from both the position [i,j]\n",
    "'''\n",
    "def getHighestWeight(height):\n",
    "    i = maxWeight = 0\n",
    "    j = len(height)\n",
    "    if not j:\n",
    "        return 0\n",
    "    while (i<= j):\n",
    "        maxWeight = t if (t:=(height[i] if height[i]<height[j] else height[j])*(j-i))>maxWeight else maxWeight\n",
    "        if height[i] < height[j]:\n",
    "            i+=1\n",
    "        else:\n",
    "            j-=1\n",
    "    return maxWeight"
   ]
  },
  {
   "cell_type": "code",
   "execution_count": null,
   "metadata": {},
   "outputs": [],
   "source": []
  }
 ],
 "metadata": {
  "kernelspec": {
   "display_name": "Python 3",
   "language": "python",
   "name": "python3"
  },
  "language_info": {
   "codemirror_mode": {
    "name": "ipython",
    "version": 3
   },
   "file_extension": ".py",
   "mimetype": "text/x-python",
   "name": "python",
   "nbconvert_exporter": "python",
   "pygments_lexer": "ipython3",
   "version": "3.7.3"
  }
 },
 "nbformat": 4,
 "nbformat_minor": 2
}
