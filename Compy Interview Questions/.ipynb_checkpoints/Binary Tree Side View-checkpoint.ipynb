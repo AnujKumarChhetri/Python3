{
 "cells": [
  {
   "cell_type": "raw",
   "metadata": {},
   "source": [
    "https://leetcode.com/problems/binary-tree-right-side-view/ Line\n",
    "Given the root of a binary tree, imagine yourself standing on the right side of it, return the values of the nodes you can see ordered from top to bottom.\n",
    "\n",
    "Example 1:\n",
    "\n",
    "\n",
    "Input: root = [1,2,3,null,5,null,4]\n",
    "Output: [1,3,4]\n",
    "Example 2:\n",
    "\n",
    "Input: root = [1,null,3]\n",
    "Output: [1,3]\n",
    "Example 3:\n",
    "\n",
    "Input: root = []\n",
    "Output: []"
   ]
  },
  {
   "cell_type": "code",
   "execution_count": 2,
   "metadata": {
    "ExecuteTime": {
     "end_time": "2022-01-07T12:15:22.771794Z",
     "start_time": "2022-01-07T12:15:22.759341Z"
    }
   },
   "outputs": [],
   "source": [
    "# Definition for a binary tree node.\n",
    "# class TreeNode:\n",
    "#     def __init__(self, val=0, left=None, right=None):\n",
    "#         self.val = val\n",
    "#         self.left = left\n",
    "#         self.right = right\n",
    "class Solution:\n",
    "    def inOrderReverseTraversal(self,node,root,counter,returnList):\n",
    "        if len(returnList) == 0:\n",
    "            node = root\n",
    "        if node == None or root == None:\n",
    "            return\n",
    "        if node == root:\n",
    "            counter = 0\n",
    "        counter +=1\n",
    "        if counter > len(returnList):\n",
    "            returnList.append(node.val)\n",
    "        self.inOrderReverseTraversal(node.right,root,counter,returnList)\n",
    "        self.inOrderReverseTraversal(node.left,root,counter,returnList)\n",
    "        return returnList\n",
    "        \n",
    "    def rightSideView(self, root) -> list:\n",
    "        returnList = []\n",
    "        return self.inOrderReverseTraversal(None,root,0,returnList) or []"
   ]
  },
  {
   "cell_type": "code",
   "execution_count": null,
   "metadata": {},
   "outputs": [],
   "source": []
  }
 ],
 "metadata": {
  "kernelspec": {
   "display_name": "Python 3",
   "language": "python",
   "name": "python3"
  },
  "language_info": {
   "codemirror_mode": {
    "name": "ipython",
    "version": 3
   },
   "file_extension": ".py",
   "mimetype": "text/x-python",
   "name": "python",
   "nbconvert_exporter": "python",
   "pygments_lexer": "ipython3",
   "version": "3.7.3"
  }
 },
 "nbformat": 4,
 "nbformat_minor": 2
}
