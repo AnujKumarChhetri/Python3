{
 "cells": [
  {
   "cell_type": "raw",
   "metadata": {
    "ExecuteTime": {
     "end_time": "2022-01-05T09:08:57.741919Z",
     "start_time": "2022-01-05T09:08:57.736174Z"
    }
   },
   "source": [
    "You are given two non-empty linked lists representing two non-negative integers. The digits are stored in reverse order, and each of their nodes contains a single digit. Add the two numbers and return the sum as a linked list.\n",
    "\n",
    "You may assume the two numbers do not contain any leading zero, except the number 0 itself.\n",
    "\n",
    " \n",
    "\n",
    "Example 1:\n",
    "\n",
    "\n",
    "Input: l1 = [2,4,3], l2 = [5,6,4]\n",
    "Output: [7,0,8]\n",
    "Explanation: 342 + 465 = 807.\n",
    "Example 2:\n",
    "\n",
    "Input: l1 = [0], l2 = [0]\n",
    "Output: [0]\n",
    "Example 3:\n",
    "\n",
    "Input: l1 = [9,9,9,9,9,9,9], l2 = [9,9,9,9]\n",
    "Output: [8,9,9,9,0,0,0,1]\n",
    " \n",
    "\n",
    "Constraints:\n",
    "\n",
    "The number of nodes in each linked list is in the range [1, 100].\n",
    "0 <= Node.val <= 9\n",
    "It is guaranteed that the list represents a number that does not have leading zeros."
   ]
  },
  {
   "cell_type": "code",
   "execution_count": 2,
   "metadata": {
    "ExecuteTime": {
     "end_time": "2022-01-05T09:27:25.027785Z",
     "start_time": "2022-01-05T09:27:25.003579Z"
    }
   },
   "outputs": [
    {
     "name": "stdout",
     "output_type": "stream",
     "text": [
      "[0] False 0 0\n",
      "[0]\n"
     ]
    }
   ],
   "source": [
    "i = len(l1)<=len(l2) and len(l1) or len(l2)<len(l1) and len(l2)\n",
    "maxList= len(l1)>=len(l2) and l1 or len(l2)>len(l1) and l2\n",
    "maxLen = len(maxList)\n",
    "j = 0\n",
    "carry = False\n",
    "def updateSum(maxList,carry,item1,item2):\n",
    "    suM = item1+item2\n",
    "    if carry != False:\n",
    "        suM+=carry\n",
    "        carry = False\n",
    "    if suM>9:\n",
    "        print(suM)\n",
    "        carry = suM//10\n",
    "        suM = suM%10\n",
    "    return suM,carry\n",
    "while(maxLen>0):\n",
    "    if j<i:\n",
    "        maxList[j],carry =  updateSum(maxList,carry,l1[j],l2[j])\n",
    "    elif carry != False:\n",
    "        maxList[j],carry = updateSum(maxList,0,carry,maxList[j])\n",
    "    maxLen-=1\n",
    "    j+=1\n",
    "if carry:\n",
    "    maxList.append(carry)\n",
    "print(maxList)\n",
    "\n",
    "    "
   ]
  },
  {
   "cell_type": "code",
   "execution_count": null,
   "metadata": {},
   "outputs": [],
   "source": []
  }
 ],
 "metadata": {
  "kernelspec": {
   "display_name": "Python 3",
   "language": "python",
   "name": "python3"
  },
  "language_info": {
   "codemirror_mode": {
    "name": "ipython",
    "version": 3
   },
   "file_extension": ".py",
   "mimetype": "text/x-python",
   "name": "python",
   "nbconvert_exporter": "python",
   "pygments_lexer": "ipython3",
   "version": "3.7.3"
  }
 },
 "nbformat": 4,
 "nbformat_minor": 2
}
