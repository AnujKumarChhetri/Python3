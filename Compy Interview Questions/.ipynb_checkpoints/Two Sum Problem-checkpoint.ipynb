{
 "cells": [
  {
   "cell_type": "code",
   "execution_count": null,
   "metadata": {
    "ExecuteTime": {
     "end_time": "2022-01-13T12:03:39.763348Z",
     "start_time": "2022-01-13T12:03:39.755373Z"
    }
   },
   "outputs": [],
   "source": [
    "Given an array of integers nums and an integer target, return indices of the two numbers such that they add up to target.\n",
    "\n",
    "You may assume that each input would have exactly one solution, and you may not use the same element twice.\n",
    "\n",
    "You can return the answer in any order.\n",
    "\n",
    " \n",
    "\n",
    "Example 1:\n",
    "\n",
    "Input: nums = [2,7,11,15], target = 9\n",
    "Output: [0,1]\n",
    "Explanation: Because nums[0] + nums[1] == 9, we return [0, 1]."
   ]
  },
  {
   "cell_type": "code",
   "execution_count": 7,
   "metadata": {
    "ExecuteTime": {
     "end_time": "2022-02-03T16:16:17.472937Z",
     "start_time": "2022-02-03T16:16:17.443900Z"
    }
   },
   "outputs": [
    {
     "name": "stdout",
     "output_type": "stream",
     "text": [
      "[]\n"
     ]
    }
   ],
   "source": [
    "def getTwoSumIndex(inputList=False,totalSum = False):\n",
    "    if inputList and totalSum:\n",
    "        hashMap = {element:index for index,element in enumerate(inputList)}\n",
    "        for index,element in enumerate(inputList):\n",
    "            if (hashMapIndex:=hashMap.get(totalSum-element)) != None:\n",
    "               return [index,hashMapIndex]\n",
    "        else:\n",
    "            return []\n",
    "    else:\n",
    "        return []\n",
    "nums = [2,7,11,15]\n",
    "target = 114\n",
    "print(getTwoSumIndex(nums,target))"
   ]
  },
  {
   "cell_type": "code",
   "execution_count": null,
   "metadata": {},
   "outputs": [],
   "source": []
  }
 ],
 "metadata": {
  "kernelspec": {
   "display_name": "Python 3 (ipykernel)",
   "language": "python",
   "name": "python3"
  },
  "language_info": {
   "codemirror_mode": {
    "name": "ipython",
    "version": 3
   },
   "file_extension": ".py",
   "mimetype": "text/x-python",
   "name": "python",
   "nbconvert_exporter": "python",
   "pygments_lexer": "ipython3",
   "version": "3.9.5"
  }
 },
 "nbformat": 4,
 "nbformat_minor": 2
}
