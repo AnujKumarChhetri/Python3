{
 "cells": [
  {
   "cell_type": "code",
   "execution_count": 12,
   "metadata": {
    "ExecuteTime": {
     "end_time": "2022-01-05T07:57:25.021820Z",
     "start_time": "2022-01-05T07:57:25.000912Z"
    }
   },
   "outputs": [],
   "source": [
    "l1 = [2,4,3]\n",
    "l2 = [5,6,4]"
   ]
  },
  {
   "cell_type": "code",
   "execution_count": 13,
   "metadata": {
    "ExecuteTime": {
     "end_time": "2022-01-05T07:57:25.616607Z",
     "start_time": "2022-01-05T07:57:25.604641Z"
    }
   },
   "outputs": [
    {
     "name": "stdout",
     "output_type": "stream",
     "text": [
      "[7, 1, 7]\n"
     ]
    }
   ],
   "source": [
    "i = len(l1)\n",
    "j = len(l2)\n",
    "minLen = min(i,j)\n",
    "maxList = l2\n",
    "carry = 0\n",
    "for x in range(minLen):\n",
    "    suM = l1[x] + l2[x]\n",
    "    if suM>9:\n",
    "        carry = suM%10\n",
    "        suM = suM//10\n",
    "    maxList[x] = suM\n",
    "print(maxList)\n",
    "    "
   ]
  },
  {
   "cell_type": "code",
   "execution_count": null,
   "metadata": {},
   "outputs": [],
   "source": []
  }
 ],
 "metadata": {
  "kernelspec": {
   "display_name": "Python 3",
   "language": "python",
   "name": "python3"
  },
  "language_info": {
   "codemirror_mode": {
    "name": "ipython",
    "version": 3
   },
   "file_extension": ".py",
   "mimetype": "text/x-python",
   "name": "python",
   "nbconvert_exporter": "python",
   "pygments_lexer": "ipython3",
   "version": "3.7.3"
  }
 },
 "nbformat": 4,
 "nbformat_minor": 2
}
