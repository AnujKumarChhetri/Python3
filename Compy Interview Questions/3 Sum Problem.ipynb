{
 "cells": [
  {
   "cell_type": "code",
   "execution_count": 52,
   "metadata": {
    "ExecuteTime": {
     "end_time": "2022-01-27T18:02:23.412068Z",
     "start_time": "2022-01-27T18:02:23.401913Z"
    }
   },
   "outputs": [],
   "source": [
    "suMlist = [1,2,3,5,6,8]\n",
    "totalSum = 15"
   ]
  },
  {
   "cell_type": "code",
   "execution_count": 53,
   "metadata": {
    "ExecuteTime": {
     "end_time": "2022-01-27T18:02:23.701703Z",
     "start_time": "2022-01-27T18:02:23.686743Z"
    }
   },
   "outputs": [
    {
     "name": "stdout",
     "output_type": "stream",
     "text": [
      "[1, 2, 3, 5, 6, 8]\n",
      "Get 1 8 6\n"
     ]
    }
   ],
   "source": [
    "suMlist = sorted(suMlist)\n",
    "print(suMlist)\n",
    "sumDic = {index:data for data,index in enumerate(suMlist)}\n",
    "i = 0\n",
    "j = len(sumDic) -1 \n",
    "while(i < j):\n",
    "    temp = suMlist[i] + suMlist[j]\n",
    "    if sumDic.get(totalSum-temp) and suMlist[i]!= totalSum-temp !=  suMlist[j]:\n",
    "        print('Get',suMlist[i],suMlist[j],totalSum-temp)\n",
    "        break\n",
    "    elif temp > totalSum or suMlist[i+1] + suMlist[j] > totalSum:\n",
    "        j-=1\n",
    "    else:\n",
    "        i+=1\n",
    "else:\n",
    "    print('NOt Found')"
   ]
  },
  {
   "cell_type": "code",
   "execution_count": null,
   "metadata": {},
   "outputs": [],
   "source": []
  }
 ],
 "metadata": {
  "kernelspec": {
   "display_name": "Python 3",
   "language": "python",
   "name": "python3"
  },
  "language_info": {
   "codemirror_mode": {
    "name": "ipython",
    "version": 3
   },
   "file_extension": ".py",
   "mimetype": "text/x-python",
   "name": "python",
   "nbconvert_exporter": "python",
   "pygments_lexer": "ipython3",
   "version": "3.7.3"
  }
 },
 "nbformat": 4,
 "nbformat_minor": 2
}
