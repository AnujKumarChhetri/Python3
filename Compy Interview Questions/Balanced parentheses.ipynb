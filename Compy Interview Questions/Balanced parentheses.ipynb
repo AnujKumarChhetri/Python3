{
 "cells": [
  {
   "cell_type": "markdown",
   "metadata": {},
   "source": [
    "## Check for balanced parentheses in Python"
   ]
  },
  {
   "cell_type": "markdown",
   "metadata": {},
   "source": [
    "Need to check if the given string does have unbalanced string if yes then remove it <br>\n",
    "Input -> [abc{de(fgh}]) <br>\n",
    "Output -> [abc{defgh}] <br>\n",
    "\n",
    "InPut2 -> [abc(def] <br>\n",
    "Ouput -> [abcdef] <br>\n"
   ]
  },
  {
   "cell_type": "code",
   "execution_count": 8,
   "metadata": {
    "ExecuteTime": {
     "end_time": "2022-01-08T09:10:31.760365Z",
     "start_time": "2022-01-08T09:10:31.704088Z"
    }
   },
   "outputs": [
    {
     "name": "stdout",
     "output_type": "stream",
     "text": [
      "[abc(def] ['[', '('] ]\n",
      "[abcdef] ['['] ]\n",
      "abcdef] [] ]\n"
     ]
    },
    {
     "ename": "IndexError",
     "evalue": "list index out of range",
     "output_type": "error",
     "traceback": [
      "\u001b[1;31m---------------------------------------------------------------------------\u001b[0m",
      "\u001b[1;31mIndexError\u001b[0m                                Traceback (most recent call last)",
      "\u001b[1;32m<ipython-input-8-d9ed5d0523fb>\u001b[0m in \u001b[0;36m<module>\u001b[1;34m\u001b[0m\n\u001b[0;32m     35\u001b[0m             \u001b[0munbalanced_string\u001b[0m \u001b[1;33m=\u001b[0m \u001b[0munbalanced_string\u001b[0m\u001b[1;33m.\u001b[0m\u001b[0mreplace\u001b[0m\u001b[1;33m(\u001b[0m\u001b[0mstackLi\u001b[0m\u001b[1;33m.\u001b[0m\u001b[0mpop\u001b[0m\u001b[1;33m(\u001b[0m\u001b[1;33m)\u001b[0m\u001b[1;33m,\u001b[0m\u001b[1;34m\"\"\u001b[0m\u001b[1;33m,\u001b[0m\u001b[1;36m1\u001b[0m\u001b[1;33m)\u001b[0m\u001b[1;33m\u001b[0m\u001b[1;33m\u001b[0m\u001b[0m\n\u001b[0;32m     36\u001b[0m     \u001b[1;32mreturn\u001b[0m \u001b[0munbalanced_string\u001b[0m\u001b[1;33m\u001b[0m\u001b[1;33m\u001b[0m\u001b[0m\n\u001b[1;32m---> 37\u001b[1;33m \u001b[0mbalanceParenths\u001b[0m\u001b[1;33m(\u001b[0m\u001b[1;34m\"[abc(def]\"\u001b[0m\u001b[1;33m)\u001b[0m\u001b[1;33m\u001b[0m\u001b[1;33m\u001b[0m\u001b[0m\n\u001b[0m",
      "\u001b[1;32m<ipython-input-8-d9ed5d0523fb>\u001b[0m in \u001b[0;36mbalanceParenths\u001b[1;34m(unbalanced_string)\u001b[0m\n\u001b[0;32m     15\u001b[0m             \u001b[1;31m#check the element with the stack top element if its match pass the element and pop the stack\u001b[0m\u001b[1;33m\u001b[0m\u001b[1;33m\u001b[0m\u001b[1;33m\u001b[0m\u001b[0m\n\u001b[0;32m     16\u001b[0m             \u001b[0mprint\u001b[0m\u001b[1;33m(\u001b[0m\u001b[0munbalanced_string\u001b[0m\u001b[1;33m,\u001b[0m\u001b[0mstackLi\u001b[0m\u001b[1;33m,\u001b[0m\u001b[0munbalanced_string\u001b[0m\u001b[1;33m[\u001b[0m\u001b[0mi\u001b[0m\u001b[1;33m]\u001b[0m\u001b[1;33m)\u001b[0m\u001b[1;33m\u001b[0m\u001b[1;33m\u001b[0m\u001b[0m\n\u001b[1;32m---> 17\u001b[1;33m             \u001b[1;32mif\u001b[0m \u001b[0mparenThes\u001b[0m\u001b[1;33m.\u001b[0m\u001b[0mget\u001b[0m\u001b[1;33m(\u001b[0m\u001b[0mstackLi\u001b[0m\u001b[1;33m[\u001b[0m\u001b[1;33m-\u001b[0m\u001b[1;36m1\u001b[0m\u001b[1;33m]\u001b[0m\u001b[1;33m)\u001b[0m \u001b[1;33m==\u001b[0m \u001b[0munbalanced_string\u001b[0m\u001b[1;33m[\u001b[0m\u001b[0mi\u001b[0m\u001b[1;33m]\u001b[0m\u001b[1;33m:\u001b[0m\u001b[1;33m\u001b[0m\u001b[1;33m\u001b[0m\u001b[0m\n\u001b[0m\u001b[0;32m     18\u001b[0m                 \u001b[0mprint\u001b[0m\u001b[1;33m(\u001b[0m\u001b[1;34m\"EYS\"\u001b[0m\u001b[1;33m)\u001b[0m\u001b[1;33m\u001b[0m\u001b[1;33m\u001b[0m\u001b[0m\n\u001b[0;32m     19\u001b[0m                 \u001b[0mi\u001b[0m\u001b[1;33m+=\u001b[0m\u001b[1;36m1\u001b[0m\u001b[1;33m\u001b[0m\u001b[1;33m\u001b[0m\u001b[0m\n",
      "\u001b[1;31mIndexError\u001b[0m: list index out of range"
     ]
    }
   ],
   "source": [
    "\n",
    "def balanceParenths(unbalanced_string):\n",
    "    #To manage the open and close case and to manage the removal case for the related string\n",
    "    parenThes = {'{':1, '[':1, '(':1,'}':0, ']':0, ')':0}\n",
    "    #Maintain stack using list\n",
    "    stackLi = []\n",
    "    i = 0\n",
    "    while(i<len(unbalanced_string)):\n",
    "        #Append the stack in case of open Bracket\n",
    "        if parenThes.get(unbalanced_string[i]) == 1:\n",
    "            stackLi.append(unbalanced_string[i])\n",
    "            i+=1\n",
    "        #Case to manage the close Brackets\n",
    "        elif parenThes.get(unbalanced_string[i]) ==0:\n",
    "            #check the element with the stack top element if its match pass the element and pop the stack\n",
    "            print(unbalanced_string,stackLi,unbalanced_string[i])\n",
    "            if parenThes.get(stackLi[-1]) == unbalanced_string[i]:\n",
    "                print(\"EYS\")\n",
    "                i+=1\n",
    "            #To manage the case to remove the extra parenthes from the string\n",
    "            else:\n",
    "                unbalanced_string = unbalanced_string.replace(stackLi[-1],\"\",1)\n",
    "                #Remove the partner parenthsis if present in string\n",
    "                unbalanced_string = unbalanced_string.replace(stackLi[-1],\"\",1)\n",
    "                i-=1\n",
    "        #Case to manage the string\n",
    "        else:\n",
    "            i+=1\n",
    "    #Case to check is stack is not empty\n",
    "    print(\"Done Here\")\n",
    "    if len(stackLi) != 0:\n",
    "        while(len(stackLi)):\n",
    "            unbalanced_string = unbalanced_string.replace(stackLi[-1],\"\",1)\n",
    "            #Remove the partner parenthsis if present in string\n",
    "            unbalanced_string = unbalanced_string.replace(stackLi.pop(),\"\",1)\n",
    "    return unbalanced_string\n",
    "balanceParenths(\"[abc(def]\")"
   ]
  },
  {
   "cell_type": "code",
   "execution_count": null,
   "metadata": {},
   "outputs": [],
   "source": []
  }
 ],
 "metadata": {
  "kernelspec": {
   "display_name": "Python 3",
   "language": "python",
   "name": "python3"
  },
  "language_info": {
   "codemirror_mode": {
    "name": "ipython",
    "version": 3
   },
   "file_extension": ".py",
   "mimetype": "text/x-python",
   "name": "python",
   "nbconvert_exporter": "python",
   "pygments_lexer": "ipython3",
   "version": "3.7.3"
  }
 },
 "nbformat": 4,
 "nbformat_minor": 2
}
