{
 "cells": [
  {
   "cell_type": "markdown",
   "metadata": {},
   "source": [
    "## Check for balanced parentheses in Python"
   ]
  },
  {
   "cell_type": "markdown",
   "metadata": {},
   "source": [
    "Need to check if the given string does have unbalanced string if yes then remove it <br>\n",
    "Input -> [abc{de(fgh}]) <br>\n",
    "Output -> [abc{defgh}] <br>\n",
    "\n",
    "InPut2 -> [abc(def] <br>\n",
    "Ouput -> [abcdef] <br>\n"
   ]
  },
  {
   "cell_type": "code",
   "execution_count": 23,
   "metadata": {
    "ExecuteTime": {
     "end_time": "2022-01-04T05:47:25.640973Z",
     "start_time": "2022-01-04T05:47:25.600873Z"
    }
   },
   "outputs": [
    {
     "name": "stdout",
     "output_type": "stream",
     "text": [
      ":A\n",
      ":A\n",
      "B ]\n",
      "B ]\n"
     ]
    },
    {
     "data": {
      "text/plain": [
       "'abcdef'"
      ]
     },
     "execution_count": 23,
     "metadata": {},
     "output_type": "execute_result"
    }
   ],
   "source": [
    "\n",
    "def balanceParenths(unbalanced_string):\n",
    "    #To manage the open and close case and to manage the removal case for the related string\n",
    "    parenThes = {'{':1, '[':1, '(':1,'}':0, ']':0, ')':0}\n",
    "    #Maintain stack using list\n",
    "    stackLi = []\n",
    "    i = 0\n",
    "    while(i<len(unbalanced_string)):\n",
    "        #Append the stack in case of open Bracket\n",
    "        if parenThes.get(unbalanced_string[i]) == 1:\n",
    "            print(\":A\")\n",
    "            stackLi.append(unbalanced_string[i])\n",
    "            i+=1\n",
    "        #Case to manage the close Brackets\n",
    "        elif parenThes.get(unbalanced_string[i]) ==0:\n",
    "            #check the element with the stack top element if its match pass the element and pop the stack\n",
    "            print(\"B\",unbalanced_string[i])\n",
    "            if reverseAndRemove(unbalanced_string[i]) == stackLi[-1]:\n",
    "                i+=1\n",
    "                stackLi.pop()\n",
    "            #To manage the case to remove the extra parenthes from the string\n",
    "            else:\n",
    "                unbalanced_string = unbalanced_string.replace(stackLi[-1],\"\",1)\n",
    "                #Remove the partner parenthsis if present in string\n",
    "                unbalanced_string = reverseAndRemove(stackLi.pop(),unbalanced_string,True)\n",
    "                i-=1\n",
    "        #Case to manage the string\n",
    "        else:\n",
    "            i+=1\n",
    "    #Case to check is stack is not empty\n",
    "    if len(stackLi) != 0:\n",
    "        while(len(stackLi)):\n",
    "            unbalanced_string = unbalanced_string.replace(stackLi[-1],\"\",1)\n",
    "            #Remove the partner parenthsis if present in string\n",
    "            unbalanced_string = reverseAndRemove(stackLi.pop(),unbalanced_string,True)\n",
    "    return unbalanced_string\n",
    "balanceParenths(\"[abc(def]\")"
   ]
  },
  {
   "cell_type": "code",
   "execution_count": null,
   "metadata": {},
   "outputs": [],
   "source": []
  }
 ],
 "metadata": {
  "kernelspec": {
   "display_name": "Python 3",
   "language": "python",
   "name": "python3"
  },
  "language_info": {
   "codemirror_mode": {
    "name": "ipython",
    "version": 3
   },
   "file_extension": ".py",
   "mimetype": "text/x-python",
   "name": "python",
   "nbconvert_exporter": "python",
   "pygments_lexer": "ipython3",
   "version": "3.7.3"
  }
 },
 "nbformat": 4,
 "nbformat_minor": 2
}
