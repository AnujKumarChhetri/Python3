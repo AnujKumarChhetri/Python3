{
 "cells": [
  {
   "cell_type": "markdown",
   "metadata": {},
   "source": [
    "Recursion"
   ]
  },
  {
   "cell_type": "code",
   "execution_count": 11,
   "metadata": {
    "ExecuteTime": {
     "end_time": "2021-01-10T02:30:08.391797Z",
     "start_time": "2021-01-10T02:30:08.378672Z"
    }
   },
   "outputs": [],
   "source": [
    "a = 1\n",
    "def fac(n):\n",
    "    if  n == 1:\n",
    "        return n\n",
    "    else:\n",
    "        return n * fac(n-1)\n",
    "        "
   ]
  },
  {
   "cell_type": "code",
   "execution_count": 12,
   "metadata": {
    "ExecuteTime": {
     "end_time": "2021-01-10T02:30:08.845420Z",
     "start_time": "2021-01-10T02:30:08.838224Z"
    }
   },
   "outputs": [
    {
     "data": {
      "text/plain": [
       "120"
      ]
     },
     "execution_count": 12,
     "metadata": {},
     "output_type": "execute_result"
    }
   ],
   "source": [
    "fac(5)"
   ]
  },
  {
   "cell_type": "markdown",
   "metadata": {
    "ExecuteTime": {
     "end_time": "2021-01-10T08:30:19.466058Z",
     "start_time": "2021-01-10T08:30:19.453064Z"
    }
   },
   "source": [
    "Path Fiinding Problem Using BackTracking"
   ]
  },
  {
   "cell_type": "code",
   "execution_count": null,
   "metadata": {},
   "outputs": [],
   "source": [
    "matrix = [[1,1,1,1,0],[0,1,0,1,0],[0,1,0,1,0],[0,1,0,0,0],[1,1,1,1,1]]"
   ]
  },
  {
   "cell_type": "code",
   "execution_count": 35,
   "metadata": {
    "ExecuteTime": {
     "end_time": "2021-01-10T09:10:13.829817Z",
     "start_time": "2021-01-10T09:10:13.813861Z"
    }
   },
   "outputs": [
    {
     "name": "stdout",
     "output_type": "stream",
     "text": [
      "[(0, 1), (1, 1), (2, 1), (3, 1), (4, 1), (4, 2), (4, 3), (4, 4), 1]\n"
     ]
    }
   ],
   "source": [
    "#this fun return none in case if they dont find solution and by use of none backtrack is formed \n",
    "def add_path(matrix,position,matrix_len):\n",
    "    #check out the Last node case of matrix\n",
    "    if position == (matrix_len-1,matrix_len-1):\n",
    "#         return([matrix_len-1,matrix_len-1])\n",
    "        return [1]\n",
    "    x,y = position\n",
    "    #check vertically \n",
    "    if x+1<matrix_len and matrix[x+1][y]==1:\n",
    "        a = add_path(matrix,(x+1,y),matrix_len)\n",
    "        #case if get none then backtrack\n",
    "        if a!= None:\n",
    "            return [(x+1,y)] + a\n",
    "    #check Horizontally \n",
    "    if y+1<matrix_len and matrix[x][y+1]==1:\n",
    "        b = add_path(matrix,(x,y+1),matrix_len)\n",
    "        #case if get none then backtrack\n",
    "        if b!=None:\n",
    "            return [(x,y+1)] + b\n",
    "print(add_path(matrix,(0,0),len(matrix)))"
   ]
  },
  {
   "cell_type": "code",
   "execution_count": null,
   "metadata": {},
   "outputs": [],
   "source": []
  }
 ],
 "metadata": {
  "kernelspec": {
   "display_name": "Python 3",
   "language": "python",
   "name": "python3"
  },
  "language_info": {
   "codemirror_mode": {
    "name": "ipython",
    "version": 3
   },
   "file_extension": ".py",
   "mimetype": "text/x-python",
   "name": "python",
   "nbconvert_exporter": "python",
   "pygments_lexer": "ipython3",
   "version": "3.7.3"
  }
 },
 "nbformat": 4,
 "nbformat_minor": 2
}
