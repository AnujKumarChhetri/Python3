{
 "cells": [
  {
   "cell_type": "code",
   "execution_count": 1,
   "metadata": {
    "ExecuteTime": {
     "end_time": "2021-07-13T08:02:42.421317Z",
     "start_time": "2021-07-13T08:02:42.402368Z"
    }
   },
   "outputs": [],
   "source": [
    "def print_block(data):\n",
    "    print(\" ↑ \")\n",
    "    print(' _ ')\n",
    "    print(f\"|{data}|\")\n",
    "def visulize(data,delet_node = None):\n",
    "    li = data\n",
    "    for x in li[::-1]:\n",
    "        if x == li[-1] and delet_node:\n",
    "            print()\n",
    "            print(\"Stack/Queue   POped Item\")\n",
    "            print(' _ ')\n",
    "            print(f\"|{x.value}|    -->    |{delet_node.value}|\")\n",
    "        else:\n",
    "            print_block(x.value)\n",
    "#     print_block(current.data)"
   ]
  },
  {
   "cell_type": "markdown",
   "metadata": {},
   "source": [
    "# Binary Tree "
   ]
  },
  {
   "cell_type": "code",
   "execution_count": 2,
   "metadata": {
    "ExecuteTime": {
     "end_time": "2021-07-13T08:02:43.230785Z",
     "start_time": "2021-07-13T08:02:43.186527Z"
    }
   },
   "outputs": [
    {
     "name": "stdout",
     "output_type": "stream",
     "text": [
      "\n",
      "        __1__\n",
      "       /     \\\n",
      "    __2       3\n",
      "   /   \\     / \\\n",
      "  4     5   6   7\n",
      " / \\\n",
      "8   9\n",
      "\n"
     ]
    }
   ],
   "source": [
    "#MY Basic method by storing child in queue\n",
    "from binarytree import Node\n",
    "        \n",
    "class Tree:\n",
    "    def __init__(self,node):\n",
    "        self.root = node\n",
    "    def check_and_add(self,current,child,node):\n",
    "        if current.left == None:\n",
    "            current.left = Node(node)\n",
    "            return False\n",
    "        else:\n",
    "            child.append(current.left)\n",
    "        if current.right == None:\n",
    "            current.right = Node(node)\n",
    "            return False\n",
    "        else:\n",
    "            child.append(current.right)\n",
    "        return child\n",
    "    def add_at_k(self,node):\n",
    "        child = []\n",
    "        current = self.root\n",
    "        child = self.check_and_add(current,child,node)\n",
    "        while(child):\n",
    "            current = child.pop(0)\n",
    "            child = self.check_and_add(current,child,node)\n",
    "    def add_node(self,a,b):\n",
    "        for x in range(a,b):\n",
    "            self.add_at_k(x)\n",
    "    def print_node(self):\n",
    "        print(self.root)\n",
    "tree = Tree(Node(1))\n",
    "tree.add_node(2,10)\n",
    "tree.print_node()"
   ]
  },
  {
   "cell_type": "markdown",
   "metadata": {},
   "source": [
    "# Pre order Traversal using Recursion (Root,Left,Right)"
   ]
  },
  {
   "cell_type": "code",
   "execution_count": 3,
   "metadata": {
    "ExecuteTime": {
     "end_time": "2021-07-13T08:02:44.131451Z",
     "start_time": "2021-07-13T08:02:44.114532Z"
    }
   },
   "outputs": [
    {
     "name": "stdout",
     "output_type": "stream",
     "text": [
      "1->2->4->8->9->5->3->6->7->"
     ]
    }
   ],
   "source": [
    "def _print_preorder(self, node):\n",
    "    if node == None:\n",
    "        return\n",
    "    print(node.value,end=\"->\")\n",
    "    self._print_preorder(node.left)\n",
    "    self._print_preorder(node.right)\n",
    "def print_preorder(self):\n",
    "    self._print_preorder(self.root)\n",
    "\n",
    "#Add method to previous added class\n",
    "Tree._print_preorder = _print_preorder\n",
    "Tree.print_preorder = print_preorder\n",
    "\n",
    "#Initialize the class again to use added Functionality\n",
    "#if you dont want to initialize the method again you need to use MethodType fun \n",
    "#reffrence --> https://stackoverflow.com/questions/972/adding-a-method-to-an-existing-object-instance\n",
    "tree = Tree(Node(1))\n",
    "tree.add_node(2,10)\n",
    "tree.print_preorder()\n"
   ]
  },
  {
   "cell_type": "markdown",
   "metadata": {
    "ExecuteTime": {
     "end_time": "2021-02-15T12:42:05.852433Z",
     "start_time": "2021-02-15T12:42:05.840243Z"
    }
   },
   "source": [
    "# Pre Order Using Iteration"
   ]
  },
  {
   "cell_type": "code",
   "execution_count": 4,
   "metadata": {
    "ExecuteTime": {
     "end_time": "2021-07-13T08:02:45.464441Z",
     "start_time": "2021-07-13T08:02:45.434556Z"
    }
   },
   "outputs": [
    {
     "name": "stdout",
     "output_type": "stream",
     "text": [
      " ↑ \n",
      " _ \n",
      "|1|\n",
      "\n",
      "Stack/Queue   POped Item\n",
      " _ \n",
      "|2|    -->    |1|\n",
      " ↑ \n",
      " _ \n",
      "|3|\n",
      "\n",
      "Stack/Queue   POped Item\n",
      " _ \n",
      "|4|    -->    |2|\n",
      " ↑ \n",
      " _ \n",
      "|5|\n",
      " ↑ \n",
      " _ \n",
      "|3|\n",
      "\n",
      "Stack/Queue   POped Item\n",
      " _ \n",
      "|8|    -->    |4|\n",
      " ↑ \n",
      " _ \n",
      "|9|\n",
      " ↑ \n",
      " _ \n",
      "|5|\n",
      " ↑ \n",
      " _ \n",
      "|3|\n",
      "\n",
      "Stack/Queue   POped Item\n",
      " _ \n",
      "|9|    -->    |8|\n",
      " ↑ \n",
      " _ \n",
      "|5|\n",
      " ↑ \n",
      " _ \n",
      "|3|\n",
      "\n",
      "Stack/Queue   POped Item\n",
      " _ \n",
      "|5|    -->    |9|\n",
      " ↑ \n",
      " _ \n",
      "|3|\n",
      "\n",
      "Stack/Queue   POped Item\n",
      " _ \n",
      "|3|    -->    |5|\n",
      "\n",
      "Stack/Queue   POped Item\n",
      " _ \n",
      "|6|    -->    |3|\n",
      " ↑ \n",
      " _ \n",
      "|7|\n",
      "\n",
      "Stack/Queue   POped Item\n",
      " _ \n",
      "|7|    -->    |6|\n",
      "[1, 2, 4, 8, 9, 5, 3, 6, 7]\n"
     ]
    }
   ],
   "source": [
    "\n",
    "#For this method we need to stack, We can use stack , currently I'am using list as stack\n",
    "def print_preorder_iteration(self):\n",
    "    node = self.root\n",
    "    preorder_list = []\n",
    "    stack = [self.root]\n",
    "    visulize(stack)\n",
    "    while(len(stack) != 0):\n",
    "        current = stack.pop()\n",
    "        #this method wont follow the RLR method as its goes to righ first \n",
    "        if current.right: stack.append(current.right)\n",
    "        if current.left: stack.append(current.left)\n",
    "        visulize(stack,current)\n",
    "        preorder_list.append(current.value)\n",
    "    print(preorder_list)\n",
    "        \n",
    "Tree.print_preorder_iteration = print_preorder_iteration\n",
    "tree = Tree(Node(1))\n",
    "tree.add_node(2,10)\n",
    "tree.print_preorder_iteration()\n",
    "        "
   ]
  },
  {
   "cell_type": "markdown",
   "metadata": {},
   "source": [
    "# PRE ORDER USING STACK (Root,Left,Right)"
   ]
  },
  {
   "cell_type": "code",
   "execution_count": 5,
   "metadata": {
    "ExecuteTime": {
     "end_time": "2021-07-13T08:02:46.364565Z",
     "start_time": "2021-07-13T08:02:46.339632Z"
    }
   },
   "outputs": [
    {
     "name": "stdout",
     "output_type": "stream",
     "text": [
      "1\n",
      "2\n",
      "4\n",
      "8\n",
      "8\n",
      "4\n",
      "8\n",
      "8\n"
     ]
    }
   ],
   "source": [
    "#For this method we need to stack, We can use stack , currently I'am using list as stack\n",
    "def print_preorder_iteration(self):\n",
    "    current = self.root\n",
    "    stack = [self.root]\n",
    "    print(current.value)\n",
    "    while(len(stack) != 0):\n",
    "        if current.left:\n",
    "            stack.append(current.left)\n",
    "            current = current.left\n",
    "            print(current.value)\n",
    "        elif current.right:\n",
    "            stack.pop()\n",
    "            current = current.right\n",
    "            print(current.value)\n",
    "        else:\n",
    "            current = stack.pop()\n",
    "Tree.print_preorder_iteration = print_preorder_iteration\n",
    "tree = Tree(Node(1))\n",
    "tree.add_node(2,10)\n",
    "tree.print_preorder_iteration()"
   ]
  },
  {
   "cell_type": "markdown",
   "metadata": {},
   "source": [
    "# Binry Tree Using Mathematical Trick"
   ]
  },
  {
   "cell_type": "markdown",
   "metadata": {},
   "source": [
    "If we observe carefully we can see that if parent node is at index i in the array then the left child of that node is at index (2*i + 1) and right child is at index (2*i + 2) in the array.\n",
    "Using this concept, we can easily insert the left and right nodes by choosing its parent node. We will insert the first element present in the array as the root node at level 0 in the tree and start traversing the array and for every node i we will insert its both childs left and right in the tree.\n",
    "<b>Limitation is need all element in array first</b> "
   ]
  },
  {
   "cell_type": "code",
   "execution_count": 6,
   "metadata": {
    "ExecuteTime": {
     "end_time": "2021-07-13T08:02:47.661490Z",
     "start_time": "2021-07-13T08:02:47.644532Z"
    }
   },
   "outputs": [
    {
     "name": "stdout",
     "output_type": "stream",
     "text": [
      "\n",
      "        _____1__\n",
      "       /        \\\n",
      "    __2___       3\n",
      "   /      \\     / \\\n",
      "  4       _5   6   7\n",
      " / \\     /\n",
      "8   9   10\n",
      "\n"
     ]
    }
   ],
   "source": [
    "from binarytree import Node\n",
    "# Function to insert nodes in level order \n",
    "def add_node(arr, root, i, n): \n",
    "    \n",
    "    # Base case for recursion \n",
    "    if i < n: \n",
    "        temp = Node(arr[i])\n",
    "        root = temp\n",
    "\n",
    "        # insert left child \n",
    "        root.left = add_node(arr, root.left, 2 * i + 1, n) \n",
    "\n",
    "        # insert right child\n",
    "        root.right = add_node(arr, root.right, 2 * i + 2, n) \n",
    "    return root\n",
    "\n",
    "# Driver Code \n",
    "if __name__ == '__main__': \n",
    "    arr = [1, 2, 3, 4, 5, 6,7,8,9,10] \n",
    "    n = len(arr) \n",
    "    root = None\n",
    "    root = add_node(arr, root, 0, n) \n",
    "    print(root)\n",
    "# This code is contributed by PranchalK \n"
   ]
  },
  {
   "cell_type": "markdown",
   "metadata": {
    "ExecuteTime": {
     "end_time": "2021-02-15T12:35:32.644493Z",
     "start_time": "2021-02-15T12:35:32.630802Z"
    }
   },
   "source": [
    "# Inorder Traversal (LEFT ROOT RIGHT)"
   ]
  },
  {
   "cell_type": "code",
   "execution_count": 29,
   "metadata": {
    "ExecuteTime": {
     "end_time": "2021-05-02T08:09:51.064687Z",
     "start_time": "2021-05-02T08:09:51.045772Z"
    }
   },
   "outputs": [
    {
     "name": "stdout",
     "output_type": "stream",
     "text": [
      "1->2->4->8->9->5->3->6->7->"
     ]
    }
   ],
   "source": [
    "def _inorder_print(self, node):\n",
    "    if node == None:\n",
    "        return\n",
    "    print(node.value,end=\"->\")\n",
    "    self._inorder_print(node.left)\n",
    "    self._inorder_print(node.right)\n",
    "def inorder_print(self):\n",
    "    self._inorder_print(self.root)\n",
    "\n",
    "#Add method to previous added class\n",
    "Tree._inorder_print = _inorder_print\n",
    "Tree.inorder_print = inorder_print\n",
    "\n",
    "#Initialize the class again to use added Functionality\n",
    "#if you dont want to initialize the method again you need to use MethodType fun \n",
    "#reffrence --> https://stackoverflow.com/questions/972/adding-a-method-to-an-existing-object-instance\n",
    "tree = Tree(Node(1))\n",
    "tree.add_node(2,10)\n",
    "tree.inorder_print()\n"
   ]
  },
  {
   "cell_type": "markdown",
   "metadata": {},
   "source": [
    "# POstOrder Traversal(LEFT,RIGHT,ROOT)"
   ]
  },
  {
   "cell_type": "code",
   "execution_count": 30,
   "metadata": {
    "ExecuteTime": {
     "end_time": "2021-05-02T08:09:51.746092Z",
     "start_time": "2021-05-02T08:09:51.714602Z"
    }
   },
   "outputs": [
    {
     "ename": "TypeError",
     "evalue": "add_node() missing 2 required positional arguments: 'a' and 'b'",
     "output_type": "error",
     "traceback": [
      "\u001b[1;31m---------------------------------------------------------------------------\u001b[0m",
      "\u001b[1;31mTypeError\u001b[0m                                 Traceback (most recent call last)",
      "\u001b[1;32m<ipython-input-30-a82498ad792e>\u001b[0m in \u001b[0;36m<module>\u001b[1;34m\u001b[0m\n\u001b[0;32m     17\u001b[0m \u001b[1;31m#reffrence --> https://stackoverflow.com/questions/972/adding-a-method-to-an-existing-object-instance\u001b[0m\u001b[1;33m\u001b[0m\u001b[1;33m\u001b[0m\u001b[1;33m\u001b[0m\u001b[0m\n\u001b[0;32m     18\u001b[0m \u001b[0mtree\u001b[0m \u001b[1;33m=\u001b[0m \u001b[0mTree\u001b[0m\u001b[1;33m(\u001b[0m\u001b[0mNode\u001b[0m\u001b[1;33m(\u001b[0m\u001b[1;36m1\u001b[0m\u001b[1;33m)\u001b[0m\u001b[1;33m)\u001b[0m\u001b[1;33m\u001b[0m\u001b[1;33m\u001b[0m\u001b[0m\n\u001b[1;32m---> 19\u001b[1;33m \u001b[0mtree\u001b[0m\u001b[1;33m.\u001b[0m\u001b[0madd_node\u001b[0m\u001b[1;33m(\u001b[0m\u001b[1;33m)\u001b[0m\u001b[1;33m\u001b[0m\u001b[1;33m\u001b[0m\u001b[0m\n\u001b[0m\u001b[0;32m     20\u001b[0m \u001b[0mtree\u001b[0m\u001b[1;33m.\u001b[0m\u001b[0mpostorder_print\u001b[0m\u001b[1;33m(\u001b[0m\u001b[1;33m)\u001b[0m\u001b[1;33m\u001b[0m\u001b[1;33m\u001b[0m\u001b[0m\n",
      "\u001b[1;31mTypeError\u001b[0m: add_node() missing 2 required positional arguments: 'a' and 'b'"
     ]
    }
   ],
   "source": [
    "def _postorder_print(self, node):\n",
    "    if node == None:\n",
    "        return\n",
    "    self._postorder_print(node.left)\n",
    "    self._postorder_print(node.right)\n",
    "    print(node.value,end=\"->\")\n",
    "    \n",
    "def postorder_print(self):\n",
    "    self._postorder_print(self.root)\n",
    "\n",
    "#Add method to previous added class\n",
    "Tree._postorder_print = _postorder_print\n",
    "Tree.postorder_print = postorder_print\n",
    "\n",
    "#Initialize the class again to use added Functionality\n",
    "#if you dont want to initialize the method again you need to use MethodType fun \n",
    "#reffrence --> https://stackoverflow.com/questions/972/adding-a-method-to-an-existing-object-instance\n",
    "tree = Tree(Node(1))\n",
    "tree.add_node()\n",
    "tree.postorder_print()"
   ]
  },
  {
   "cell_type": "markdown",
   "metadata": {},
   "source": [
    "# LEVEL ORDER (SOME WAY OF BFS)"
   ]
  },
  {
   "cell_type": "code",
   "execution_count": 87,
   "metadata": {
    "ExecuteTime": {
     "end_time": "2021-05-02T08:58:58.733792Z",
     "start_time": "2021-05-02T08:58:58.703877Z"
    }
   },
   "outputs": [
    {
     "name": "stdout",
     "output_type": "stream",
     "text": [
      "    1 \n",
      "\n",
      "   2    3 \n",
      "\n",
      "  4   5   6   7 \n",
      "\n",
      " 8  9 "
     ]
    }
   ],
   "source": [
    "#override the Node class here for some reasons, To check its working or note\n",
    "class Node:\n",
    "    def __init__(self,data):\n",
    "        self.value = data\n",
    "        self.left = None\n",
    "        self.right = None\n",
    "        \n",
    "def _deque(self):\n",
    "    self.queue.pop(0)\n",
    "    \n",
    "def _enque(self):\n",
    "    if self.queue[0].left:\n",
    "        self.queue.append(self.queue[0].left)\n",
    "    if self.queue[0].right:\n",
    "        self.queue.append(self.queue[0].right)\n",
    "def print_tree_stru(self,li):\n",
    "    i = 0\n",
    "    sp = len(li)//2-1\n",
    "    try:\n",
    "        while(i< len(li)):\n",
    "            for x in range(0,i+1):\n",
    "                print(sp*\" \",li[i],end = \" \")\n",
    "                i+=1\n",
    "            sp-=1\n",
    "            print('\\n')\n",
    "    except Exception as e:\n",
    "        pass\n",
    "            \n",
    "def _levelorder_print(self):\n",
    "    li = []\n",
    "    while(len(self.queue)):\n",
    "        li.append(self.queue[0].value)\n",
    "        self._enque()\n",
    "        self._deque()\n",
    "    self.print_tree_stru(li)\n",
    "    \n",
    "        \n",
    "def levelorder_print(self):\n",
    "    self.queue = [self.root]\n",
    "    self._levelorder_print()\n",
    "\n",
    "#Add method to previous added class\n",
    "Tree._levelorder_print = _levelorder_print\n",
    "Tree.levelorder_print = levelorder_print\n",
    "Tree.print_tree_stru = print_tree_stru\n",
    "Tree._deque = _deque\n",
    "Tree._enque = _enque\n",
    "\n",
    "#Initialize the class again to use added Functionality\n",
    "#if you dont want to initialize the method again you need to use MethodType fun \n",
    "#reffrence --> https://stackoverflow.com/questions/972/adding-a-method-to-an-existing-object-instance\n",
    "tree = Tree(Node(1))\n",
    "tree.add_node(2,10)\n",
    "tree.levelorder_print()"
   ]
  },
  {
   "cell_type": "markdown",
   "metadata": {},
   "source": [
    "# CASE 1 -  Deletion of Last Node (Key Unknown)"
   ]
  },
  {
   "cell_type": "code",
   "execution_count": 35,
   "metadata": {
    "ExecuteTime": {
     "end_time": "2021-05-02T08:11:31.954278Z",
     "start_time": "2021-05-02T08:11:31.925317Z"
    }
   },
   "outputs": [
    {
     "ename": "AttributeError",
     "evalue": "'Tree' object has no attribute '_levelorder_del'",
     "output_type": "error",
     "traceback": [
      "\u001b[1;31m---------------------------------------------------------------------------\u001b[0m",
      "\u001b[1;31mAttributeError\u001b[0m                            Traceback (most recent call last)",
      "\u001b[1;32m<ipython-input-35-ca55d7c17510>\u001b[0m in \u001b[0;36m<module>\u001b[1;34m\u001b[0m\n\u001b[0;32m     22\u001b[0m \u001b[0mTree\u001b[0m\u001b[1;33m.\u001b[0m\u001b[0m_deque\u001b[0m \u001b[1;33m=\u001b[0m \u001b[0m_deque\u001b[0m\u001b[1;33m\u001b[0m\u001b[1;33m\u001b[0m\u001b[0m\n\u001b[0;32m     23\u001b[0m \u001b[0mTree\u001b[0m\u001b[1;33m.\u001b[0m\u001b[0m_lastnode_del\u001b[0m \u001b[1;33m=\u001b[0m \u001b[0m_lastnode_del\u001b[0m\u001b[1;33m\u001b[0m\u001b[1;33m\u001b[0m\u001b[0m\n\u001b[1;32m---> 24\u001b[1;33m \u001b[0mtree\u001b[0m\u001b[1;33m.\u001b[0m\u001b[0m_levelorder_del\u001b[0m\u001b[1;33m(\u001b[0m\u001b[1;33m)\u001b[0m\u001b[1;33m\u001b[0m\u001b[1;33m\u001b[0m\u001b[0m\n\u001b[0m\u001b[0;32m     25\u001b[0m \u001b[0mtree\u001b[0m\u001b[1;33m.\u001b[0m\u001b[0mlevelorder_print\u001b[0m\u001b[1;33m(\u001b[0m\u001b[1;33m)\u001b[0m\u001b[1;33m\u001b[0m\u001b[1;33m\u001b[0m\u001b[0m\n",
      "\u001b[1;31mAttributeError\u001b[0m: 'Tree' object has no attribute '_levelorder_del'"
     ]
    }
   ],
   "source": [
    "#UPdate the deque fun to implement delete for case 1 and case 2\n",
    "def _deque(self):\n",
    "    del_node = self.queue.pop(0)\n",
    "    self.last_node = del_node\n",
    "    if del_node.left != None or del_node.right != None:\n",
    "        self.parent = del_node\n",
    "    \n",
    "def _lastnode_del(self):\n",
    "    self.parent = None\n",
    "    self.queue = [self.root]\n",
    "    \n",
    "    while(len(self.queue)):\n",
    "        self._enque()\n",
    "        self._deque()\n",
    "    if self.parent.right != None and self.parent.left != None:\n",
    "        self.parent.right = None\n",
    "    elif self.parent.right != None:\n",
    "        self.parent.right = None\n",
    "    else:\n",
    "        self.parent.left = None\n",
    "        \n",
    "Tree._deque = _deque\n",
    "Tree._lastnode_del = _lastnode_del\n",
    "tree._levelorder_del()\n",
    "tree.levelorder_print()"
   ]
  },
  {
   "cell_type": "markdown",
   "metadata": {},
   "source": [
    "# CASE 2 - Delete the specific Node"
   ]
  },
  {
   "cell_type": "code",
   "execution_count": 33,
   "metadata": {
    "ExecuteTime": {
     "end_time": "2021-05-02T08:09:53.992259Z",
     "start_time": "2021-05-02T08:09:53.979291Z"
    }
   },
   "outputs": [],
   "source": [
    "#1 - Find the element\n",
    "#2 - Store it and replace the last node value with it\n",
    "#3 - Delete the last node"
   ]
  },
  {
   "cell_type": "markdown",
   "metadata": {},
   "source": [
    "# Sum of all root to node Number P-21 page 152"
   ]
  },
  {
   "cell_type": "code",
   "execution_count": 37,
   "metadata": {
    "ExecuteTime": {
     "end_time": "2021-05-02T08:12:06.601793Z",
     "start_time": "2021-05-02T08:12:06.587833Z"
    }
   },
   "outputs": [
    {
     "name": "stdout",
     "output_type": "stream",
     "text": [
      "25\n"
     ]
    }
   ],
   "source": [
    "def _sumup_print(self,node,sumup,current):\n",
    "    if node == None:\n",
    "        return\n",
    "    current = current * 10 + node.value\n",
    "    if not node.left and not node.right:\n",
    "        sumup[0] += current\n",
    "        return\n",
    "    self._sumup_print(node.left,sumup,current)\n",
    "    self._sumup_print(node.right,sumup,current)\n",
    "def sumup_print(self):\n",
    "    sumup = [0]\n",
    "    current = 0 \n",
    "    self._sumup_print(self.root,sumup,current)\n",
    "    print(sumup[0])\n",
    "    \n",
    "Tree._sumup_print = _sumup_print\n",
    "Tree.sumup_print = sumup_print\n",
    "\n",
    "#Initialize the class again to use added Functionality\n",
    "#if you dont want to initialize the method again you need to use MethodType fun \n",
    "#reffrence --> https://stackoverflow.com/questions/972/adding-a-method-to-an-existing-object-instance\n",
    "tree = Tree(Node(1))\n",
    "tree.add_node(2,4)\n",
    "tree.sumup_print()"
   ]
  },
  {
   "cell_type": "markdown",
   "metadata": {},
   "source": [
    "# Path In tree"
   ]
  },
  {
   "cell_type": "code",
   "execution_count": 39,
   "metadata": {
    "ExecuteTime": {
     "end_time": "2021-05-02T08:12:23.011560Z",
     "start_time": "2021-05-02T08:12:22.984634Z"
    }
   },
   "outputs": [
    {
     "name": "stdout",
     "output_type": "stream",
     "text": [
      "[[1], [1, 2], [1, 2, 4], [1, 2, 4, 8], [1, 2, 4, 9], [1, 2, 5], [1, 3], [1, 3, 6], [1, 3, 7]]\n"
     ]
    }
   ],
   "source": [
    "def _pathappend(self,node,path,paths_li):\n",
    "    if node == None:\n",
    "        return\n",
    "    path = path + [node.value]\n",
    "    paths_li.append(path)\n",
    "    self._pathappend(node.left,path,paths_li)\n",
    "    self._pathappend(node.right,path,paths_li)\n",
    "    \n",
    "def pathappend(self):\n",
    "    paths_li = []\n",
    "    self._pathappend(self.root,[],paths_li)\n",
    "    print(paths_li)\n",
    "    \n",
    "Tree._pathappend = _pathappend\n",
    "Tree.pathappend = pathappend\n",
    "tree = Tree(Node(1))\n",
    "tree.add_node(2,10)\n",
    "tree.pathappend()"
   ]
  },
  {
   "cell_type": "markdown",
   "metadata": {},
   "source": [
    "\n",
    "# MAXXIMUM PATH SUM"
   ]
  },
  {
   "cell_type": "code",
   "execution_count": 40,
   "metadata": {
    "ExecuteTime": {
     "end_time": "2021-05-02T08:12:28.539377Z",
     "start_time": "2021-05-02T08:12:28.513446Z"
    }
   },
   "outputs": [
    {
     "name": "stdout",
     "output_type": "stream",
     "text": [
      "<__main__.Node object at 0x0000017FBA7B7F60>\n",
      "7\n"
     ]
    }
   ],
   "source": [
    "def _pathappend(self,node,path,paths_li):\n",
    "    if node == None:\n",
    "        return\n",
    "    path = path + [node.value]\n",
    "    if len(paths_li):\n",
    "        if len(paths_li[0]) < len(path):\n",
    "            paths_li[0] = path[:]\n",
    "        elif len(paths_li[0]) == len(path):\n",
    "            paths_li[0] = max(paths_li[0],path)\n",
    "    else:\n",
    "        paths_li.append(path)\n",
    "    self._pathappend(node.left,path,paths_li)\n",
    "    self._pathappend(node.right,path,paths_li)\n",
    "    \n",
    "def pathappend(self):\n",
    "    paths_li = []\n",
    "    self._pathappend(self.root,[],paths_li)\n",
    "    print(sum(paths_li[0]))\n",
    "    \n",
    "Tree._pathappend = _pathappend\n",
    "Tree.pathappend = pathappend\n",
    "\n",
    "tree = Tree(Node(1))\n",
    "tree.add_node(2,5)\n",
    "tree.print_node()\n",
    "tree.pathappend()"
   ]
  },
  {
   "cell_type": "markdown",
   "metadata": {},
   "source": [
    "# Tree Mirroring"
   ]
  },
  {
   "cell_type": "code",
   "execution_count": 88,
   "metadata": {
    "ExecuteTime": {
     "end_time": "2021-05-02T08:59:01.275901Z",
     "start_time": "2021-05-02T08:59:01.244387Z"
    }
   },
   "outputs": [
    {
     "name": "stdout",
     "output_type": "stream",
     "text": [
      "    1 \n",
      "\n",
      "   2    3 \n",
      "\n",
      "  4   5   6   7 \n",
      "\n",
      " 8  9 "
     ]
    }
   ],
   "source": [
    "#override the Node class here for some reasons, To check its working or note\n",
    "\n",
    "            \n",
    "def _mirror_order(self,node):\n",
    "    if node == None:\n",
    "        return\n",
    "    \n",
    "    self._mirror_order(node.left)\n",
    "    self._mirror_order(node.right)\n",
    "    root.left,root.right = root.right,root.left\n",
    "\n",
    "def mirroring(self):\n",
    "    self._mirror_order(self.root)\n",
    "    self.levelorder_print()\n",
    "    \n",
    "\n",
    "#Updateing Previous classes for Mirroring\n",
    "Tree._mirror_order = _mirror_order\n",
    "Tree.mirroring = mirroring\n",
    "\n",
    "#Initialize the class again to use added Functionality\n",
    "#if you dont want to initialize the method again you need to use MethodType fun \n",
    "#reffrence --> https://stackoverflow.com/questions/972/adding-a-method-to-an-existing-object-instance\n",
    "tree = Tree(Node(1))\n",
    "tree.add_node(2,10)\n",
    "tree.mirroring()"
   ]
  },
  {
   "cell_type": "markdown",
   "metadata": {},
   "source": [
    "# Creating Tree using Inorder And PreOrder"
   ]
  },
  {
   "cell_type": "code",
   "execution_count": 4,
   "metadata": {
    "ExecuteTime": {
     "end_time": "2021-05-08T07:59:53.292499Z",
     "start_time": "2021-05-08T07:59:53.273425Z"
    }
   },
   "outputs": [
    {
     "name": "stdout",
     "output_type": "stream",
     "text": [
      "\n",
      "    __6__\n",
      "   /     \\\n",
      "  5       6\n",
      " / \\     /\n",
      "4   5   6\n",
      "\n"
     ]
    }
   ],
   "source": [
    "class InPr:\n",
    "    def __init__(self):\n",
    "        self.root = None\n",
    "    def add_node(self,inorder,preorder):\n",
    "        if inorder and preorder:\n",
    "            node = Node(preorder[-1])\n",
    "            order_pos = inorder.index(preorder[0])\n",
    "            node.left = self.add_node(inorder[:order_pos+1],preorder[1:1+order_pos])\n",
    "            node.right = self.add_node(inorder[order_pos+1:],preorder[1+order_pos:])\n",
    "            return node\n",
    "tree = InPr()\n",
    "print(tree.add_node([4,2,5,1,6,3],[1,2,4,5,3,6]))"
   ]
  },
  {
   "cell_type": "markdown",
   "metadata": {},
   "source": [
    "# Tree using inorder and POstorder"
   ]
  },
  {
   "cell_type": "code",
   "execution_count": 19,
   "metadata": {
    "ExecuteTime": {
     "end_time": "2021-05-08T10:55:57.648972Z",
     "start_time": "2021-05-08T10:55:57.622045Z"
    }
   },
   "outputs": [
    {
     "name": "stdout",
     "output_type": "stream",
     "text": [
      "\n",
      "    __1__\n",
      "   /     \\\n",
      "  2       3\n",
      " / \\     / \\\n",
      "4   5   6   7\n",
      "\n"
     ]
    }
   ],
   "source": [
    "def construct(start, end, postorder, pIndex, dict):\n",
    "\n",
    "    if start > end:\n",
    "        return None, pIndex\n",
    "\n",
    "    root = Node(postorder[pIndex])\n",
    "    pIndex = pIndex - 1\n",
    " \n",
    "    index = dict[root.value]\n",
    "    root.right, pIndex = construct(index + 1, end, postorder, pIndex, dict)\n",
    "    root.left, pIndex = construct(start, index - 1, postorder, pIndex, dict)\n",
    "    \n",
    "    return root, pIndex\n",
    "\n",
    "def constructTree(inorder, postorder):\n",
    "    n = len(inorder)\n",
    "    dict = {}\n",
    "    for i, e in enumerate(inorder):\n",
    "        dict[e] = i\n",
    "    pIndex = n - 1\n",
    "    return construct(0, n - 1, postorder, pIndex, dict)[0]\n",
    " \n",
    "\n",
    "inorder = [4, 2, 5, 1, 6, 3, 7]\n",
    "postorder = [4, 5, 2, 6, 7, 3, 1]\n",
    " \n",
    "root = constructTree(inorder, postorder)\n",
    "print(root)"
   ]
  },
  {
   "cell_type": "markdown",
   "metadata": {
    "ExecuteTime": {
     "end_time": "2021-05-08T11:25:15.153487Z",
     "start_time": "2021-05-08T11:25:15.130838Z"
    }
   },
   "source": [
    "\n",
    "# Expression Tree"
   ]
  },
  {
   "cell_type": "code",
   "execution_count": 1,
   "metadata": {
    "ExecuteTime": {
     "end_time": "2021-05-15T12:10:14.017745Z",
     "start_time": "2021-05-15T12:10:14.001794Z"
    }
   },
   "outputs": [],
   "source": [
    "from ptopfix import PtoPConvertor\n",
    "from ptopfix import Node"
   ]
  },
  {
   "cell_type": "code",
   "execution_count": 25,
   "metadata": {
    "ExecuteTime": {
     "end_time": "2021-05-15T12:29:46.694347Z",
     "start_time": "2021-05-15T12:29:46.677391Z"
    }
   },
   "outputs": [],
   "source": [
    "class Stack:\n",
    "    def __init__(self,first_node,max_items):\n",
    "        self.head = Node(first_node)\n",
    "        self.max_items = max_items\n",
    "        self.len = 1\n",
    "        \n",
    "    def push(self,node):\n",
    "        if self.head == None:\n",
    "            self.head = node\n",
    "            self.len +=1\n",
    "        elif self.len < self.max_items:\n",
    "            current = self.head\n",
    "            self.head = node\n",
    "            self.head.next = current\n",
    "            self.len+=1\n",
    "        else:\n",
    "            raise Exception(\"Stack Memory is Full\")\n",
    "            \n",
    "    def pop(self):\n",
    "        if self.len == 0:\n",
    "            return None\n",
    "        else:\n",
    "            self.len -=1\n",
    "            deleted_node = self.head\n",
    "            self.head = self.head.next\n",
    "            current = self.head\n",
    "            return deleted_node\n",
    "            \n",
    "    def __len__(self):\n",
    "        return self.len"
   ]
  },
  {
   "cell_type": "code",
   "execution_count": 35,
   "metadata": {
    "ExecuteTime": {
     "end_time": "2021-05-15T12:33:39.405959Z",
     "start_time": "2021-05-15T12:33:39.374045Z"
    }
   },
   "outputs": [
    {
     "name": "stdout",
     "output_type": "stream",
     "text": [
      "Your Expression's Posfix is  ABC*+D/\n",
      "/\n"
     ]
    }
   ],
   "source": [
    "expression_set = [\"*\",\"/\",\"+\",\"-\"]\n",
    "class Expression_tree:\n",
    "    def __init__(self):\n",
    "        self.root = None\n",
    "    def add_node(self):\n",
    "        pass\n",
    "    def _create_tree(self,exp,stack):\n",
    "        for arg in exp:\n",
    "            if arg in expression_set:\n",
    "                right_node = stack.pop()\n",
    "                left_node = stack.pop()\n",
    "                root = Node(arg)\n",
    "                root.right = right_node\n",
    "                root.left = left_node\n",
    "                stack.push(root)\n",
    "            else:\n",
    "                stack.push(Node(arg))\n",
    "        self.root = stack.pop()\n",
    "    def create_tree(self,exp):\n",
    "        ptp = PtoPConvertor()\n",
    "        exp = ptp.postfix(exp)\n",
    "        print(\"Your Expression's Posfix is \",exp)\n",
    "        head_node = exp[0]\n",
    "        stack = Stack(head_node,len(exp))\n",
    "        exp = exp[1:]\n",
    "        self._create_tree(exp,stack)\n",
    "        return self.root\n",
    "exp_t = Expression_tree()\n",
    "root = exp_t.create_tree(\"(A+B*C)/D\")\n",
    "print(root.data)"
   ]
  },
  {
   "cell_type": "markdown",
   "metadata": {},
   "source": [
    "# Binary Search Tree"
   ]
  },
  {
   "cell_type": "code",
   "execution_count": 2,
   "metadata": {
    "ExecuteTime": {
     "end_time": "2021-05-30T07:12:25.348096Z",
     "start_time": "2021-05-30T07:12:25.303999Z"
    }
   },
   "outputs": [
    {
     "name": "stdout",
     "output_type": "stream",
     "text": [
      "\n",
      "        __________31_________\n",
      "       /                     \\\n",
      "      3____                  _53\n",
      "     /     \\                /   \\\n",
      "    2       13         ____45    54\n",
      "   /       /  \\       /\n",
      "  1       5    21    38\n",
      " /       /             \\\n",
      "0       4               42\n",
      "\n",
      "0\n",
      "54\n",
      "NO\n"
     ]
    }
   ],
   "source": [
    "from binarytree import Node\n",
    "\n",
    "class BinaryTree:\n",
    "    def __init__(self):\n",
    "        self.root = None\n",
    "        \n",
    "    def _find_node(self,current,node):\n",
    "        while current != None:\n",
    "            if current.value>node and current.left != None:\n",
    "                current = current.left\n",
    "            elif current.value<node and current.right != None:\n",
    "                current = current.right\n",
    "            else:\n",
    "                return current\n",
    "        return current\n",
    "    \n",
    "    def add_node(self,node):\n",
    "        if self.root == None:\n",
    "            self.root = Node(node)\n",
    "        else:\n",
    "            root = self.root\n",
    "            root = self._find_node(root,node)\n",
    "            if root.value>node:\n",
    "                root.left = Node(node)\n",
    "            else:\n",
    "                root.right = Node(node)\n",
    "        return self.root\n",
    "    \n",
    "    def find_min(self,node = None):\n",
    "        current = node or self.root\n",
    "        while current.left != None:\n",
    "            current = current.left\n",
    "        return current\n",
    "    \n",
    "    def find_max(self, node = None):\n",
    "        current = node or self.root\n",
    "        while current.right != None:\n",
    "            current = current.right\n",
    "        return current\n",
    "    \n",
    "    def find_node(self,node):\n",
    "        root = self.root\n",
    "        value = self._find_node(root,node)\n",
    "        if value.value == node:\n",
    "            print(\"YES\")\n",
    "        else: print(\"NO\")\n",
    "\n",
    "bnt = BinaryTree()\n",
    "for x in [31,3,2,13,21,53,54,45,38,1,0,42,5,4]:\n",
    "    node = bnt.add_node(x)\n",
    "print(node)\n",
    "print(bnt.find_min().value)\n",
    "print(bnt.find_max().value)\n",
    "bnt.find_node(123)"
   ]
  },
  {
   "cell_type": "code",
   "execution_count": 18,
   "metadata": {
    "ExecuteTime": {
     "end_time": "2021-05-30T07:31:23.456437Z",
     "start_time": "2021-05-30T07:31:23.425905Z"
    }
   },
   "outputs": [
    {
     "name": "stdout",
     "output_type": "stream",
     "text": [
      "\n",
      "        __________31_________\n",
      "       /                     \\\n",
      "      3____                  _53\n",
      "     /     \\                /   \\\n",
      "    2       13         ____45    54\n",
      "   /       /  \\       /\n",
      "  1       5    21    38\n",
      " /       /             \\\n",
      "0       4               42\n",
      "\n",
      "\n",
      "        ________31_________\n",
      "       /                   \\\n",
      "      4__                  _53\n",
      "     /   \\                /   \\\n",
      "    2     13         ____45    54\n",
      "   /     /  \\       /\n",
      "  1     5    21    38\n",
      " /                   \\\n",
      "0                     42\n",
      "\n"
     ]
    }
   ],
   "source": [
    "def find_parent(self,current,node):\n",
    "    while current != None:\n",
    "        parent = current\n",
    "        if current.left.value== node:\n",
    "            return parent, current.left\n",
    "        elif current.right.value == node:\n",
    "            return parent,current.right\n",
    "        if current.value>node and current.left != None:\n",
    "            current = current.left\n",
    "        elif current.value<node and current.right != None:\n",
    "            current = current.right\n",
    "        else:\n",
    "            return parent,current\n",
    "    return current,parent\n",
    "def delete_node(self,node):\n",
    "    root = self.root\n",
    "    parent,current= self.find_parent(root,node)\n",
    "    \n",
    "    #case1\n",
    "    if current.left == None and current.right == None:\n",
    "        if parent.left.value == current.value:\n",
    "            parent.left = None\n",
    "        else:\n",
    "            parent.right = None\n",
    "    #case2\n",
    "    elif(current.left and current.right) == None:\n",
    "        if current.left:\n",
    "            current.value = current.left.value\n",
    "            current.left = None\n",
    "        else:\n",
    "            current.value = current.right.value\n",
    "            current.right = None\n",
    "    #case3\n",
    "    #find inorder successor and replace with it \n",
    "    elif(current.left and current.right) != None:\n",
    "        ino_successor = self.find_min(current.right).value\n",
    "        delete_node(self,ino_successor)\n",
    "        current.value = ino_successor\n",
    "        \n",
    "BinaryTree.delete_node = delete_node\n",
    "BinaryTree.find_parent = find_parent\n",
    "bnt = BinaryTree()\n",
    "for x in [31,3,2,13,21,53,54,45,38,1,0,42,5,4]:\n",
    "    node = bnt.add_node(x)\n",
    "print(node)\n",
    "bnt.delete_node(3)\n",
    "print(node)"
   ]
  },
  {
   "cell_type": "code",
   "execution_count": null,
   "metadata": {},
   "outputs": [],
   "source": []
  }
 ],
 "metadata": {
  "kernelspec": {
   "display_name": "Python 3",
   "language": "python",
   "name": "python3"
  },
  "language_info": {
   "codemirror_mode": {
    "name": "ipython",
    "version": 3
   },
   "file_extension": ".py",
   "mimetype": "text/x-python",
   "name": "python",
   "nbconvert_exporter": "python",
   "pygments_lexer": "ipython3",
   "version": "3.7.3"
  }
 },
 "nbformat": 4,
 "nbformat_minor": 2
}
