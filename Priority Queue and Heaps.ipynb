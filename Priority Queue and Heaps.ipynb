{
 "cells": [
  {
   "cell_type": "markdown",
   "metadata": {},
   "source": [
    "# Prioirty Queue"
   ]
  },
  {
   "cell_type": "markdown",
   "metadata": {
    "ExecuteTime": {
     "end_time": "2021-05-30T08:42:59.603036Z",
     "start_time": "2021-05-30T08:42:59.592167Z"
    }
   },
   "source": [
    "Main functions are \n",
    "#Insert\n",
    "#Del max, Del min\n",
    "#Get min, Get Max"
   ]
  },
  {
   "cell_type": "markdown",
   "metadata": {
    "ExecuteTime": {
     "end_time": "2021-05-30T08:47:27.789966Z",
     "start_time": "2021-05-30T08:47:27.770491Z"
    }
   },
   "source": [
    "--> Priority Queue Implementations ->\n",
    "    Before discussing the actual implementation, let us enumerate the possible options. <br/>\n",
    "1 - Unordered Array Implementation\n",
    "    Elements are inserted into the array without bothering about the order. Deletions (DeleteMax) are searching the key and then deleting. \n",
    "    Insertions complexity: O(1). DeleteMin complexity: O(n).\n",
    "            \n",
    "2 - Unordered List Implementation\n",
    "    It is very similar to array implementation, but instead of using arrays, linked lists are used. \n",
    "    Insertions complexity: O(1). DeleteMin complexity: O(n).\n",
    "            \n",
    "3 - Ordered Array Implementation\n",
    "    Elements are inserted into the array in sorted order based on key field. Deletions are performed at only one end \n",
    "    Insertions complexity: O(n). DeleteMin complexity: O(1).\n",
    "            \n",
    "4 - Ordered List Implementation \n",
    "    Elements are inserted into the list in sorted order based on key field. Deletions are performed at only one hence preserving the status of the priority queue. All other functionalities associated with a linked list ADT art performed without modification. end \n",
    "    Insertions complexity: O(n). DeleteMin complexity: 0(1).\n",
    "            "
   ]
  },
  {
   "cell_type": "markdown",
   "metadata": {},
   "source": [
    "# HEAP "
   ]
  },
  {
   "cell_type": "markdown",
   "metadata": {},
   "source": [
    "Heap must be visualize as tree but it must be implemented with help pf array"
   ]
  },
  {
   "cell_type": "markdown",
   "metadata": {},
   "source": [
    "This tree must be form with the hepl of mathematical formation of binary tree <br/>\n",
    "Like Parent node of node(i) is at Floor(index/2)<br/>\n",
    "Left child is at 2*i+1<br/>\n",
    "Right child is as 2*i+2<br/>"
   ]
  },
  {
   "cell_type": "code",
   "execution_count": 10,
   "metadata": {
    "ExecuteTime": {
     "end_time": "2021-08-15T06:36:31.714701Z",
     "start_time": "2021-08-15T06:36:31.664120Z"
    }
   },
   "outputs": [
    {
     "name": "stdout",
     "output_type": "stream",
     "text": [
      "This is the level order of tree  HeaP Tree-> None\n",
      "This is the level order of tree  HeaP Tree-> [324, 17, 35, 1, 14, 3]\n"
     ]
    }
   ],
   "source": [
    "from math import floor\n",
    "class Heap:\n",
    "    minheapyfi = False\n",
    "    def __init__(self):\n",
    "        self.heapLi = []\n",
    "        self.heapSize = 0\n",
    "        self.sortedArr = []\n",
    "    \n",
    "    def parent(self, pos):\n",
    "        return self.heapLi[pos]\n",
    "    \n",
    "    #Index must be start with 0\n",
    "    def leftChild(self, pos):\n",
    "        return self.heapLi[2 * pos +1]\n",
    "    \n",
    "    #Index must be start with \n",
    "    def rightChild(self, pos):\n",
    "        return self.heapLi[(2 * pos) + 2]\n",
    "    \n",
    "    def swap(self,in1,in2):\n",
    "        self.heapLi[in1],self.heapLi[in2] = self.heapLi[in2],self.heapLi[in1]\n",
    "        \n",
    "    def min_child(self,i):\n",
    "        minn = self.heapLi[i]\n",
    "        m_indx = i\n",
    "        if 2*i+1 < self.heapSize:\n",
    "            if self.heapLi[2*i+1]<self.heapLi[i]:\n",
    "                minn = self.heapLi[2*i+1]\n",
    "                m_indx = 2*i+1\n",
    "        if 2*i+2 < self.heapSize:\n",
    "            if minn>self.heapLi[2*i+2]<self.heapLi[i]:\n",
    "                minn = self.heapLi[2*i+2]\n",
    "                m_indx = 2*i+2\n",
    "        return m_indx\n",
    "    \n",
    "    def max_child(self,i):\n",
    "        largest = self.heapLi[i]\n",
    "        l_indx = i\n",
    "        if 2*i+1 < self.heapSize:\n",
    "            if self.heapLi[2*i+1]>self.heapLi[i]:\n",
    "                largest = self.heapLi[2*i+1]\n",
    "                l_indx = 2*i+1\n",
    "        if 2*i+2 < self.heapSize:\n",
    "            if largest<self.heapLi[2*i+2]>self.heapLi[i]:\n",
    "                largest = self.heapLi[2*i+2]\n",
    "                l_indx = 2*i+2\n",
    "        return l_indx\n",
    "    \n",
    "    def heapyfi(self): #O(logn)\n",
    "        index = 0 if len(self.heapLi)==1 else len(self.heapLi)-1  \n",
    "        p_index = (index -1) // 2\n",
    "        while(self.heapLi[0] != self.parent(index)):\n",
    "            if self.minheapyfi:\n",
    "                child_inedx = self.min_child(p_index)\n",
    "            else:\n",
    "                child_inedx = self.max_child(p_index)\n",
    "            self.swap(child_inedx,p_index)\n",
    "            index = p_index\n",
    "            p_index = (index -1) // 2\n",
    "            \n",
    "    def add_element(self,element): #O(logn)\n",
    "        self.heapLi.append(element) #O(1) Amortized Worst Case\n",
    "        self.heapSize += 1\n",
    "        self.heapyfi() #O(logn)\n",
    "    \n",
    "    def heap_sort(self): #(nlogn)\n",
    "        while(self.heapLi):\n",
    "            first_element = self.heapLi[0]\n",
    "            last_element = self.heapLi.pop()\n",
    "            self.sortedArr.append(first_element)\n",
    "            if len(self.heapLi) != 0:\n",
    "                self.heapLi[0] = last_element\n",
    "                self.heapSize -=1\n",
    "                self.heapyfi()\n",
    "        return self.sortedArr\n",
    "        \n",
    "    def del_element(self): #O(logn)\n",
    "        first_element = self.heapLi[0]\n",
    "        last_element = self.heapLi.pop()\n",
    "        self.heapLi[0] = last_element\n",
    "        self.heapSize -=1\n",
    "        self.heapyfi()\n",
    "    \n",
    "    def get_heaf_li(self):\n",
    "        return self.heapLi\n",
    "    \n",
    "heap = Heap()\n",
    "for x in [17,1,3,14,324,35]:\n",
    "    heap.add_element(x)\n",
    "print(\"This is the level order of tree  HeaP Tree->\",heap.heapyfi())\n",
    "# print(\"This sorted array with heap sort --> \",heap.heap_sort())\n",
    "# print(\"This sorted array with heap sort --> \",heap.del_element())\n",
    "print(\"This is the level order of tree  HeaP Tree->\",heap.get_heaf_li())"
   ]
  },
  {
   "cell_type": "markdown",
   "metadata": {},
   "source": [
    "# Maximum Size in Sliding Window"
   ]
  },
  {
   "cell_type": "markdown",
   "metadata": {},
   "source": [
    "1 - Normal Looping: Iterating through the elements for all windows separately.<br/>\n",
    "2 - Using Heap Data Structure: Use a max-heap data structure to find the maximum element in the window at constant time.<br/>\n",
    "3 - Using Deque: Use a double-ended queue to store the elements of the window.<br/>"
   ]
  },
  {
   "cell_type": "raw",
   "metadata": {},
   "source": [
    "2 - Using heap algo<br/>\n",
    "    w - window\n",
    "    i -- First add w element in max_heapify tree -> complexit(O(nlogn)) <br/>\n",
    "    ii - Run looop from n+3 to n-3 --> (O(n)) <br/>\n",
    "        Inside the loop add the element (O(log))<br/>\n",
    "        Find max meanse take first element from hepayli --> (O(1))<br/>\n",
    "        delete first element --> (O(logn))<br/>\n",
    "So total Complexity for this method is O(nlogn)<br/>"
   ]
  },
  {
   "cell_type": "code",
   "execution_count": 4,
   "metadata": {
    "ExecuteTime": {
     "end_time": "2021-08-15T06:32:53.656184Z",
     "start_time": "2021-08-15T06:32:53.624761Z"
    }
   },
   "outputs": [
    {
     "name": "stdout",
     "output_type": "stream",
     "text": [
      "324 17 35 14 1 3 \n"
     ]
    }
   ],
   "source": [
    "def heapify(arr, n, i):\n",
    "  \n",
    "    largest = i;\n",
    "    l = 2 * i + 1; \n",
    "    r = 2 * i + 2; \n",
    "    if l < n and arr[l] > arr[largest]:\n",
    "        largest = l;\n",
    "    if r < n and arr[r] > arr[largest]:\n",
    "        largest = r;\n",
    "    if largest != i:\n",
    "        arr[i], arr[largest] = arr[largest], arr[i];\n",
    "        heapify(arr, n, largest);\n",
    "\n",
    "def buildHeap(arr, n):\n",
    "    startIdx = n // 2 - 1;\n",
    "    for i in range(startIdx, -1, -1):\n",
    "        heapify(arr, n, i);\n",
    "def printHeap(arr, n):\n",
    "    for i in range(n):\n",
    "        print(arr[i], end = \" \");\n",
    "    print();\n",
    "\n",
    "if __name__ == '__main__':\n",
    "    arr = [ 17,1,3,14,324,35];\n",
    "  \n",
    "    n = len(arr);\n",
    "  \n",
    "    buildHeap(arr, n);\n",
    "  \n",
    "    printHeap(arr, n);"
   ]
  },
  {
   "cell_type": "code",
   "execution_count": null,
   "metadata": {},
   "outputs": [],
   "source": []
  }
 ],
 "metadata": {
  "kernelspec": {
   "display_name": "Python 3",
   "language": "python",
   "name": "python3"
  },
  "language_info": {
   "codemirror_mode": {
    "name": "ipython",
    "version": 3
   },
   "file_extension": ".py",
   "mimetype": "text/x-python",
   "name": "python",
   "nbconvert_exporter": "python",
   "pygments_lexer": "ipython3",
   "version": "3.7.3"
  }
 },
 "nbformat": 4,
 "nbformat_minor": 2
}
